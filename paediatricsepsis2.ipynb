{
  "cells": [
    {
      "cell_type": "markdown",
      "metadata": {
        "id": "view-in-github",
        "colab_type": "text"
      },
      "source": [
        "<a href=\"https://colab.research.google.com/github/siphemkngwn/hy/blob/main/paediatricsepsis2.ipynb\" target=\"_parent\"><img src=\"https://colab.research.google.com/assets/colab-badge.svg\" alt=\"Open In Colab\"/></a>"
      ]
    },
    {
      "cell_type": "markdown",
      "metadata": {
        "id": "pe9wgHRmzns7"
      },
      "source": [
        "# New Section"
      ]
    },
    {
      "cell_type": "markdown",
      "metadata": {
        "id": "HLG9dPotBtJQ"
      },
      "source": [
        "# Import Pandas"
      ]
    },
    {
      "cell_type": "code",
      "execution_count": null,
      "metadata": {
        "id": "_j-IqjyCBzIj"
      },
      "outputs": [],
      "source": [
        "import pandas as pd\n"
      ]
    },
    {
      "cell_type": "code",
      "execution_count": null,
      "metadata": {
        "colab": {
          "base_uri": "https://localhost:8080/"
        },
        "id": "tdarr_whIp0y",
        "outputId": "bbe71d9f-0d36-4ee8-d668-02ee9ada8e25"
      },
      "outputs": [
        {
          "output_type": "stream",
          "name": "stdout",
          "text": [
            "      studyid_adm  agecalc_adm  height_cm_adm  weight_kg_adm  muac_mm_adm  \\\n",
            "0               1         16.8           79.8           11.6        150.0   \n",
            "1               2         46.1           93.0           13.6        151.0   \n",
            "2               3          7.9           68.2            8.2        148.0   \n",
            "3               4         38.2           95.0           12.0        138.0   \n",
            "4               5         16.1           83.0           12.0        165.0   \n",
            "...           ...          ...            ...            ...          ...   \n",
            "2681         2682         20.1           98.2           10.0        135.0   \n",
            "2682         2683         26.8           82.3           10.0        140.0   \n",
            "2683         2684         14.6           82.4           12.7        145.0   \n",
            "2684         2685          9.5           67.5            7.5        130.0   \n",
            "2685         2686         11.3           77.8            8.0        131.0   \n",
            "\n",
            "      hr_bpm_adm  rr_brpm_app_adm  sysbp_mmhg_adm  diasbp_mmhg_adm  \\\n",
            "0          130.0             23.0            92.0             54.0   \n",
            "1          115.0             35.0            72.0             42.0   \n",
            "2          150.0             56.0            94.0             51.0   \n",
            "3          134.0             38.0            94.0             57.0   \n",
            "4          163.0             61.0           107.0             73.0   \n",
            "...          ...              ...             ...              ...   \n",
            "2681       163.0             61.0           103.0             54.0   \n",
            "2682       115.0             37.0            83.0             50.0   \n",
            "2683       150.0             40.0            93.0             35.0   \n",
            "2684       145.0             26.0            88.0             52.0   \n",
            "2685       146.0             38.0           112.0             72.0   \n",
            "\n",
            "      temp_c_adm  ...                                        cookloc_adm  \\\n",
            "0           36.3  ...  In a separate building/building space used as ...   \n",
            "1           36.8  ...  In a separate building/building space used as ...   \n",
            "2           37.2  ...  In a separate building/building space used as ...   \n",
            "3           37.6  ...                       In the house where you sleep   \n",
            "4           38.7  ...                               Outdoors in the open   \n",
            "...          ...  ...                                                ...   \n",
            "2681        39.6  ...                               Outdoors in the open   \n",
            "2682        37.1  ...                               Outdoors in the open   \n",
            "2683        38.5  ...  In a separate building/building space used as ...   \n",
            "2684        37.3  ...  In a separate building/building space used as ...   \n",
            "2685        38.1  ...  In a separate building/building space used as ...   \n",
            "\n",
            "                       lightfuel_adm  tobacco_adm  bednet_adm  \\\n",
            "0     Electric bulbs (national grid)        Never      Always   \n",
            "1                            Tadooba        Never      Always   \n",
            "2                            Tadooba        Never      Always   \n",
            "3     Electric bulbs (national grid)        Never      Always   \n",
            "4     Electric bulbs (national grid)        Never   Sometimes   \n",
            "...                              ...          ...         ...   \n",
            "2681             Solar powered bulbs        Never      Always   \n",
            "2682  Electric bulbs (national grid)        Never   Sometimes   \n",
            "2683  Electric bulbs (national grid)        Never      Always   \n",
            "2684             Solar powered bulbs        Never      Always   \n",
            "2685  Electric bulbs (national grid)        Never      Always   \n",
            "\n",
            "      hctpretransfusion_adm  hivstatus_adm  malariastatuspos_adm  lengthadm  \\\n",
            "0                       Yes   HIV negative                    No          2   \n",
            "1                       Yes   HIV negative                   Yes          5   \n",
            "2                       Yes   HIV negative                    No          4   \n",
            "3                       NaN   HIV negative                   Yes          5   \n",
            "4                       Yes   HIV negative                   Yes          7   \n",
            "...                     ...            ...                   ...        ...   \n",
            "2681                    Yes   HIV negative                    No          3   \n",
            "2682                    NaN   HIV negative                    No          3   \n",
            "2683                    Yes   HIV negative                   Yes          2   \n",
            "2684                    Yes   HIV negative                    No          4   \n",
            "2685                    Yes   HIV negative                   Yes          2   \n",
            "\n",
            "      caregiver_adm_new  inhospital_mortality  \n",
            "0                Mother                     0  \n",
            "1                Mother                     0  \n",
            "2                Mother                     0  \n",
            "3                Mother                     0  \n",
            "4                Mother                     0  \n",
            "...                 ...                   ...  \n",
            "2681             Mother                     0  \n",
            "2682             Mother                     0  \n",
            "2683             Mother                     0  \n",
            "2684             Mother                     0  \n",
            "2685             Mother                     0  \n",
            "\n",
            "[2686 rows x 138 columns]\n"
          ]
        }
      ],
      "source": [
        "url='https://raw.githubusercontent.com/Kamaleswaran-Lab/The-2024-Pediatric-Sepsis-Challenge/refs/heads/main/SyntheticData_Training.csv'\n",
        "df=pd.read_csv(url)\n",
        "print(df)"
      ]
    },
    {
      "cell_type": "markdown",
      "metadata": {
        "id": "3zip9Kkg4qRA"
      },
      "source": [
        "# Show the whole list of columns"
      ]
    },
    {
      "cell_type": "code",
      "execution_count": null,
      "metadata": {
        "colab": {
          "base_uri": "https://localhost:8080/"
        },
        "id": "GT_eHvF24t6h",
        "outputId": "0455305d-ff94-4ba3-fb3a-8b169a44e91c"
      },
      "outputs": [
        {
          "output_type": "stream",
          "name": "stdout",
          "text": [
            "['studyid_adm', 'agecalc_adm', 'height_cm_adm', 'weight_kg_adm', 'muac_mm_adm', 'hr_bpm_adm', 'rr_brpm_app_adm', 'sysbp_mmhg_adm', 'diasbp_mmhg_adm', 'temp_c_adm', 'spo2site1_pc_oxi_adm', 'spo2site2_pc_oxi_adm', 'spo2other_adm', 'momage_adm', 'momagefirstpreg_adm', 'householdsize_adm', 'alivechildren_adm', 'deadchildren_adm', 'hematocrit_gpdl_adm', 'lactate_mmolpl_adm', 'lactate2_mmolpl_adm', 'glucose_mmolpl_adm', 'sqi1_perc_oxi_adm', 'sqi2_perc_oxi_adm', 'sex_adm', 'spo2onoxy_adm', 'oxygenavail_adm', 'respdistress_adm', 'caprefill_adm', 'bcseye_adm', 'bcsmotor_adm', 'bcsverbal_adm', 'admitabx_adm___1', 'admitabx_adm___2', 'admitabx_adm___3', 'admitabx_adm___4', 'admitabx_adm___5', 'admitabx_adm___6', 'admitabx_adm___7', 'admitabx_adm___8', 'admitabx_adm___9', 'admitabx_adm___10', 'admitabx_adm___11', 'admitabx_adm___12', 'admitabx_adm___13', 'admitabx_adm___14', 'admitabx_adm___15', 'admitabx_adm___16', 'admitabx_adm___17', 'admitabx_adm___18', 'admitabx_adm___19', 'admitabx_adm___20', 'admitabx_adm___21', 'bcgscar_adm', 'vaccmeasles_adm', 'vaccmeaslessource_adm', 'vaccpneumoc_adm', 'vaccpneumocsource_adm', 'vaccdpt_adm', 'vaccdptsource_adm', 'priorweekabx_adm', 'priorweekantimal_adm', 'symptoms_adm___1', 'symptoms_adm___2', 'symptoms_adm___3', 'symptoms_adm___4', 'symptoms_adm___5', 'symptoms_adm___6', 'symptoms_adm___7', 'symptoms_adm___8', 'symptoms_adm___9', 'symptoms_adm___10', 'symptoms_adm___11', 'symptoms_adm___12', 'symptoms_adm___13', 'symptoms_adm___14', 'symptoms_adm___15', 'symptoms_adm___16', 'symptoms_adm___18', 'comorbidity_adm___1', 'comorbidity_adm___2', 'comorbidity_adm___3', 'comorbidity_adm___4', 'comorbidity_adm___5', 'comorbidity_adm___6', 'comorbidity_adm___7', 'comorbidity_adm___8', 'comorbidity_adm___9', 'comorbidity_adm___10', 'comorbidity_adm___11', 'comorbidity_adm___12', 'priorhosp_adm', 'prioryearwheeze_adm', 'prioryearcough_adm', 'diarrheaoften_adm', 'tbcontact_adm', 'feedingstatus_adm', 'exclbreastfed_adm', 'nonexclbreastfed_adm', 'totalbreastfed_adm', 'deliveryloc_adm', 'birthattend_adm', 'duedateknown_adm', 'birthdetail_adm___1', 'birthdetail_adm___2', 'birthdetail_adm___3', 'birthdetail_adm___4', 'birthdetail_adm___5', 'birthdetail_adm___6', 'travelmethod_adm', 'traveldist_adm', 'badhealthduration_adm', 'caregiverage_adm', 'caregivermarried_adm', 'momalive_adm', 'momageknown_adm', 'momagefirstpregknown_adm', 'momedu_adm', 'momhiv_adm', 'watersource_adm', 'waterpure_adm', 'cookfuel_adm___1', 'cookfuel_adm___2', 'cookfuel_adm___3', 'cookfuel_adm___4', 'cookfuel_adm___5', 'cookfuel_adm___6', 'cookfuel_adm___7', 'cookloc_adm', 'lightfuel_adm', 'tobacco_adm', 'bednet_adm', 'hctpretransfusion_adm', 'hivstatus_adm', 'malariastatuspos_adm', 'lengthadm', 'caregiver_adm_new', 'inhospital_mortality']\n"
          ]
        }
      ],
      "source": [
        "column_list=df.columns.tolist()\n",
        "print(column_list)"
      ]
    },
    {
      "cell_type": "markdown",
      "metadata": {
        "id": "VSOTATTOCfra"
      },
      "source": [
        "# Age Categories\n"
      ]
    },
    {
      "cell_type": "code",
      "execution_count": null,
      "metadata": {
        "colab": {
          "base_uri": "https://localhost:8080/"
        },
        "id": "_VSGFF0QCjfg",
        "outputId": "aeb40171-50cf-421f-9c16-bf1e637044a0"
      },
      "outputs": [
        {
          "output_type": "stream",
          "name": "stdout",
          "text": [
            "      studyid_adm  agecalc_adm  height_cm_adm  weight_kg_adm  muac_mm_adm  \\\n",
            "0               1         16.8           79.8           11.6        150.0   \n",
            "1               2         46.1           93.0           13.6        151.0   \n",
            "2               3          7.9           68.2            8.2        148.0   \n",
            "3               4         38.2           95.0           12.0        138.0   \n",
            "4               5         16.1           83.0           12.0        165.0   \n",
            "...           ...          ...            ...            ...          ...   \n",
            "2681         2682         20.1           98.2           10.0        135.0   \n",
            "2682         2683         26.8           82.3           10.0        140.0   \n",
            "2683         2684         14.6           82.4           12.7        145.0   \n",
            "2684         2685          9.5           67.5            7.5        130.0   \n",
            "2685         2686         11.3           77.8            8.0        131.0   \n",
            "\n",
            "      hr_bpm_adm  rr_brpm_app_adm  sysbp_mmhg_adm  diasbp_mmhg_adm  \\\n",
            "0          130.0             23.0            92.0             54.0   \n",
            "1          115.0             35.0            72.0             42.0   \n",
            "2          150.0             56.0            94.0             51.0   \n",
            "3          134.0             38.0            94.0             57.0   \n",
            "4          163.0             61.0           107.0             73.0   \n",
            "...          ...              ...             ...              ...   \n",
            "2681       163.0             61.0           103.0             54.0   \n",
            "2682       115.0             37.0            83.0             50.0   \n",
            "2683       150.0             40.0            93.0             35.0   \n",
            "2684       145.0             26.0            88.0             52.0   \n",
            "2685       146.0             38.0           112.0             72.0   \n",
            "\n",
            "      temp_c_adm  ...                   lightfuel_adm  tobacco_adm  \\\n",
            "0           36.3  ...  Electric bulbs (national grid)        Never   \n",
            "1           36.8  ...                         Tadooba        Never   \n",
            "2           37.2  ...                         Tadooba        Never   \n",
            "3           37.6  ...  Electric bulbs (national grid)        Never   \n",
            "4           38.7  ...  Electric bulbs (national grid)        Never   \n",
            "...          ...  ...                             ...          ...   \n",
            "2681        39.6  ...             Solar powered bulbs        Never   \n",
            "2682        37.1  ...  Electric bulbs (national grid)        Never   \n",
            "2683        38.5  ...  Electric bulbs (national grid)        Never   \n",
            "2684        37.3  ...             Solar powered bulbs        Never   \n",
            "2685        38.1  ...  Electric bulbs (national grid)        Never   \n",
            "\n",
            "      bednet_adm  hctpretransfusion_adm  hivstatus_adm  malariastatuspos_adm  \\\n",
            "0         Always                    Yes   HIV negative                    No   \n",
            "1         Always                    Yes   HIV negative                   Yes   \n",
            "2         Always                    Yes   HIV negative                    No   \n",
            "3         Always                    NaN   HIV negative                   Yes   \n",
            "4      Sometimes                    Yes   HIV negative                   Yes   \n",
            "...          ...                    ...            ...                   ...   \n",
            "2681      Always                    Yes   HIV negative                    No   \n",
            "2682   Sometimes                    NaN   HIV negative                    No   \n",
            "2683      Always                    Yes   HIV negative                   Yes   \n",
            "2684      Always                    Yes   HIV negative                    No   \n",
            "2685      Always                    Yes   HIV negative                   Yes   \n",
            "\n",
            "      lengthadm  caregiver_adm_new  inhospital_mortality     agecat  \n",
            "0             2             Mother                     0    toddler  \n",
            "1             5             Mother                     0  preschool  \n",
            "2             4             Mother                     0     infant  \n",
            "3             5             Mother                     0  preschool  \n",
            "4             7             Mother                     0    toddler  \n",
            "...         ...                ...                   ...        ...  \n",
            "2681          3             Mother                     0    toddler  \n",
            "2682          3             Mother                     0    toddler  \n",
            "2683          2             Mother                     0    toddler  \n",
            "2684          4             Mother                     0     infant  \n",
            "2685          2             Mother                     0     infant  \n",
            "\n",
            "[2686 rows x 139 columns]\n",
            "0         toddler\n",
            "1       preschool\n",
            "2          infant\n",
            "3       preschool\n",
            "4         toddler\n",
            "          ...    \n",
            "2681      toddler\n",
            "2682      toddler\n",
            "2683      toddler\n",
            "2684       infant\n",
            "2685       infant\n",
            "Name: agecat, Length: 2686, dtype: category\n",
            "Categories (4, object): ['neonate' < 'infant' < 'toddler' < 'preschool']\n"
          ]
        }
      ],
      "source": [
        "bins=[0,1,12,35,float('Inf')]\n",
        "labels=['neonate','infant','toddler','preschool']\n",
        "# Fix: Added include_lowest=True so that age=0 is included as 'neonate'\n",
        "df['agecat']=pd.cut(df['agecalc_adm'],bins=bins,labels=labels,include_lowest=True)\n",
        "print(df)\n",
        "print(df.agecat)\n"
      ]
    },
    {
      "cell_type": "code",
      "source": [
        "df.agecat.value_counts()"
      ],
      "metadata": {
        "colab": {
          "base_uri": "https://localhost:8080/",
          "height": 241
        },
        "id": "jrUvOSn7L_HZ",
        "outputId": "ae5852d4-1d34-4667-e64c-d41ad6d6c3f7"
      },
      "execution_count": null,
      "outputs": [
        {
          "output_type": "execute_result",
          "data": {
            "text/plain": [
              "agecat\n",
              "toddler      1414\n",
              "infant        841\n",
              "preschool     431\n",
              "neonate         0\n",
              "Name: count, dtype: int64"
            ],
            "text/html": [
              "<div>\n",
              "<style scoped>\n",
              "    .dataframe tbody tr th:only-of-type {\n",
              "        vertical-align: middle;\n",
              "    }\n",
              "\n",
              "    .dataframe tbody tr th {\n",
              "        vertical-align: top;\n",
              "    }\n",
              "\n",
              "    .dataframe thead th {\n",
              "        text-align: right;\n",
              "    }\n",
              "</style>\n",
              "<table border=\"1\" class=\"dataframe\">\n",
              "  <thead>\n",
              "    <tr style=\"text-align: right;\">\n",
              "      <th></th>\n",
              "      <th>count</th>\n",
              "    </tr>\n",
              "    <tr>\n",
              "      <th>agecat</th>\n",
              "      <th></th>\n",
              "    </tr>\n",
              "  </thead>\n",
              "  <tbody>\n",
              "    <tr>\n",
              "      <th>toddler</th>\n",
              "      <td>1414</td>\n",
              "    </tr>\n",
              "    <tr>\n",
              "      <th>infant</th>\n",
              "      <td>841</td>\n",
              "    </tr>\n",
              "    <tr>\n",
              "      <th>preschool</th>\n",
              "      <td>431</td>\n",
              "    </tr>\n",
              "    <tr>\n",
              "      <th>neonate</th>\n",
              "      <td>0</td>\n",
              "    </tr>\n",
              "  </tbody>\n",
              "</table>\n",
              "</div><br><label><b>dtype:</b> int64</label>"
            ]
          },
          "metadata": {},
          "execution_count": 5
        }
      ]
    },
    {
      "cell_type": "code",
      "source": [
        "df = df[df['agecat'] == 'infant']"
      ],
      "metadata": {
        "id": "vvFc9tCTLyPS"
      },
      "execution_count": null,
      "outputs": []
    },
    {
      "cell_type": "markdown",
      "metadata": {
        "id": "ULgmlJQVCzoW"
      },
      "source": [
        "# Categorize MUAC"
      ]
    },
    {
      "cell_type": "code",
      "execution_count": null,
      "metadata": {
        "colab": {
          "base_uri": "https://localhost:8080/"
        },
        "id": "74ghsN61C4LP",
        "outputId": "be1aa087-bbd5-45fc-96a3-67d95321344d"
      },
      "outputs": [
        {
          "output_type": "stream",
          "name": "stdout",
          "text": [
            "      studyid_adm  agecalc_adm  height_cm_adm  weight_kg_adm  muac_mm_adm  \\\n",
            "2               3          7.9           68.2            8.2        148.0   \n",
            "7               8          6.7           65.0            7.8        160.0   \n",
            "8               9         10.7           65.0            5.9        118.0   \n",
            "11             12          9.1           70.0            8.7        150.0   \n",
            "12             13          8.1           64.0            6.0        115.0   \n",
            "...           ...          ...            ...            ...          ...   \n",
            "2674         2675          8.6           69.0            9.5        147.0   \n",
            "2679         2680          9.3           65.0            7.0        158.0   \n",
            "2680         2681          7.7           73.3            9.0        130.0   \n",
            "2684         2685          9.5           67.5            7.5        130.0   \n",
            "2685         2686         11.3           77.8            8.0        131.0   \n",
            "\n",
            "      hr_bpm_adm  rr_brpm_app_adm  sysbp_mmhg_adm  diasbp_mmhg_adm  \\\n",
            "2          150.0             56.0            94.0             51.0   \n",
            "7          173.0             70.0           120.0             60.0   \n",
            "8          132.0             45.0           104.0             66.0   \n",
            "11         168.0             44.0            88.0             57.0   \n",
            "12         185.0             65.0            95.0             55.0   \n",
            "...          ...              ...             ...              ...   \n",
            "2674       134.0             24.0            96.0             62.0   \n",
            "2679       139.0             40.0           100.0             56.0   \n",
            "2680       174.0             73.0           103.0             69.0   \n",
            "2684       145.0             26.0            88.0             52.0   \n",
            "2685       146.0             38.0           112.0             72.0   \n",
            "\n",
            "      temp_c_adm  ...  tobacco_adm  bednet_adm  hctpretransfusion_adm  \\\n",
            "2           37.2  ...        Never      Always                    Yes   \n",
            "7           36.9  ...        Never      Always                    Yes   \n",
            "8           36.8  ...        Never      Always                    Yes   \n",
            "11          38.1  ...        Never      Always                    Yes   \n",
            "12          36.8  ...        Never   Sometimes                    Yes   \n",
            "...          ...  ...          ...         ...                    ...   \n",
            "2674        37.4  ...        Never      Always                     No   \n",
            "2679        39.1  ...        Never      Always                    Yes   \n",
            "2680        36.5  ...        Never      Always                     No   \n",
            "2684        37.3  ...        Never      Always                    Yes   \n",
            "2685        38.1  ...        Never      Always                    Yes   \n",
            "\n",
            "      hivstatus_adm  malariastatuspos_adm  lengthadm  caregiver_adm_new  \\\n",
            "2      HIV negative                    No          4             Mother   \n",
            "7      HIV negative                    No          2             Mother   \n",
            "8      HIV negative                    No         13             Mother   \n",
            "11     HIV negative                   Yes          4             Mother   \n",
            "12     HIV negative                    No          3             Mother   \n",
            "...             ...                   ...        ...                ...   \n",
            "2674   HIV negative                    No          2             Mother   \n",
            "2679   HIV negative                    No         11             Mother   \n",
            "2680   HIV negative                    No          3             Mother   \n",
            "2684   HIV negative                    No          4             Mother   \n",
            "2685   HIV negative                   Yes          2             Mother   \n",
            "\n",
            "      inhospital_mortality  agecat  muac_cat  \n",
            "2                        0  infant    normal  \n",
            "7                        0  infant    normal  \n",
            "8                        0  infant       mam  \n",
            "11                       0  infant    normal  \n",
            "12                       0  infant       sam  \n",
            "...                    ...     ...       ...  \n",
            "2674                     0  infant    normal  \n",
            "2679                     0  infant    normal  \n",
            "2680                     0  infant    normal  \n",
            "2684                     0  infant    normal  \n",
            "2685                     0  infant    normal  \n",
            "\n",
            "[841 rows x 140 columns]\n",
            "2       normal\n",
            "7       normal\n",
            "8          mam\n",
            "11      normal\n",
            "12         sam\n",
            "         ...  \n",
            "2674    normal\n",
            "2679    normal\n",
            "2680    normal\n",
            "2684    normal\n",
            "2685    normal\n",
            "Name: muac_cat, Length: 841, dtype: category\n",
            "Categories (3, object): ['sam' < 'mam' < 'normal']\n"
          ]
        }
      ],
      "source": [
        "bins=[0,115,125,float('Inf')]\n",
        "\n",
        "labels=['sam','mam','normal']\n",
        "df['muac_cat']=pd.cut(df['muac_mm_adm'],bins=bins,labels=labels)\n",
        "print(df)\n",
        "print(df.muac_cat)"
      ]
    },
    {
      "cell_type": "markdown",
      "metadata": {
        "id": "K0lJs1RXDBCn"
      },
      "source": [
        "# Categorise Fever"
      ]
    },
    {
      "cell_type": "code",
      "execution_count": null,
      "metadata": {
        "colab": {
          "base_uri": "https://localhost:8080/"
        },
        "id": "MTZOxIpPDG3g",
        "outputId": "af097420-765e-4963-bcaa-8e671474c9be"
      },
      "outputs": [
        {
          "output_type": "stream",
          "name": "stdout",
          "text": [
            "      studyid_adm  agecalc_adm  height_cm_adm  weight_kg_adm  muac_mm_adm  \\\n",
            "2               3          7.9           68.2            8.2        148.0   \n",
            "7               8          6.7           65.0            7.8        160.0   \n",
            "8               9         10.7           65.0            5.9        118.0   \n",
            "11             12          9.1           70.0            8.7        150.0   \n",
            "12             13          8.1           64.0            6.0        115.0   \n",
            "...           ...          ...            ...            ...          ...   \n",
            "2674         2675          8.6           69.0            9.5        147.0   \n",
            "2679         2680          9.3           65.0            7.0        158.0   \n",
            "2680         2681          7.7           73.3            9.0        130.0   \n",
            "2684         2685          9.5           67.5            7.5        130.0   \n",
            "2685         2686         11.3           77.8            8.0        131.0   \n",
            "\n",
            "      hr_bpm_adm  rr_brpm_app_adm  sysbp_mmhg_adm  diasbp_mmhg_adm  \\\n",
            "2          150.0             56.0            94.0             51.0   \n",
            "7          173.0             70.0           120.0             60.0   \n",
            "8          132.0             45.0           104.0             66.0   \n",
            "11         168.0             44.0            88.0             57.0   \n",
            "12         185.0             65.0            95.0             55.0   \n",
            "...          ...              ...             ...              ...   \n",
            "2674       134.0             24.0            96.0             62.0   \n",
            "2679       139.0             40.0           100.0             56.0   \n",
            "2680       174.0             73.0           103.0             69.0   \n",
            "2684       145.0             26.0            88.0             52.0   \n",
            "2685       146.0             38.0           112.0             72.0   \n",
            "\n",
            "      temp_c_adm  ...  bednet_adm  hctpretransfusion_adm  hivstatus_adm  \\\n",
            "2           37.2  ...      Always                    Yes   HIV negative   \n",
            "7           36.9  ...      Always                    Yes   HIV negative   \n",
            "8           36.8  ...      Always                    Yes   HIV negative   \n",
            "11          38.1  ...      Always                    Yes   HIV negative   \n",
            "12          36.8  ...   Sometimes                    Yes   HIV negative   \n",
            "...          ...  ...         ...                    ...            ...   \n",
            "2674        37.4  ...      Always                     No   HIV negative   \n",
            "2679        39.1  ...      Always                    Yes   HIV negative   \n",
            "2680        36.5  ...      Always                     No   HIV negative   \n",
            "2684        37.3  ...      Always                    Yes   HIV negative   \n",
            "2685        38.1  ...      Always                    Yes   HIV negative   \n",
            "\n",
            "      malariastatuspos_adm  lengthadm  caregiver_adm_new  \\\n",
            "2                       No          4             Mother   \n",
            "7                       No          2             Mother   \n",
            "8                       No         13             Mother   \n",
            "11                     Yes          4             Mother   \n",
            "12                      No          3             Mother   \n",
            "...                    ...        ...                ...   \n",
            "2674                    No          2             Mother   \n",
            "2679                    No         11             Mother   \n",
            "2680                    No          3             Mother   \n",
            "2684                    No          4             Mother   \n",
            "2685                   Yes          2             Mother   \n",
            "\n",
            "      inhospital_mortality  agecat  muac_cat     temp_cat  \n",
            "2                        0  infant    normal  normal_temp  \n",
            "7                        0  infant    normal  normal_temp  \n",
            "8                        0  infant       mam  normal_temp  \n",
            "11                       0  infant    normal        fever  \n",
            "12                       0  infant       sam  normal_temp  \n",
            "...                    ...     ...       ...          ...  \n",
            "2674                     0  infant    normal  normal_temp  \n",
            "2679                     0  infant    normal        fever  \n",
            "2680                     0  infant    normal  hypothermia  \n",
            "2684                     0  infant    normal  normal_temp  \n",
            "2685                     0  infant    normal        fever  \n",
            "\n",
            "[841 rows x 141 columns]\n",
            "2       normal_temp\n",
            "7       normal_temp\n",
            "8       normal_temp\n",
            "11            fever\n",
            "12      normal_temp\n",
            "           ...     \n",
            "2674    normal_temp\n",
            "2679          fever\n",
            "2680    hypothermia\n",
            "2684    normal_temp\n",
            "2685          fever\n",
            "Name: temp_cat, Length: 841, dtype: category\n",
            "Categories (3, object): ['hypothermia' < 'normal_temp' < 'fever']\n"
          ]
        }
      ],
      "source": [
        "bins=[0,36.5,37.5,float('Inf')]\n",
        "labels=['hypothermia','normal_temp','fever']\n",
        "df['temp_cat']=pd.cut(df['temp_c_adm'],bins=bins,labels=labels)\n",
        "print(df)\n",
        "print(df.temp_cat)"
      ]
    },
    {
      "cell_type": "markdown",
      "metadata": {
        "id": "15iQvNHwF0zi"
      },
      "source": [
        "# See all Columns"
      ]
    },
    {
      "cell_type": "code",
      "execution_count": null,
      "metadata": {
        "colab": {
          "base_uri": "https://localhost:8080/"
        },
        "id": "WolPo0SNF3Fw",
        "outputId": "359bd88a-943f-4d7c-cf02-ddbf50adef49"
      },
      "outputs": [
        {
          "output_type": "stream",
          "name": "stdout",
          "text": [
            "['studyid_adm', 'agecalc_adm', 'height_cm_adm', 'weight_kg_adm', 'muac_mm_adm', 'hr_bpm_adm', 'rr_brpm_app_adm', 'sysbp_mmhg_adm', 'diasbp_mmhg_adm', 'temp_c_adm', 'spo2site1_pc_oxi_adm', 'spo2site2_pc_oxi_adm', 'spo2other_adm', 'momage_adm', 'momagefirstpreg_adm', 'householdsize_adm', 'alivechildren_adm', 'deadchildren_adm', 'hematocrit_gpdl_adm', 'lactate_mmolpl_adm', 'lactate2_mmolpl_adm', 'glucose_mmolpl_adm', 'sqi1_perc_oxi_adm', 'sqi2_perc_oxi_adm', 'sex_adm', 'spo2onoxy_adm', 'oxygenavail_adm', 'respdistress_adm', 'caprefill_adm', 'bcseye_adm', 'bcsmotor_adm', 'bcsverbal_adm', 'admitabx_adm___1', 'admitabx_adm___2', 'admitabx_adm___3', 'admitabx_adm___4', 'admitabx_adm___5', 'admitabx_adm___6', 'admitabx_adm___7', 'admitabx_adm___8', 'admitabx_adm___9', 'admitabx_adm___10', 'admitabx_adm___11', 'admitabx_adm___12', 'admitabx_adm___13', 'admitabx_adm___14', 'admitabx_adm___15', 'admitabx_adm___16', 'admitabx_adm___17', 'admitabx_adm___18', 'admitabx_adm___19', 'admitabx_adm___20', 'admitabx_adm___21', 'bcgscar_adm', 'vaccmeasles_adm', 'vaccmeaslessource_adm', 'vaccpneumoc_adm', 'vaccpneumocsource_adm', 'vaccdpt_adm', 'vaccdptsource_adm', 'priorweekabx_adm', 'priorweekantimal_adm', 'symptoms_adm___1', 'symptoms_adm___2', 'symptoms_adm___3', 'symptoms_adm___4', 'symptoms_adm___5', 'symptoms_adm___6', 'symptoms_adm___7', 'symptoms_adm___8', 'symptoms_adm___9', 'symptoms_adm___10', 'symptoms_adm___11', 'symptoms_adm___12', 'symptoms_adm___13', 'symptoms_adm___14', 'symptoms_adm___15', 'symptoms_adm___16', 'symptoms_adm___18', 'comorbidity_adm___1', 'comorbidity_adm___2', 'comorbidity_adm___3', 'comorbidity_adm___4', 'comorbidity_adm___5', 'comorbidity_adm___6', 'comorbidity_adm___7', 'comorbidity_adm___8', 'comorbidity_adm___9', 'comorbidity_adm___10', 'comorbidity_adm___11', 'comorbidity_adm___12', 'priorhosp_adm', 'prioryearwheeze_adm', 'prioryearcough_adm', 'diarrheaoften_adm', 'tbcontact_adm', 'feedingstatus_adm', 'exclbreastfed_adm', 'nonexclbreastfed_adm', 'totalbreastfed_adm', 'deliveryloc_adm', 'birthattend_adm', 'duedateknown_adm', 'birthdetail_adm___1', 'birthdetail_adm___2', 'birthdetail_adm___3', 'birthdetail_adm___4', 'birthdetail_adm___5', 'birthdetail_adm___6', 'travelmethod_adm', 'traveldist_adm', 'badhealthduration_adm', 'caregiverage_adm', 'caregivermarried_adm', 'momalive_adm', 'momageknown_adm', 'momagefirstpregknown_adm', 'momedu_adm', 'momhiv_adm', 'watersource_adm', 'waterpure_adm', 'cookfuel_adm___1', 'cookfuel_adm___2', 'cookfuel_adm___3', 'cookfuel_adm___4', 'cookfuel_adm___5', 'cookfuel_adm___6', 'cookfuel_adm___7', 'cookloc_adm', 'lightfuel_adm', 'tobacco_adm', 'bednet_adm', 'hctpretransfusion_adm', 'hivstatus_adm', 'malariastatuspos_adm', 'lengthadm', 'caregiver_adm_new', 'inhospital_mortality', 'agecat', 'muac_cat', 'temp_cat']\n"
          ]
        }
      ],
      "source": [
        "column_list=df.columns.tolist()\n",
        "print(column_list)"
      ]
    },
    {
      "cell_type": "markdown",
      "metadata": {
        "id": "bRCP6_SCIAzi"
      },
      "source": [
        "# Resp Rate Category\n",
        "### Show unique categories"
      ]
    },
    {
      "cell_type": "code",
      "execution_count": null,
      "metadata": {
        "id": "e4y_W1r83p-F"
      },
      "outputs": [],
      "source": [
        "import numpy as np\n"
      ]
    },
    {
      "cell_type": "code",
      "execution_count": null,
      "metadata": {
        "colab": {
          "base_uri": "https://localhost:8080/"
        },
        "id": "7AHBaADMY-KD",
        "outputId": "3ce0d360-24f2-4f55-aaa8-1372facf5340"
      },
      "outputs": [
        {
          "output_type": "stream",
          "name": "stdout",
          "text": [
            "2       tachypnea\n",
            "7       tachypnea\n",
            "8          normal\n",
            "11         normal\n",
            "12      tachypnea\n",
            "          ...    \n",
            "2674       normal\n",
            "2679       normal\n",
            "2680    tachypnea\n",
            "2684       normal\n",
            "2685       normal\n",
            "Name: breaths, Length: 841, dtype: object\n"
          ]
        },
        {
          "output_type": "execute_result",
          "data": {
            "text/plain": [
              "array(['tachypnea', 'normal'], dtype=object)"
            ]
          },
          "metadata": {},
          "execution_count": 11
        }
      ],
      "source": [
        "df['breaths'] = np.where((df.agecat=='neonate')&(df.rr_brpm_app_adm>=53),'tachypnea','normal')\n",
        "df['breaths'] = np.where((df.agecat=='neonate')&((df.rr_brpm_app_adm>=29)&(df.rr_brpm_app_adm<=53)),'normal',df['breaths'])\n",
        "df['breaths'] = np.where((df.agecat=='neonate')&(df.rr_brpm_app_adm<=29),'bradypnea',df['breaths'])\n",
        "df['breaths'] = np.where((df.agecat=='infant')&(df.rr_brpm_app_adm<=29),'bradypnea',df['breaths'])\n",
        "# Fix: Added missing parenthesis for consistency\n",
        "df['breaths'] = np.where((df.agecat=='infant')&((df.rr_brpm_app_adm>=30)&(df.rr_brpm_app_adm<=53)),'normal',df['breaths'])\n",
        "df['breaths'] = np.where((df.agecat=='infant')&(df.rr_brpm_app_adm>=53),'tachypnea',df['breaths'])\n",
        "df['breaths'] = np.where((df.agecat=='toddler')&(df.rr_brpm_app_adm<=21),'bradypnea',df['breaths'])\n",
        "df['breaths'] = np.where((df.agecat=='toddler')&((df.rr_brpm_app_adm>=22)&(df.rr_brpm_app_adm<=37)),'normal',df['breaths'])\n",
        "df['breaths'] = np.where((df.agecat=='toddler')&(df.rr_brpm_app_adm>=37),'tachypnea',df['breaths'])\n",
        "df['breaths'] = np.where((df.agecat=='preschool')&(df.rr_brpm_app_adm<=19),'bradypnea',df['breaths'])\n",
        "df['breaths'] = np.where((df.agecat=='preschool')&((df.rr_brpm_app_adm>=20)&(df.rr_brpm_app_adm<=28)),'normal',df['breaths'])\n",
        "df['breaths'] = np.where((df.agecat=='preschool')&(df.rr_brpm_app_adm>=28),'tachypnea',df['breaths'])\n",
        "\n",
        "\n",
        "print(df.breaths)\n",
        "df.breaths.unique()\n",
        "\n",
        "\n",
        "\n",
        "\n"
      ]
    },
    {
      "cell_type": "code",
      "execution_count": null,
      "metadata": {
        "id": "h_BMaIeGZVu1",
        "outputId": "dc6db293-c48d-493f-c8e2-f5a228778dd9",
        "colab": {
          "base_uri": "https://localhost:8080/"
        }
      },
      "outputs": [
        {
          "output_type": "stream",
          "name": "stdout",
          "text": [
            "2       tachypnea\n",
            "7       tachypnea\n",
            "8          normal\n",
            "11         normal\n",
            "12      tachypnea\n",
            "          ...    \n",
            "2674       normal\n",
            "2679       normal\n",
            "2680    tachypnea\n",
            "2684       normal\n",
            "2685       normal\n",
            "Name: breaths, Length: 841, dtype: object\n"
          ]
        }
      ],
      "source": [
        "print(df.breaths)"
      ]
    },
    {
      "cell_type": "markdown",
      "metadata": {
        "id": "qTGUSz4PbnQj"
      },
      "source": [
        "# HR categories"
      ]
    },
    {
      "cell_type": "code",
      "execution_count": null,
      "metadata": {
        "id": "5eNor5i6brPO"
      },
      "outputs": [],
      "source": [
        "df['hrcat'] = np.where((df.agecat=='neonate')&(df.hr_bpm_adm<=205),'tachycardia','normal')\n",
        "df['hrcat'] = np.where((df.agecat=='neonate')&((df.hr_bpm_adm>=90)&(df.hr_bpm_adm<=205)),'normal',df['hrcat'])\n",
        "df['hrcat'] = np.where((df.agecat=='neonate')&(df.hr_bpm_adm<=89),'bradycardia',df['hrcat'])\n",
        "df['hrcat'] = np.where((df.agecat=='infant')&(df.hr_bpm_adm<=89),'bradycardia',df['hrcat'])\n",
        "# Fix: Added missing parenthesis for consistency\n",
        "df['hrcat'] = np.where((df.agecat=='infant')&((df.hr_bpm_adm>=90)&(df.hr_bpm_adm<=190)),'normal',df['hrcat'])\n",
        "df['hrcat'] = np.where((df.agecat=='infant')&(df.hr_bpm_adm>=191),'tachycardia',df['hrcat'])\n",
        "df['hrcat'] = np.where((df.agecat=='toddler')&(df.hr_bpm_adm<=80),'bradycardia',df['hrcat'])\n",
        "df['hrcat'] = np.where((df.agecat=='toddler')&((df.hr_bpm_adm>=81)&(df.hr_bpm_adm<=140)),'normal',df['hrcat'])\n",
        "df['hrcat'] = np.where((df.agecat=='toddler')&(df.hr_bpm_adm>=141),'tachycardia',df['hrcat'])\n",
        "df['hrcat'] = np.where((df.agecat=='preschool')&(df.hr_bpm_adm<=65),'bradycardia',df['hrcat'])\n",
        "df['hrcat'] = np.where((df.agecat=='preschool')&((df.hr_bpm_adm>=66)&(df.hr_bpm_adm<=120)),'normal',df['hrcat'])\n",
        "df['hrcat'] = np.where((df.agecat=='preschool')&(df.hr_bpm_adm>=121),'tachycardia',df['hrcat'])\n"
      ]
    },
    {
      "cell_type": "code",
      "execution_count": null,
      "metadata": {
        "colab": {
          "base_uri": "https://localhost:8080/"
        },
        "id": "Oq0rohKHgwbz",
        "outputId": "5ad47c26-e5af-4c98-8cc1-590ea41baf7f"
      },
      "outputs": [
        {
          "output_type": "stream",
          "name": "stdout",
          "text": [
            "['normal' 'tachycardia']\n"
          ]
        }
      ],
      "source": [
        "print(df.hrcat.unique())"
      ]
    },
    {
      "cell_type": "markdown",
      "metadata": {
        "id": "wdEbhR31hyJt"
      },
      "source": [
        "#Blood pressure - systolic"
      ]
    },
    {
      "cell_type": "code",
      "execution_count": null,
      "metadata": {
        "id": "PzU3HYyth17B"
      },
      "outputs": [],
      "source": [
        "df['bpsys'] = np.where((df.agecat=='neonate')&(df.sysbp_mmhg_adm>=85),'hypertension','normal')\n",
        "df['bpsys'] = np.where((df.agecat=='neonate')&((df.sysbp_mmhg_adm>=67)&(df.sysbp_mmhg_adm<=84)),'normal',df['bpsys'])\n",
        "df['bpsys'] = np.where((df.agecat=='neonate')&(df.sysbp_mmhg_adm<=67),'hypotension',df['bpsys'])\n",
        "df['bpsys'] = np.where((df.agecat=='infant')&(df.sysbp_mmhg_adm<=71),'hypotension',df['bpsys'])\n",
        "# Fix: Added missing parenthesis for consistency\n",
        "df['bpsys'] = np.where((df.agecat=='infant')&((df.sysbp_mmhg_adm>=72)&(df.sysbp_mmhg_adm<=104)),'normal',df['bpsys'])\n",
        "df['bpsys'] = np.where((df.agecat=='infant')&(df.sysbp_mmhg_adm>=105),'hypertension',df['bpsys'])\n",
        "df['bpsys'] = np.where((df.agecat=='toddler')&(df.sysbp_mmhg_adm<=85),'hypotension',df['bpsys'])\n",
        "df['bpsys'] = np.where((df.agecat=='toddler')&((df.sysbp_mmhg_adm>=86)&(df.sysbp_mmhg_adm<=106)),'normal',df['bpsys'])\n",
        "df['bpsys'] = np.where((df.agecat=='toddler')&(df.sysbp_mmhg_adm>=107),'hypertension',df['bpsys'])\n",
        "df['bpsys'] = np.where((df.agecat=='preschool')&(df.sysbp_mmhg_adm<=88),'hypotension',df['bpsys'])\n",
        "df['bpsys'] = np.where((df.agecat=='preschool')&((df.sysbp_mmhg_adm>=89)&(df.sysbp_mmhg_adm<=112)),'normal',df['bpsys'])\n",
        "df['bpsys'] = np.where((df.agecat=='preschool')&(df.sysbp_mmhg_adm>=113),'hypertension',df['bpsys'])"
      ]
    },
    {
      "cell_type": "code",
      "execution_count": null,
      "metadata": {
        "id": "JOqgU98un-0K",
        "outputId": "518a15c3-31b5-4cc1-b0b9-fac59b58b2f0",
        "colab": {
          "base_uri": "https://localhost:8080/"
        }
      },
      "outputs": [
        {
          "output_type": "stream",
          "name": "stdout",
          "text": [
            "['normal' 'hypertension']\n"
          ]
        }
      ],
      "source": [
        "print(df.bpsys.unique())"
      ]
    },
    {
      "cell_type": "markdown",
      "metadata": {
        "id": "vyaAB3OV32ar"
      },
      "source": [
        "# Blood pressure - diastolic"
      ]
    },
    {
      "cell_type": "code",
      "execution_count": null,
      "metadata": {
        "id": "Tbbp9qL_36Gz"
      },
      "outputs": [],
      "source": [
        "df['bpdias'] = np.where((df.agecat=='neonate')&(df.diasbp_mmhg_adm<=34),'low_diastolic','normal')\n",
        "df['bpdias'] = np.where((df.agecat=='neonate')&((df.diasbp_mmhg_adm>=35)&(df.diasbp_mmhg_adm<=53)),'normal',df['bpdias'])\n",
        "df['bpdias'] = np.where((df.agecat=='neonate')&(df.diasbp_mmhg_adm >=54),'high_diastolic',df['bpdias'])\n",
        "df['bpdias'] = np.where((df.agecat=='infant')&(df.diasbp_mmhg_adm<=36),'low_diastolic',df['bpdias'])\n",
        "# Fix: Added missing parenthesis for consistency\n",
        "df['bpdias'] = np.where((df.agecat=='infant')&((df.diasbp_mmhg_adm>=37)&(df.diasbp_mmhg_adm<=56)),'normal',df['bpdias'])\n",
        "df['bpdias'] = np.where((df.agecat=='infant')&(df.diasbp_mmhg_adm>=63),'high_diastolic',df['bpdias'])\n",
        "df['bpdias'] = np.where((df.agecat=='toddler')&(df.diasbp_mmhg_adm<=41),'low_diastolic',df['bpdias'])\n",
        "# Fix: Changed >=63 to <=63 for correct range (42-63)\n",
        "df['bpdias'] = np.where((df.agecat=='toddler')&((df.diasbp_mmhg_adm>=42)&(df.diasbp_mmhg_adm<=63)),'normal',df['bpdias'])\n",
        "df['bpdias'] = np.where((df.agecat=='toddler')&(df.diasbp_mmhg_adm>=64),'high_diastolic',df['bpdias'])\n",
        "df['bpdias'] = np.where((df.agecat=='preschool')&(df.diasbp_mmhg_adm<=45),'low_diastolic',df['bpdias'])\n",
        "# Fix: Changed <=46 to >=46 for correct range (46-72)\n",
        "df['bpdias'] = np.where((df.agecat=='preschool')&((df.diasbp_mmhg_adm>=46)&(df.diasbp_mmhg_adm<=72)),'normal',df['bpdias'])\n",
        "df['bpdias'] = np.where((df.agecat=='preschool')&(df.diasbp_mmhg_adm>=73),'high_diastolic',df['bpdias'])"
      ]
    },
    {
      "cell_type": "markdown",
      "metadata": {
        "id": "UzQkXnlIBkzb"
      },
      "source": [
        "# Capillary refill"
      ]
    },
    {
      "cell_type": "markdown",
      "metadata": {
        "id": "Ps6D4m1oCdu-"
      },
      "source": []
    },
    {
      "cell_type": "code",
      "execution_count": null,
      "metadata": {
        "colab": {
          "base_uri": "https://localhost:8080/"
        },
        "id": "znqRCpW5By7J",
        "outputId": "690074cb-7b98-47c7-ea5f-f5168771962e"
      },
      "outputs": [
        {
          "output_type": "stream",
          "name": "stdout",
          "text": [
            "['No' 'Yes' nan]\n"
          ]
        }
      ],
      "source": [
        "print(df.caprefill_adm.unique())"
      ]
    },
    {
      "cell_type": "markdown",
      "metadata": {
        "id": "f7zbbaCYFKsh"
      },
      "source": [
        "# Temperature Category"
      ]
    },
    {
      "cell_type": "code",
      "execution_count": null,
      "metadata": {
        "colab": {
          "base_uri": "https://localhost:8080/"
        },
        "id": "w2EAUybpFyUY",
        "outputId": "5127691f-ad74-4cb4-ecd9-443f44e4813f"
      },
      "outputs": [
        {
          "output_type": "stream",
          "name": "stdout",
          "text": [
            "['normal_temp', 'fever', 'hypothermia', NaN]\n",
            "Categories (3, object): ['hypothermia' < 'normal_temp' < 'fever']\n"
          ]
        }
      ],
      "source": [
        "# Note: Temperature categorization was already done earlier, just checking the unique values\n",
        "print(df.temp_cat.unique())"
      ]
    },
    {
      "cell_type": "markdown",
      "metadata": {
        "id": "eVmTn0dTGFEj"
      },
      "source": [
        "#Hypoxia Categories with Sats of 90 cutoff\n",
        "\n",
        "1.   List item\n",
        "2.   List item\n",
        "\n"
      ]
    },
    {
      "cell_type": "code",
      "execution_count": null,
      "metadata": {
        "id": "bj9JSPwTGIjN"
      },
      "outputs": [],
      "source": [
        "bins=[0,90,float('Inf')]\n",
        "labels=['hypoxia','normal_oxygenation']\n",
        "df['sats_cat']=pd.cut(df['spo2site1_pc_oxi_adm'],bins=bins,labels=labels)\n"
      ]
    },
    {
      "cell_type": "code",
      "execution_count": null,
      "metadata": {
        "colab": {
          "base_uri": "https://localhost:8080/"
        },
        "id": "QTqHscSIHBvu",
        "outputId": "b8b9a958-6808-45e7-fd2a-35873b74e4f0"
      },
      "outputs": [
        {
          "output_type": "stream",
          "name": "stdout",
          "text": [
            "['normal_oxygenation', 'hypoxia', NaN]\n",
            "Categories (2, object): ['hypoxia' < 'normal_oxygenation']\n"
          ]
        }
      ],
      "source": [
        "print(df.sats_cat.unique())"
      ]
    },
    {
      "cell_type": "markdown",
      "metadata": {
        "id": "P5QgeVyHHQtp"
      },
      "source": [
        "# Hypoxia with Sats of 92 - cutoff"
      ]
    },
    {
      "cell_type": "code",
      "execution_count": null,
      "metadata": {
        "id": "oeDj-lQVHUl5"
      },
      "outputs": [],
      "source": [
        "bins=[0,92,float('Inf')]\n",
        "labels=['hypoxia','normal_oxygenation']\n",
        "df['sats_cat2']=pd.cut(df['spo2site1_pc_oxi_adm'],bins=bins,labels=labels)\n"
      ]
    },
    {
      "cell_type": "code",
      "execution_count": null,
      "metadata": {
        "colab": {
          "base_uri": "https://localhost:8080/"
        },
        "id": "JRSwfCUaHuKU",
        "outputId": "d30e642f-95e5-4910-e193-40ed2884959b"
      },
      "outputs": [
        {
          "output_type": "stream",
          "name": "stdout",
          "text": [
            "['Localizes painful stimulus' 'Withdraws limb from painful stimulus'\n",
            " 'No response or inappropriate response']\n"
          ]
        }
      ],
      "source": [
        "print(df.bcsmotor_adm.unique())"
      ]
    },
    {
      "cell_type": "markdown",
      "metadata": {
        "id": "HxrtxMKtJKER"
      },
      "source": [
        "#Blantyre score - replace values"
      ]
    },
    {
      "cell_type": "code",
      "execution_count": null,
      "metadata": {
        "id": "nBJTrBu2K6LQ"
      },
      "outputs": [],
      "source": [
        "import pandas as pd\n",
        "import numpy as np"
      ]
    },
    {
      "cell_type": "code",
      "execution_count": null,
      "metadata": {
        "id": "sYCsndQRJpI-"
      },
      "outputs": [],
      "source": [
        "value_map={\n",
        "    'Localizes painful stimulus': 2,\n",
        "    'Withdraws limb from painful stimulus': 1,\n",
        "    'No response or inappropriate response': 0\n",
        "\n",
        "\n",
        "}\n",
        "df['bcsmotor_adm'] = df['bcsmotor_adm'].map(value_map)\n",
        "df['bcsmotor_adm'] = df['bcsmotor_adm'].astype('Int64')"
      ]
    },
    {
      "cell_type": "code",
      "execution_count": null,
      "metadata": {
        "colab": {
          "base_uri": "https://localhost:8080/"
        },
        "id": "K9yE2zjaLgUG",
        "outputId": "7c8921d0-e9b0-41de-bbcb-d9006f990e0e"
      },
      "outputs": [
        {
          "output_type": "stream",
          "name": "stdout",
          "text": [
            "<IntegerArray>\n",
            "[2, 1, 0]\n",
            "Length: 3, dtype: Int64\n"
          ]
        }
      ],
      "source": [
        "print(df.bcsmotor_adm.unique())"
      ]
    },
    {
      "cell_type": "code",
      "execution_count": null,
      "metadata": {
        "colab": {
          "base_uri": "https://localhost:8080/"
        },
        "id": "bQYxRLw9MLjK",
        "outputId": "53eed210-f915-4878-a9c2-3980b48cd4a8"
      },
      "outputs": [
        {
          "output_type": "stream",
          "name": "stdout",
          "text": [
            "['Watches or follows' 'Fails to watch or follow']\n"
          ]
        }
      ],
      "source": [
        "print(df.bcseye_adm.unique())\n"
      ]
    },
    {
      "cell_type": "code",
      "execution_count": null,
      "metadata": {
        "id": "awjlso8EMUE5"
      },
      "outputs": [],
      "source": [
        "value_map={\n",
        "    'Watches or follows': 1,\n",
        "    'Fails to watch or follow': 0\n",
        "}\n",
        "\n",
        "\n",
        "\n",
        "df['bcseye_adm'] = df['bcseye_adm'].map(value_map)\n",
        "df['bcseye_adm'] = df['bcseye_adm'].astype('Int64')\n"
      ]
    },
    {
      "cell_type": "code",
      "execution_count": null,
      "metadata": {
        "colab": {
          "base_uri": "https://localhost:8080/"
        },
        "id": "PQwlM9GoNBto",
        "outputId": "7072f1ed-a2f2-4d4d-a27d-5acf5047ff20"
      },
      "outputs": [
        {
          "output_type": "stream",
          "name": "stdout",
          "text": [
            "<IntegerArray>\n",
            "[1, 0]\n",
            "Length: 2, dtype: Int64\n"
          ]
        }
      ],
      "source": [
        "print(df.bcseye_adm.unique())\n"
      ]
    },
    {
      "cell_type": "code",
      "execution_count": null,
      "metadata": {
        "colab": {
          "base_uri": "https://localhost:8080/"
        },
        "id": "UObsCsKKNQpL",
        "outputId": "1aa5f9a2-8a94-4b2f-ebd7-7fad6b80fdd4"
      },
      "outputs": [
        {
          "output_type": "stream",
          "name": "stdout",
          "text": [
            "['Cries appropriately with pain, or, if verbal, speaks'\n",
            " 'Moan or abnormal cry with pain' 'No vocal response to pain' nan]\n"
          ]
        }
      ],
      "source": [
        "print(df.bcsverbal_adm.unique())"
      ]
    },
    {
      "cell_type": "code",
      "execution_count": null,
      "metadata": {
        "id": "ydRx2jUMNLig"
      },
      "outputs": [],
      "source": [
        "value_map={\n",
        "    'Cries appropriately with pain, or, if verbal,speaks': 2,\n",
        "    'Moan or abnormal cry with pain': 1,\n",
        "    'No cry'\n",
        ":0}\n",
        "df['bcsverbal_adm'] = df['bcsverbal_adm'].map(value_map)\n",
        "df['bcsverbal_adm'] = df['bcsverbal_adm'].astype('Int64')"
      ]
    },
    {
      "cell_type": "markdown",
      "metadata": {
        "id": "5TSWLYuWONMN"
      },
      "source": [
        "# Blantyre Score"
      ]
    },
    {
      "cell_type": "code",
      "execution_count": null,
      "metadata": {
        "id": "B0OQcBX2OJYT"
      },
      "outputs": [],
      "source": [
        "df['blantyre_score'] = df['bcsmotor_adm'] + df['bcseye_adm'] + df['bcsverbal_adm']"
      ]
    },
    {
      "cell_type": "code",
      "execution_count": null,
      "metadata": {
        "id": "anxSMdAg57FX"
      },
      "outputs": [],
      "source": [
        "df['midblantyre_score'] = df['bcsmotor_adm'] + df['bcseye_adm']"
      ]
    },
    {
      "cell_type": "code",
      "execution_count": null,
      "metadata": {
        "colab": {
          "base_uri": "https://localhost:8080/"
        },
        "id": "WrVMdt3FOYjD",
        "outputId": "d74d1a16-15a1-4289-c108-6db884cd2fcf"
      },
      "outputs": [
        {
          "output_type": "stream",
          "name": "stdout",
          "text": [
            "<IntegerArray>\n",
            "[<NA>, 3, 2, 1]\n",
            "Length: 4, dtype: Int64\n"
          ]
        }
      ],
      "source": [
        "print(df.blantyre_score.unique())\n"
      ]
    },
    {
      "cell_type": "code",
      "execution_count": null,
      "metadata": {
        "colab": {
          "base_uri": "https://localhost:8080/"
        },
        "id": "gPMeCw3COman",
        "outputId": "e26e11e1-c08d-4ee5-9524-a5c6bebee72d"
      },
      "outputs": [
        {
          "output_type": "stream",
          "name": "stdout",
          "text": [
            "2       <NA>\n",
            "7       <NA>\n",
            "8       <NA>\n",
            "11      <NA>\n",
            "12      <NA>\n",
            "        ... \n",
            "2674    <NA>\n",
            "2679    <NA>\n",
            "2680    <NA>\n",
            "2684    <NA>\n",
            "2685    <NA>\n",
            "Name: blantyre_score, Length: 841, dtype: Int64\n"
          ]
        }
      ],
      "source": [
        "print(df['blantyre_score'])"
      ]
    },
    {
      "cell_type": "code",
      "execution_count": null,
      "metadata": {
        "id": "Zf9thJh0RRjk"
      },
      "outputs": [],
      "source": []
    },
    {
      "cell_type": "markdown",
      "metadata": {
        "id": "Mf4mgPC_PBnl"
      },
      "source": [
        "#Blantyre Score Category"
      ]
    },
    {
      "cell_type": "code",
      "execution_count": null,
      "metadata": {
        "id": "rR_ueRoePF1L"
      },
      "outputs": [],
      "source": [
        "bins=[0,5,float('Inf')]\n",
        "labels=['low_score','normal']\n",
        "df['bcs_cat']=pd.cut(df['blantyre_score'],bins=bins,labels=labels)\n"
      ]
    },
    {
      "cell_type": "code",
      "execution_count": null,
      "metadata": {
        "colab": {
          "base_uri": "https://localhost:8080/",
          "height": 462
        },
        "id": "iOG1EEltRYRi",
        "outputId": "79bc938c-263d-47d0-859e-cc58ca9ab7b9"
      },
      "outputs": [
        {
          "output_type": "execute_result",
          "data": {
            "text/plain": [
              "<Axes: xlabel='blantyre_score'>"
            ]
          },
          "metadata": {},
          "execution_count": 38
        },
        {
          "output_type": "display_data",
          "data": {
            "text/plain": [
              "<Figure size 640x480 with 1 Axes>"
            ],
            "image/png": "[encoded data removed]"
          },
          "metadata": {}
        }
      ],
      "source": [
        "df['blantyre_score'].value_counts().plot(kind='bar')\n"
      ]
    },
    {
      "cell_type": "code",
      "execution_count": null,
      "metadata": {
        "colab": {
          "base_uri": "https://localhost:8080/"
        },
        "id": "X9qa__caQ7Kb",
        "outputId": "4c86f30f-d190-437e-d08f-d097065676f2"
      },
      "outputs": [
        {
          "output_type": "stream",
          "name": "stdout",
          "text": [
            "[NaN, 'low_score']\n",
            "Categories (2, object): ['low_score' < 'normal']\n"
          ]
        }
      ],
      "source": [
        "print(df.bcs_cat.unique())"
      ]
    },
    {
      "cell_type": "markdown",
      "metadata": {
        "id": "K5YAA-D9Hd-J"
      },
      "source": [
        "# Malnutrition"
      ]
    },
    {
      "cell_type": "code",
      "execution_count": null,
      "metadata": {
        "colab": {
          "base_uri": "https://localhost:8080/"
        },
        "id": "P1e703FYTpfe",
        "outputId": "53fb7b3d-2ef4-4d35-c612-c902f2d75624"
      },
      "outputs": [
        {
          "output_type": "stream",
          "name": "stdout",
          "text": [
            "2        7.9\n",
            "7        6.7\n",
            "8       10.7\n",
            "11       9.1\n",
            "12       8.1\n",
            "        ... \n",
            "2674     8.6\n",
            "2679     9.3\n",
            "2680     7.7\n",
            "2684     9.5\n",
            "2685    11.3\n",
            "Name: agecalc_adm, Length: 841, dtype: float64\n"
          ]
        }
      ],
      "source": [
        "print(df.agecalc_adm)"
      ]
    },
    {
      "cell_type": "code",
      "execution_count": null,
      "metadata": {
        "id": "_y38cnFfZ-5D"
      },
      "outputs": [],
      "source": [
        "import pandas as pd\n"
      ]
    },
    {
      "cell_type": "markdown",
      "metadata": {
        "id": "wKOcHv0mZxpr"
      },
      "source": [
        "# Nutrition z scores"
      ]
    },
    {
      "cell_type": "code",
      "execution_count": null,
      "metadata": {
        "colab": {
          "base_uri": "https://localhost:8080/"
        },
        "id": "dgM6RxlWZxOv",
        "outputId": "5a97d0a9-fec8-4f21-ccc1-35a8728cbd30"
      },
      "outputs": [
        {
          "output_type": "execute_result",
          "data": {
            "text/plain": [
              "np.int64(0)"
            ]
          },
          "metadata": {},
          "execution_count": 42
        }
      ],
      "source": [
        "df['agecalc_adm'].isnull().sum()"
      ]
    },
    {
      "cell_type": "code",
      "execution_count": null,
      "metadata": {
        "colab": {
          "base_uri": "https://localhost:8080/"
        },
        "id": "vD-ojWCxdqVM",
        "outputId": "6224948f-2bf3-4d06-983f-f6c35eb99e03"
      },
      "outputs": [
        {
          "output_type": "execute_result",
          "data": {
            "text/plain": [
              "np.int64(0)"
            ]
          },
          "metadata": {},
          "execution_count": 43
        }
      ],
      "source": [
        "df['weight_kg_adm'].isnull().sum()"
      ]
    },
    {
      "cell_type": "code",
      "execution_count": null,
      "metadata": {
        "colab": {
          "base_uri": "https://localhost:8080/"
        },
        "id": "yg6LLANFeGzM",
        "outputId": "5284fa5e-2fa5-478d-84fd-92bbfd3755b4"
      },
      "outputs": [
        {
          "output_type": "stream",
          "name": "stdout",
          "text": [
            "['Male' 'Female']\n"
          ]
        }
      ],
      "source": [
        "print(df.sex_adm.unique())"
      ]
    },
    {
      "cell_type": "code",
      "execution_count": null,
      "metadata": {
        "id": "hHOqpUaeeXXN"
      },
      "outputs": [],
      "source": [
        "df['sex_adm']=df['sex_adm'].str.lower()"
      ]
    },
    {
      "cell_type": "code",
      "execution_count": null,
      "metadata": {
        "colab": {
          "base_uri": "https://localhost:8080/"
        },
        "id": "Z_78aJrUenhX",
        "outputId": "8416279c-d224-44f3-baa8-734b0994d097"
      },
      "outputs": [
        {
          "output_type": "stream",
          "name": "stdout",
          "text": [
            "['male' 'female']\n"
          ]
        }
      ],
      "source": [
        "print(df.sex_adm.unique())"
      ]
    },
    {
      "cell_type": "markdown",
      "metadata": {
        "id": "I6hbZvZh51xH"
      },
      "source": []
    },
    {
      "cell_type": "markdown",
      "metadata": {
        "id": "HAb0Xq_c4Lvt"
      },
      "source": [
        "# Malnutrition (WHZ)"
      ]
    },
    {
      "cell_type": "markdown",
      "metadata": {
        "id": "lvjSl-yCkKM4"
      },
      "source": [
        "#malnutrition np.where"
      ]
    },
    {
      "cell_type": "code",
      "execution_count": null,
      "metadata": {
        "id": "MJENK8XqnXmc"
      },
      "outputs": [],
      "source": [
        "import numpy as np\n"
      ]
    },
    {
      "cell_type": "code",
      "source": [
        "def categorize_whz(row):\n",
        "    sex = row['sex_adm']\n",
        "    height = row['height_cm_adm']\n",
        "    weight = row['weight_kg_adm']\n",
        "\n",
        "    if sex == 'f':\n",
        "        if height == 45 and weight <= 1.9:\n",
        "            return 'z-3'\n",
        "        elif height == 45 and weight <= 2.1:\n",
        "            return 'z-2'\n",
        "        # ... add other rules for female ...\n",
        "    elif sex == 'm':\n",
        "        if height == 45 and weight <= 1.9:\n",
        "            return 'z-3'\n",
        "        elif height == 45 and weight <= 2.1:\n",
        "            return 'z-2'\n"
      ],
      "metadata": {
        "id": "4y4mrhF5Rp58"
      },
      "execution_count": null,
      "outputs": []
    },
    {
      "cell_type": "code",
      "source": [
        "import numpy as np"
      ],
      "metadata": {
        "id": "tykkrJNzYwuS"
      },
      "execution_count": null,
      "outputs": []
    },
    {
      "cell_type": "code",
      "source": [
        "df['whz'] = np.where(\n",
        "    (df.sex_adm=='f') & (df.height_cm_adm==48) & (df.weight_kg_adm<=2.3), 'z-3',  # Condition for z-3\n",
        "    np.where(\n",
        "        (df.sex_adm=='f') & (df.height_cm_adm==48) & (df.weight_kg_adm<=2.5), 'z-2',  # Condition for z-2\n",
        "        np.where(\n",
        "            (df.sex_adm=='f') & (df.height_cm_adm==48) & (df.weight_kg_adm<=2.6), 'z-2',  # Condition for z-2 (height 46)\n",
        "            np.where(\n",
        "                (df.sex_adm=='f') & (df.height_cm_adm==49) & (df.weight_kg_adm<=2.4), 'z-2',  # Condition for z-2 (height 47)\n",
        "                df['whz']  # Otherwise, keep the existing 'normal' value\n",
        "            )\n",
        "        )\n",
        "    )\n",
        ")\n"
      ],
      "metadata": {
        "id": "-nOUoM2SXv8V",
        "outputId": "1d1f51c6-467c-42ae-aab7-ad566633a3bc",
        "colab": {
          "base_uri": "https://localhost:8080/",
          "height": 569
        }
      },
      "execution_count": null,
      "outputs": [
        {
          "output_type": "error",
          "ename": "KeyError",
          "evalue": "'whz'",
          "traceback": [
            "\u001b[0;31m---------------------------------------------------------------------------\u001b[0m",
            "\u001b[0;31mKeyError\u001b[0m                                  Traceback (most recent call last)",
            "\u001b[0;32m/usr/local/lib/python3.11/dist-packages/pandas/core/indexes/base.py\u001b[0m in \u001b[0;36mget_loc\u001b[0;34m(self, key)\u001b[0m\n\u001b[1;32m   3804\u001b[0m         \u001b[0;32mtry\u001b[0m\u001b[0;34m:\u001b[0m\u001b[0;34m\u001b[0m\u001b[0;34m\u001b[0m\u001b[0m\n\u001b[0;32m-> 3805\u001b[0;31m             \u001b[0;32mreturn\u001b[0m \u001b[0mself\u001b[0m\u001b[0;34m.\u001b[0m\u001b[0m_engine\u001b[0m\u001b[0;34m.\u001b[0m\u001b[0mget_loc\u001b[0m\u001b[0;34m(\u001b[0m\u001b[0mcasted_key\u001b[0m\u001b[0;34m)\u001b[0m\u001b[0;34m\u001b[0m\u001b[0;34m\u001b[0m\u001b[0m\n\u001b[0m\u001b[1;32m   3806\u001b[0m         \u001b[0;32mexcept\u001b[0m \u001b[0mKeyError\u001b[0m \u001b[0;32mas\u001b[0m \u001b[0merr\u001b[0m\u001b[0;34m:\u001b[0m\u001b[0;34m\u001b[0m\u001b[0;34m\u001b[0m\u001b[0m\n",
            "\u001b[0;32mindex.pyx\u001b[0m in \u001b[0;36mpandas._libs.index.IndexEngine.get_loc\u001b[0;34m()\u001b[0m\n",
            "\u001b[0;32mindex.pyx\u001b[0m in \u001b[0;36mpandas._libs.index.IndexEngine.get_loc\u001b[0;34m()\u001b[0m\n",
            "\u001b[0;32mpandas/_libs/hashtable_class_helper.pxi\u001b[0m in \u001b[0;36mpandas._libs.hashtable.PyObjectHashTable.get_item\u001b[0;34m()\u001b[0m\n",
            "\u001b[0;32mpandas/_libs/hashtable_class_helper.pxi\u001b[0m in \u001b[0;36mpandas._libs.hashtable.PyObjectHashTable.get_item\u001b[0;34m()\u001b[0m\n",
            "\u001b[0;31mKeyError\u001b[0m: 'whz'",
            "\nThe above exception was the direct cause of the following exception:\n",
            "\u001b[0;31mKeyError\u001b[0m                                  Traceback (most recent call last)",
            "\u001b[0;32m/tmp/ipython-input-50-2349549017.py\u001b[0m in \u001b[0;36m<cell line: 0>\u001b[0;34m()\u001b[0m\n\u001b[1;32m      7\u001b[0m             np.where(\n\u001b[1;32m      8\u001b[0m                 \u001b[0;34m(\u001b[0m\u001b[0mdf\u001b[0m\u001b[0;34m.\u001b[0m\u001b[0msex_adm\u001b[0m\u001b[0;34m==\u001b[0m\u001b[0;34m'f'\u001b[0m\u001b[0;34m)\u001b[0m \u001b[0;34m&\u001b[0m \u001b[0;34m(\u001b[0m\u001b[0mdf\u001b[0m\u001b[0;34m.\u001b[0m\u001b[0mheight_cm_adm\u001b[0m\u001b[0;34m==\u001b[0m\u001b[0;36m49\u001b[0m\u001b[0;34m)\u001b[0m \u001b[0;34m&\u001b[0m \u001b[0;34m(\u001b[0m\u001b[0mdf\u001b[0m\u001b[0;34m.\u001b[0m\u001b[0mweight_kg_adm\u001b[0m\u001b[0;34m<=\u001b[0m\u001b[0;36m2.4\u001b[0m\u001b[0;34m)\u001b[0m\u001b[0;34m,\u001b[0m \u001b[0;34m'z-2'\u001b[0m\u001b[0;34m,\u001b[0m  \u001b[0;31m# Condition for z-2 (height 47)\u001b[0m\u001b[0;34m\u001b[0m\u001b[0;34m\u001b[0m\u001b[0m\n\u001b[0;32m----> 9\u001b[0;31m                 \u001b[0mdf\u001b[0m\u001b[0;34m[\u001b[0m\u001b[0;34m'whz'\u001b[0m\u001b[0;34m]\u001b[0m  \u001b[0;31m# Otherwise, keep the existing 'normal' value\u001b[0m\u001b[0;34m\u001b[0m\u001b[0;34m\u001b[0m\u001b[0m\n\u001b[0m\u001b[1;32m     10\u001b[0m             )\n\u001b[1;32m     11\u001b[0m         )\n",
            "\u001b[0;32m/usr/local/lib/python3.11/dist-packages/pandas/core/frame.py\u001b[0m in \u001b[0;36m__getitem__\u001b[0;34m(self, key)\u001b[0m\n\u001b[1;32m   4100\u001b[0m             \u001b[0;32mif\u001b[0m \u001b[0mself\u001b[0m\u001b[0;34m.\u001b[0m\u001b[0mcolumns\u001b[0m\u001b[0;34m.\u001b[0m\u001b[0mnlevels\u001b[0m \u001b[0;34m>\u001b[0m \u001b[0;36m1\u001b[0m\u001b[0;34m:\u001b[0m\u001b[0;34m\u001b[0m\u001b[0;34m\u001b[0m\u001b[0m\n\u001b[1;32m   4101\u001b[0m                 \u001b[0;32mreturn\u001b[0m \u001b[0mself\u001b[0m\u001b[0;34m.\u001b[0m\u001b[0m_getitem_multilevel\u001b[0m\u001b[0;34m(\u001b[0m\u001b[0mkey\u001b[0m\u001b[0;34m)\u001b[0m\u001b[0;34m\u001b[0m\u001b[0;34m\u001b[0m\u001b[0m\n\u001b[0;32m-> 4102\u001b[0;31m             \u001b[0mindexer\u001b[0m \u001b[0;34m=\u001b[0m \u001b[0mself\u001b[0m\u001b[0;34m.\u001b[0m\u001b[0mcolumns\u001b[0m\u001b[0;34m.\u001b[0m\u001b[0mget_loc\u001b[0m\u001b[0;34m(\u001b[0m\u001b[0mkey\u001b[0m\u001b[0;34m)\u001b[0m\u001b[0;34m\u001b[0m\u001b[0;34m\u001b[0m\u001b[0m\n\u001b[0m\u001b[1;32m   4103\u001b[0m             \u001b[0;32mif\u001b[0m \u001b[0mis_integer\u001b[0m\u001b[0;34m(\u001b[0m\u001b[0mindexer\u001b[0m\u001b[0;34m)\u001b[0m\u001b[0;34m:\u001b[0m\u001b[0;34m\u001b[0m\u001b[0;34m\u001b[0m\u001b[0m\n\u001b[1;32m   4104\u001b[0m                 \u001b[0mindexer\u001b[0m \u001b[0;34m=\u001b[0m \u001b[0;34m[\u001b[0m\u001b[0mindexer\u001b[0m\u001b[0;34m]\u001b[0m\u001b[0;34m\u001b[0m\u001b[0;34m\u001b[0m\u001b[0m\n",
            "\u001b[0;32m/usr/local/lib/python3.11/dist-packages/pandas/core/indexes/base.py\u001b[0m in \u001b[0;36mget_loc\u001b[0;34m(self, key)\u001b[0m\n\u001b[1;32m   3810\u001b[0m             ):\n\u001b[1;32m   3811\u001b[0m                 \u001b[0;32mraise\u001b[0m \u001b[0mInvalidIndexError\u001b[0m\u001b[0;34m(\u001b[0m\u001b[0mkey\u001b[0m\u001b[0;34m)\u001b[0m\u001b[0;34m\u001b[0m\u001b[0;34m\u001b[0m\u001b[0m\n\u001b[0;32m-> 3812\u001b[0;31m             \u001b[0;32mraise\u001b[0m \u001b[0mKeyError\u001b[0m\u001b[0;34m(\u001b[0m\u001b[0mkey\u001b[0m\u001b[0;34m)\u001b[0m \u001b[0;32mfrom\u001b[0m \u001b[0merr\u001b[0m\u001b[0;34m\u001b[0m\u001b[0;34m\u001b[0m\u001b[0m\n\u001b[0m\u001b[1;32m   3813\u001b[0m         \u001b[0;32mexcept\u001b[0m \u001b[0mTypeError\u001b[0m\u001b[0;34m:\u001b[0m\u001b[0;34m\u001b[0m\u001b[0;34m\u001b[0m\u001b[0m\n\u001b[1;32m   3814\u001b[0m             \u001b[0;31m# If we have a listlike key, _check_indexing_error will raise\u001b[0m\u001b[0;34m\u001b[0m\u001b[0;34m\u001b[0m\u001b[0m\n",
            "\u001b[0;31mKeyError\u001b[0m: 'whz'"
          ]
        }
      ]
    },
    {
      "cell_type": "code",
      "source": [
        "df.whz.unique()"
      ],
      "metadata": {
        "id": "irrHt-smYcj7"
      },
      "execution_count": null,
      "outputs": []
    },
    {
      "cell_type": "code",
      "execution_count": null,
      "metadata": {
        "id": "8t56CrMpcPCo",
        "outputId": "b9964b45-5ba6-405d-e63f-f483559edc63",
        "colab": {
          "base_uri": "https://localhost:8080/",
          "height": 110
        }
      },
      "outputs": [
        {
          "output_type": "error",
          "ename": "SyntaxError",
          "evalue": "cannot assign to subscript here. Maybe you meant '==' instead of '='? (ipython-input-51-1487486665.py, line 24)",
          "traceback": [
            "\u001b[0;36m  File \u001b[0;32m\"/tmp/ipython-input-51-1487486665.py\"\u001b[0;36m, line \u001b[0;32m24\u001b[0m\n\u001b[0;31m    df['whz'] = np.where((df.sex_df['whz'] = np.where((df.sex_adm=='f')&(df.height_cm_adm==45)&(df.weight_kg_adm<=1.9),'z-3','normal')\u001b[0m\n\u001b[0m                          ^\u001b[0m\n\u001b[0;31mSyntaxError\u001b[0m\u001b[0;31m:\u001b[0m cannot assign to subscript here. Maybe you meant '==' instead of '='?\n"
          ]
        }
      ],
      "source": [
        "df['whz'] = np.where((df.sex_adm=='f')&(df.height_cm_adm==48)&(df.weight_kg_adm<=2.3),'z-3',df['whz'])\n",
        "df['whz'] = np.where((df.sex_adm=='f')&(df.height_cm_adm==48)&(df.weight_kg_adm<=2.5),'z-2',df['whz'])\n",
        "df['whz'] = np.where((df.sex_adm=='f')&(df.height_cm_adm==48)&(df.weight_kg_adm>=2.6),'normal',df['whz'])\n",
        "df['whz'] = np.where((df.sex_adm=='f')&((df.height_cm_adm==49)&(df.weight_kg_adm<=2.4)),'z-3',df['whz'])\n",
        "df['whz'] = np.where((df.sex_adm=='f')&(df.height_cm_adm==49)& (df.weight_kg_adm<=2.6),'z-2',df['whz'])\n",
        "df['whz'] = np.where((df.sex_adm=='f')&(df.height_cm_adm==49)&(df.weight_kg_adm>=2.7),'normal',df['whz'])\n",
        "df['whz'] = np.where((df.sex_adm=='f')&(df.height_cm_adm==50)&(df.weight_kg_adm<=2.6),'z-3',df['whz'])\n",
        "df['whz'] = np.where((df.sex_adm=='f')&((df.height_cm_adm==50)&(df.weight_kg_adm<=3)),'z-2',df['whz'])\n",
        "df['whz'] = np.where((df.sex_adm=='f')&(df.height_cm_adm==50)&(df.weight_kg_adm>=3.1),'normal',df['whz'])\n",
        "df['whz'] = np.where((df.sex_adm=='f')&(df.height_cm_adm==51)&(df.weight_kg_adm<=2.8),'z-3',df['whz'])\n",
        "df['whz'] = np.where((df.sex_adm=='f')&(df.height_cm_adm==51)&(df.weight_kg_adm<=3),'z-2',df['whz'])\n",
        "df['whz'] = np.where((df.sex_adm=='f')&(df.height_cm_adm==51)&(df.weight_kg_adm>=3.1),'normal',df['whz'])\n",
        "df['whz'] = np.where((df.sex_adm=='f')&(df.height_cm_adm==52)&(df.weight_kg_adm<=2.9),'z-3',df['whz'])\n",
        "df['whz'] = np.where((df.sex_adm=='f')&(df.height_cm_adm==52)&(df.weight_kg_adm<=3.2),'z-2',df['whz'])\n",
        "df['whz'] = np.where((df.sex_adm=='f')&(df.height_cm_adm==52)&(df.weight_kg_adm>=3.3),'normal',df['whz'])\n",
        "df['whz'] = np.where((df.sex_adm=='f')&(df.height_cm_adm==53)&(df.weight_kg_adm<=3.1),'z-3',df['whz'])\n",
        "df['whz'] = np.where((df.sex_adm=='f')&(df.height_cm_adm==53)&(df.weight_kg_adm<=3.4),'z-2',df['whz'])\n",
        "df['whz'] = np.where((df.sex_adm=='f')&(df.height_cm_adm==53)&(df.weight_kg_adm>=3.5),'normal',df['whz'])\n",
        "df['whz'] = np.where((df.sex_adm=='f')&(df.height_cm_adm==54)&(df.weight_kg_adm<=3.3),'z-3',df['whz'])\n",
        "df['whz'] = np.where((df.sex_adm=='f')&(df.height_cm_adm==54)&(df.weight_kg_adm<=3.6),'z-2',df['whz'])\n",
        "df['whz'] = np.where((df.sex_adm=='f')&(df.height_cm_adm==54)&(df.weight_kg_adm>=3.7),'normal',df['whz'])\n",
        "df['whz'] = np.where((df.sex_adm=='f')&(df.height_cm_adm==55)&(df.weight_kg_adm<=3.5),'z-3',df['whz'])\n",
        "df['whz'] = np.where((df.sex_adm=='f')&(df.height_cm_adm==55)&(df.weight_kg_adm<=3.8),'z-2',df['whz'])\n",
        "df['whz'] = np.where((df.sex_df['whz'] = np.where((df.sex_adm=='f')&(df.height_cm_adm==45)&(df.weight_kg_adm<=1.9),'z-3','normal')\n",
        "df['whz'] = np.where((df.sex_adm=='f')&(df.height_cm_adm==45)&(df.weight_kg_adm<=2.1),'z-2',df['whz'])\n",
        "df['whz'] = np.where((df.sex_adm=='f')&(df.height_cm_adm==46)&(df.weight_kg_adm>=2.2),'normal',df['whz'])\n",
        "df['whz'] = np.where((df.sex_adm=='f')&(df.height_cm_adm==46)&(df.weight_kg_adm<=2),'z-2',df['whz'])\n",
        "df['whz'] = np.where((df.sex_adm=='f')&(df.height_cm_adm==46)&(df.weight_kg_adm<=2.4),'normal',df['whz'])\n",
        "df['whz'] = np.where((df.sex_adm=='f')&(df.height_cm_adm<=47)& (df.weight_kg_adm>=2.5),'normal',df['whz'])\n",
        "df['whz'] = np.where((df.sex_adm=='f')&(df.height_cm_adm==47)&(df.weight_kg_adm<=2.4),'z-2',df['whz'])\n",
        "df['whz'] = np.where((df.sex_adm=='f')&(df.height_cm_adm==47)&(df.weight_kg_adm>=2.5),'normal',df['whz'])\n",
        "adm=='f')&(df.height_cm_adm==55)&(df.weight_kg_adm>=3.9),'normal',df['whz'])\n",
        "df['whz'] = np.where((df.sex_adm=='f')&(df.height_cm_adm==56)&(df.weight_kg_adm<=3.7),'z-3',df['whz'])\n",
        "df['whz'] = np.where((df.sex_adm=='f')&(df.height_cm_adm==56)&(df.weight_kg_adm<=4),'z-2',df['whz'])\n",
        "df['whz'] = np.where((df.sex_adm=='f')&(df.height_cm_adm==56)&(df.weight_kg_adm>=4.1),'normal',df['whz'])\n",
        "df['whz'] = np.where((df.sex_adm=='f')&(df.height_cm_adm==57)&(df.weight_kg_adm<=3.9),'z-3',df['whz'])\n",
        "df['whz'] = np.where((df.sex_adm=='f')&(df.height_cm_adm==57)&(df.weight_kg_adm<=4.3),'z-2',df['whz'])\n",
        "df['whz'] = np.where((df.sex_adm=='f')&(df.height_cm_adm==57)&(df.weight_kg_adm>=4.4),'normal',df['whz'])\n",
        "df['whz'] = np.where((df.sex_adm=='f')&(df.height_cm_adm==58)&(df.weight_kg_adm<=4.1),'z-3',df['whz'])\n",
        "df['whz'] = np.where((df.sex_adm=='f')&(df.height_cm_adm==58)&(df.weight_kg_adm<=4.5),'z-2',df['whz'])\n",
        "df['whz'] = np.where((df.sex_adm=='f')&(df.height_cm_adm==58)&(df.weight_kg_adm>=4.6),'normal',df['whz'])\n",
        "df['whz'] = np.where((df.sex_adm=='f')&(df.height_cm_adm==59)&(df.weight_kg_adm<=4.4),'z-3',df['whz'])\n",
        "df['whz'] = np.where((df.sex_adm=='f')&(df.height_cm_adm==59)&(df.weight_kg_adm<=4.7),'z-2',df['whz'])\n",
        "df['whz'] = np.where((df.sex_adm=='f')&(df.height_cm_adm==59)&(df.weight_kg_adm>=4.8),'normal',df['whz'])\n",
        "df['whz'] = np.where((df.sex_adm=='f')&(df.height_cm_adm==60)&(df.weight_kg_adm<=4.5),'z-3',df['whz'])\n",
        "df['whz'] = np.where((df.sex_adm=='f')&(df.height_cm_adm==60)&(df.weight_kg_adm<=4.9),'z-2',df['whz'])\n",
        "df['whz'] = np.where((df.sex_adm=='f')&(df.height_cm_adm==60)&(df.weight_kg_adm>=5),'normal',df['whz'])\n",
        "df['whz'] = np.where((df.sex_adm=='f')&(df.height_cm_adm==61)&(df.weight_kg_adm<=4.7),'z-3',df['whz'])\n",
        "df['whz'] = np.where((df.sex_adm=='f')&(df.height_cm_adm==61)&(df.weight_kg_adm<=5.1),'z-2',df['whz'])\n",
        "df['whz'] = np.where((df.sex_adm=='f')&(df.height_cm_adm==61)&(df.weight_kg_adm>=5.2),'normal',df['whz'])\n",
        "df['whz'] = np.where((df.sex_adm=='f')&(df.height_cm_adm==62)&(df.weight_kg_adm<=4.9),'z-3',df['whz'])\n",
        "df['whz'] = np.where((df.sex_adm=='f')&(df.height_cm_adm==62)&(df.weight_kg_adm<=5.3),'z-2',df['whz'])\n",
        "df['whz'] = np.where((df.sex_adm=='f')&(df.height_cm_adm==62)&(df.weight_kg_adm>=5.4),'normal',df['whz'])\n",
        "df['whz'] = np.where((df.sex_adm=='f')&(df.height_cm_adm==63)&(df.weight_kg_adm<=5.1),'z-3',df['whz'])\n",
        "df['whz'] = np.where((df.sex_adm=='f')&(df.height_cm_adm==63)&(df.weight_kg_adm<=5.5),'z-2',df['whz'])\n",
        "df['whz'] = np.where((df.sex_adm=='f')&(df.height_cm_adm==63)&(df.weight_kg_adm>=5.6),'normal',df['whz'])\n",
        "df['whz'] = np.where((df.sex_adm=='f')&(df.height_cm_adm==64)&(df.weight_kg_adm<=5.3),'z-3',df['whz'])\n",
        "df['whz'] = np.where((df.sex_adm=='f')&(df.height_cm_adm==64)&(df.weight_kg_adm<=5.7),'z-2',df['whz'])\n",
        "df['whz'] = np.where((df.sex_adm=='f')&(df.height_cm_adm==64)&(df.weight_kg_adm>=5.8),'normal',df['whz'])\n",
        "df['whz'] = np.where((df.sex_adm=='f')&(df.height_cm_adm==65)&(df.weight_kg_adm<=5.5),'z-3',df['whz'])\n",
        "df['whz'] = np.where((df.sex_adm=='f')&(df.height_cm_adm==65)&(df.weight_kg_adm<=6),'z-2',df['whz'])\n",
        "df['whz'] = np.where((df.sex_adm=='f')&(df.height_cm_adm==65)&(df.weight_kg_adm>=6.1),'normal',df['whz'])\n",
        "df['whz'] = np.where((df.sex_adm=='f')&(df.height_cm_adm==66)&(df.weight_kg_adm<=5.6),'z-3',df['whz'])\n",
        "df['whz'] = np.where((df.sex_adm=='f')&(df.height_cm_adm==66)&(df.weight_kg_adm<=6.1),'z-2',df['whz'])\n",
        "df['whz'] = np.where((df.sex_adm=='f')&(df.height_cm_adm==66)&(df.weight_kg_adm>=6.2),'normal',df['whz'])\n",
        "df['whz'] = np.where((df.sex_adm=='f')&(df.height_cm_adm==67)&(df.weight_kg_adm<=5.8),'z-3',df['whz'])\n",
        "df['whz'] = np.where((df.sex_adm=='f')&(df.height_cm_adm==67)&(df.weight_kg_adm<=6.4),'z-2',df['whz'])\n",
        "df['whz'] = np.where((df.sex_adm=='f')&(df.height_cm_adm==67)&(df.weight_kg_adm>=6.5),'normal',df['whz'])\n",
        "df['whz'] = np.where((df.sex_adm=='f')&(df.height_cm_adm==68)&(df.weight_kg_adm<=6),'z-3',df['whz'])\n",
        "df['whz'] = np.where((df.sex_adm=='f')&(df.height_cm_adm==68)&(df.weight_kg_adm<=6.5),'z-2',df['whz'])\n",
        "df['whz'] = np.where((df.sex_adm=='f')&(df.height_cm_adm==68)&(df.weight_kg_adm>=6.6),'normal',df['whz'])\n",
        "df['whz'] = np.where((df.sex_adm=='f')&(df.height_cm_adm==69)&(df.weight_kg_adm<=6.1),'z-3',df['whz'])\n",
        "df['whz'] = np.where((df.sex_adm=='f')&(df.height_cm_adm==69)&(df.weight_kg_adm<=6.7),'z-2',df['whz'])\n",
        "df['whz'] = np.where((df.sex_adm=='f')&(df.height_cm_adm==69)&(df.weight_kg_adm>=6.8),'normal',df['whz'])\n",
        "df['whz'] = np.where((df.sex_adm=='f')&(df.height_cm_adm==70)&(df.weight_kg_adm<=6.2),'z-3',df['whz'])\n",
        "df['whz'] = np.where((df.sex_adm=='f')&(df.height_cm_adm==70)&(df.weight_kg_adm<=6.9),'z-2',df['whz'])\n",
        "df['whz'] = np.where((df.sex_adm=='f')&(df.height_cm_adm==70)&(df.weight_kg_adm>=7),'normal',df['whz'])\n",
        "df['whz'] = np.where((df.sex_adm=='f')&(df.height_cm_adm==71)&(df.weight_kg_adm<=6.5),'z-3',df['whz'])\n",
        "df['whz'] = np.where((df.sex_adm=='f')&(df.height_cm_adm==71)&(df.weight_kg_adm<=7),'z-2',df['whz'])\n",
        "df['whz'] = np.where((df.sex_adm=='f')&(df.height_cm_adm==71)&(df.weight_kg_adm>=7.1),'normal',df['whz'])\n",
        "df['whz'] = np.where((df.sex_adm=='f')&(df.height_cm_adm==72)&(df.weight_kg_adm<=6.6),'z-3',df['whz'])\n",
        "df['whz'] = np.where((df.sex_adm=='f')&(df.height_cm_adm==72)&(df.weight_kg_adm<=7.2),'z-2',df['whz'])\n",
        "df['whz'] = np.where((df.sex_adm=='f')&(df.height_cm_adm==72)&(df.weight_kg_adm>=7.3),'normal',df['whz'])\n",
        "df['whz'] = np.where((df.sex_adm=='f')&(df.height_cm_adm==73)&(df.weight_kg_adm<=6.8),'z-3',df['whz'])\n",
        "df['whz'] = np.where((df.sex_adm=='f')&(df.height_cm_adm==73)&(df.weight_kg_adm<=7.5),'z-2',df['whz'])\n",
        "df['whz'] = np.where((df.sex_adm=='f')&(df.height_cm_adm==73)&(df.weight_kg_adm>=7.6),'normal',df['whz'])\n",
        "df['whz'] = np.where((df.sex_adm=='f')&(df.height_cm_adm==74)&(df.weight_kg_adm<=6.9),'z-3',df['whz'])\n",
        "df['whz'] = np.where((df.sex_adm=='f')&(df.height_cm_adm==74)&(df.weight_kg_adm<=7.5),'z-2',df['whz'])\n",
        "df['whz'] = np.where((df.sex_adm=='f')&(df.height_cm_adm==74)&(df.weight_kg_adm>=7.6),'normal',df['whz'])\n",
        "df['whz'] = np.where((df.sex_adm=='f')&(df.height_cm_adm==75)&(df.weight_kg_adm<=7.1),'z-3',df['whz'])\n",
        "df['whz'] = np.where((df.sex_adm=='f')&(df.height_cm_adm==75)&(df.weight_kg_adm<=7.7),'z-2',df['whz'])\n",
        "df['whz'] = np.where((df.sex_adm=='f')&(df.height_cm_adm==75)&(df.weight_kg_adm>=7.8),'normal',df['whz'])\n",
        "df['whz'] = np.where((df.sex_adm=='f')&(df.height_cm_adm==76)&(df.weight_kg_adm<=7.2),'z-3',df['whz'])\n",
        "df['whz'] = np.where((df.sex_adm=='f')&(df.height_cm_adm==76)&(df.weight_kg_adm<=7.8),'z-2',df['whz'])\n",
        "df['whz'] = np.where((df.sex_adm=='f')&(df.height_cm_adm==76)&(df.weight_kg_adm>=7.9),'normal',df['whz'])\n",
        "df['whz'] = np.where((df.sex_adm=='f')&(df.height_cm_adm==77)&(df.weight_kg_adm<=7.4),'z-3',df['whz'])\n",
        "df['whz'] = np.where((df.sex_adm=='f')&(df.height_cm_adm==77)&(df.weight_kg_adm<=8),'z-2',df['whz'])\n",
        "df['whz'] = np.where((df.sex_adm=='f')&(df.height_cm_adm==77)&(df.weight_kg_adm>=8.1),'normal',df['whz'])\n",
        "df['whz'] = np.where((df.sex_adm=='f')&(df.height_cm_adm==78)&(df.weight_kg_adm<=7.5),'z-3',df['whz'])\n",
        "df['whz'] = np.where((df.sex_adm=='f')&(df.height_cm_adm==78)&(df.weight_kg_adm<=8.2),'z-2',df['whz'])\n",
        "df['whz'] = np.where((df.sex_adm=='f')&(df.height_cm_adm==78)&(df.weight_kg_adm>=8.3),'normal',df['whz'])\n",
        "df['whz'] = np.where((df.sex_adm=='f')&(df.height_cm_adm==79)&(df.weight_kg_adm<=7.7),'z-3',df['whz'])\n",
        "df['whz'] = np.where((df.sex_adm=='f')&(df.height_cm_adm==79)&(df.weight_kg_adm<=8.3),'z-2',df['whz'])\n",
        "df['whz'] = np.where((df.sex_adm=='f')&(df.height_cm_adm==79)&(df.weight_kg_adm>=8.4),'normal',df['whz'])\n",
        "df['whz'] = np.where((df.sex_adm=='f')&(df.height_cm_adm==80)&(df.weight_kg_adm<=7.9),'z-3',df['whz'])\n",
        "df['whz'] = np.where((df.sex_adm=='f')&(df.height_cm_adm==80)&(df.weight_kg_adm<=8.5),'z-2',df['whz'])\n",
        "df['whz'] = np.where((df.sex_adm=='f')&(df.height_cm_adm==80)&(df.weight_kg_adm>=8.6),'normal',df['whz'])\n",
        "df['whz'] = np.where((df.sex_adm=='f')&(df.height_cm_adm==81)&(df.weight_kg_adm<=8.0),'z-3',df['whz'])\n",
        "df['whz'] = np.where((df.sex_adm=='f')&(df.height_cm_adm==81)&(df.weight_kg_adm<=8.7),'z-2',df['whz'])\n",
        "df['whz'] = np.where((df.sex_adm=='f')&(df.height_cm_adm==81)&(df.weight_kg_adm>=8.8),'normal',df['whz'])\n",
        "df['whz'] = np.where((df.sex_adm=='f')&(df.height_cm_adm==82)&(df.weight_kg_adm<=8.1),'z-3',df['whz'])\n",
        "df['whz'] = np.where((df.sex_adm=='f')&(df.height_cm_adm==82)&(df.weight_kg_adm<=8.8),'z-2',df['whz'])\n",
        "df['whz'] = np.where((df.sex_adm=='f')&(df.height_cm_adm==82)&(df.weight_kg_adm>=8.9),'normal',df['whz'])\n",
        "df['whz'] = np.where((df.sex_adm=='f')&(df.height_cm_adm==83)&(df.weight_kg_adm<=8.3),'z-3',df['whz'])\n",
        "df['whz'] = np.where((df.sex_adm=='f')&(df.height_cm_adm==83)&(df.weight_kg_adm<=9.0),'z-2',df['whz'])\n",
        "df['whz'] = np.where((df.sex_adm=='f')&(df.height_cm_adm==83)&(df.weight_kg_adm>=9.1),'normal',df['whz'])\n",
        "df['whz'] = np.where((df.sex_adm=='f')&(df.height_cm_adm==84)&(df.weight_kg_adm<=8.5),'z-3',df['whz'])\n",
        "df['whz'] = np.where((df.sex_adm=='f')&(df.height_cm_adm==84)&(df.weight_kg_adm<=9.2),'z-2',df['whz'])\n",
        "df['whz'] = np.where((df.sex_adm=='f')&(df.height_cm_adm==84)&(df.weight_kg_adm>=9.3),'normal',df['whz'])\n",
        "df['whz'] = np.where((df.sex_adm=='f')&(df.height_cm_adm==85)&(df.weight_kg_adm<=8.7),'z-3',df['whz'])\n",
        "\n",
        "df['whz'] = np.where((df.sex_adm=='f')&(df.height_cm_adm==85)&(df.weight_kg_adm<=9.3),'z-3',df['whz'])\n",
        "df['whz'] = np.where((df.sex_adm=='f')&(df.height_cm_adm==85)&(df.weight_kg_adm>=9.4),'normal',df['whz'])\n",
        "df['whz'] = np.where((df.sex_adm=='f')&(df.height_cm_adm==86)&(df.weight_kg_adm<=8.9),'z-3',df['whz'])\n",
        "df['whz'] = np.where((df.sex_adm=='f')&(df.height_cm_adm==86)&(df.weight_kg_adm<=8.8),'z-2',df['whz'])\n",
        "df['whz'] = np.where((df.sex_adm=='f')&(df.height_cm_adm==86)&(df.weight_kg_adm>=8.9),'normal',df['whz'])\n",
        "df['whz'] = np.where((df.sex_adm=='f')&(df.height_cm_adm==87)&(df.weight_kg_adm<=9.1),'z-3',df['whz'])\n",
        "df['whz'] = np.where((df.sex_adm=='f')&(df.height_cm_adm==87)&(df.weight_kg_adm<=9.0),'z-2',df['whz'])\n",
        "df['whz'] = np.where((df.sex_adm=='f')&(df.height_cm_adm==87)&(df.weight_kg_adm>=10),'normal',df['whz'])\n",
        "df['whz'] = np.where((df.sex_adm=='f')&(df.height_cm_adm==88)&(df.weight_kg_adm<=9.3),'z-2',df['whz'])\n",
        "df['whz'] = np.where((df.sex_adm=='f')&(df.height_cm_adm==88)&(df.weight_kg_adm<=10.1),'z-3',df['whz'])\n",
        "df['whz'] = np.where((df.sex_adm=='f')&(df.height_cm_adm==89)&(df.weight_kg_adm<=9.5),'z-2',df['whz'])\n",
        "df['whz'] = np.where((df.sex_adm=='f')&(df.height_cm_adm==89)&(df.weight_kg_adm<=10.3),'z-3',df['whz'])\n",
        "df['whz'] = np.where((df.sex_adm=='f')&(df.height_cm_adm==90)&(df.weight_kg_adm<=9.7),'z-2',df['whz'])\n",
        "df['whz'] = np.where((df.sex_adm=='f')&(df.height_cm_adm==90)&(df.weight_kg_adm<=10.5),'z-3',df['whz'])\n",
        "df['whz'] = np.where((df.sex_adm=='f')&(df.height_cm_adm==91)&(df.weight_kg_adm<=9.9),'z-2',df['whz'])\n",
        "df['whz'] = np.where((df.sex_adm=='f')&(df.height_cm_adm==91)&(df.weight_kg_adm<=10.7),'z-3',df['whz'])\n",
        "df['whz'] = np.where((df.sex_adm=='f')&(df.height_cm_adm==92)&(df.weight_kg_adm<=10.1),'z-2',df['whz'])\n",
        "df['whz'] = np.where((df.sex_adm=='f')&(df.height_cm_adm==92)&(df.weight_kg_adm<=10.9),'z-3',df['whz'])\n",
        "df['whz'] = np.where((df.sex_adm=='f')&(df.height_cm_adm==93)&(df.weight_kg_adm<=10.2),'z-2',df['whz'])\n",
        "df['whz'] = np.where((df.sex_adm=='f')&(df.height_cm_adm==93)&(df.weight_kg_adm<=11.1),'z-3',df['whz'])\n",
        "df['whz'] = np.where((df.sex_adm=='f')&(df.height_cm_adm==94)&(df.weight_kg_adm<=10.4),'z-2',df['whz'])\n",
        "df['whz'] = np.where((df.sex_adm=='f')&(df.height_cm_adm==94)&(df.weight_kg_adm<=11.3),'z-3',df['whz'])\n",
        "df['whz'] = np.where((df.sex_adm=='f')&(df.height_cm_adm==95)&(df.weight_kg_adm<=10.6),'z-2',df['whz'])\n",
        "df['whz'] = np.where((df.sex_adm=='f')&(df.height_cm_adm==95)&(df.weight_kg_adm<=11.5),'z-3',df['whz'])\n",
        "df['whz'] = np.where((df.sex_adm=='f')&(df.height_cm_adm==96)&(df.weight_kg_adm<=10.8),'z-2',df['whz'])\n",
        "df['whz'] = np.where((df.sex_adm=='f')&(df.height_cm_adm==96)&(df.weight_kg_adm<=11.7),'z-3',df['whz'])\n",
        "df['whz'] = np.where((df.sex_adm=='f')&(df.height_cm_adm==97)&(df.weight_kg_adm<=11),'z-2',df['whz'])\n",
        "df['whz'] = np.where((df.sex_adm=='f')&(df.height_cm_adm==97)&(df.weight_kg_adm<=12),'z-3',df['whz'])\n",
        "df['whz'] = np.where((df.sex_adm=='f')&(df.height_cm_adm==98)&(df.weight_kg_adm<=11.2),'z-2',df['whz'])\n",
        "df['whz'] = np.where((df.sex_adm=='f')&(df.height_cm_adm==98)&(df.weight_kg_adm<=12.2),'z-3',df['whz'])\n",
        "df['whz'] = np.where((df.sex_adm=='f')&(df.height_cm_adm==99)&(df.weight_kg_adm<=11.4),'z-2',df['whz'])\n",
        "df['whz'] = np.where((df.sex_adm=='f')&(df.height_cm_adm==99)&(df.weight_kg_adm<=12.4),'z-3',df['whz'])\n",
        "df['whz'] = np.where((df.sex_adm=='f')&(df.height_cm_adm==100)&(df.weight_kg_adm<=11.6),'z-2',df['whz'])\n",
        "df['whz'] = np.where((df.sex_adm=='f')&(df.height_cm_adm==100)&(df.weight_kg_adm<=12.6),'z-3',df['whz'])\n",
        "df['whz'] = np.where((df.sex_adm=='f')&(df.height_cm_adm==101)&(df.weight_kg_adm<=11.8),'z-2',df['whz'])\n",
        "df['whz'] = np.where((df.sex_adm=='f')&(df.height_cm_adm==101)&(df.weight_kg_adm<=12.8),'z-3',df['whz'])\n",
        "df['whz'] = np.where((df.sex_adm=='f')&(df.height_cm_adm==102)&(df.weight_kg_adm<=12),'z-2',df['whz'])\n",
        "df['whz'] = np.where((df.sex_adm=='f')&(df.height_cm_adm==102)&(df.weight_kg_adm<=13.1),'z-3',df['whz'])\n",
        "df['whz'] = np.where((df.sex_adm=='f')&(df.height_cm_adm==103)&(df.weight_kg_adm<=12.3),'z-2',df['whz'])\n",
        "df['whz'] = np.where((df.sex_adm=='f')&(df.height_cm_adm==103)&(df.weight_kg_adm<=13.3),'z-3',df['whz'])\n",
        "df['whz'] = np.where((df.sex_adm=='f')&(df.height_cm_adm==104)&(df.weight_kg_adm<=12.5),'z-2',df['whz'])\n",
        "df['whz'] = np.where((df.sex_adm=='f')&(df.height_cm_adm==104)&(df.weight_kg_adm<=13.6),'z-3',df['whz'])\n",
        "df['whz'] = np.where((df.sex_adm=='f')&(df.height_cm_adm==105)&(df.weight_kg_adm<=12.7),'z-2',df['whz'])\n",
        "df['whz'] = np.where((df.sex_adm=='f')&(df.height_cm_adm==105)&(df.weight_kg_adm<=13.8),'z-3',df['whz'])\n",
        "df['whz'] = np.where((df.sex_adm=='f')&(df.height_cm_adm==106)&(df.weight_kg_adm<=13),'z-2',df['whz'])\n",
        "df['whz'] = np.where((df.sex_adm=='f')&(df.height_cm_adm==106)&(df.weight_kg_adm<=14.1),'z-3',df['whz'])\n",
        "df['whz'] = np.where((df.sex_adm=='f')&(df.height_cm_adm==107)&(df.weight_kg_adm<=12.7),'z-2',df['whz'])\n",
        "df['whz'] = np.where((df.sex_adm=='f')&(df.height_cm_adm==107)&(df.weight_kg_adm<=13.8),'z-3',df['whz'])\n",
        "df['whz'] = np.where((df.sex_adm=='f')&(df.height_cm_adm==108)&(df.weight_kg_adm<=13.5),'z-2',df['whz'])\n",
        "df['whz'] = np.where((df.sex_adm=='f')&(df.height_cm_adm==108)&(df.weight_kg_adm<=14.7),'z-3',df['whz'])\n",
        "df['whz'] = np.where((df.sex_adm=='f')&(df.height_cm_adm==109)&(df.weight_kg_adm<=13.7),'z-2',df['whz'])\n",
        "df['whz'] = np.where((df.sex_adm=='f')&(df.height_cm_adm==109)&(df.weight_kg_adm<=15),'z-3',df['whz'])\n",
        "df['whz'] = np.where((df.sex_adm=='f')&(df.height_cm_adm==110)&(df.weight_kg_adm<=14),'z-2',df['whz'])\n",
        "df['whz'] = np.where((df.sex_adm=='f')&(df.height_cm_adm==110)&(df.weight_kg_adm<=15.3),'z-3',df['whz'])\n",
        "\n",
        "df['whz'] = np.where((df.sex_adm=='f')&(df.height_cm_adm==111)&(df.weight_kg_adm<=14.5),'z-3',df['whz'])\n",
        "df['whz'] = np.where((df.sex_adm=='f')&(df.height_cm_adm==111)&(df.weight_kg_adm<=15.8),'z-2',df['whz'])\n",
        "df['whz'] = np.where((df.sex_adm=='f')&(df.height_cm_adm==111)&(df.weight_kg_adm>=14.4),'normal',df['whz'])\n",
        "df['whz'] = np.where((df.sex_adm=='f')&(df.height_cm_adm==112)&(df.weight_kg_adm<=14.7),'z-3',df['whz'])\n",
        "df['whz'] = np.where((df.sex_adm=='f')&(df.height_cm_adm==112)&(df.weight_kg_adm<=15.8),'z-2',df['whz'])\n",
        "df['whz'] = np.where((df.sex_adm=='f')&(df.height_cm_adm==112)&(df.weight_kg_adm>=15.9),'normal',df['whz'])\n",
        "df['whz'] = np.where((df.sex_adm=='f')&(df.height_cm_adm==113)&(df.weight_kg_adm<=15.1),'z-3',df['whz'])\n",
        "df['whz'] = np.where((df.sex_adm=='f')&(df.height_cm_adm==113)&(df.weight_kg_adm<=16.5),'z-2',df['whz'])\n",
        "df['whz'] = np.where((df.sex_adm=='f')&(df.height_cm_adm==113)&(df.weight_kg_adm>=16.6),'normal',df['whz'])\n",
        "df['whz'] = np.where((df.sex_adm=='f')&(df.height_cm_adm==114)&(df.weight_kg_adm<=15.4),'z-3',df['whz'])\n",
        "df['whz'] = np.where((df.sex_adm=='f')&(df.height_cm_adm==114)&(df.weight_kg_adm<=16.8),'z-2',df['whz'])\n",
        "df['whz'] = np.where((df.sex_adm=='f')&(df.height_cm_adm==114)&(df.weight_kg_adm>=16.9),'normal',df['whz'])\n",
        "df['whz'] = np.where((df.sex_adm=='f')&(df.height_cm_adm==115)&(df.weight_kg_adm<=15.7),'z-3',df['whz'])\n",
        "df['whz'] = np.where((df.sex_adm=='f')&(df.height_cm_adm==115)&(df.weight_kg_adm<=17.2),'z-2',df['whz'])\n",
        "df['whz'] = np.where((df.sex_adm=='f')&(df.height_cm_adm==115)&(df.weight_kg_adm>=17.3),'normal',df['whz'])\n",
        "df['whz'] = np.where((df.sex_adm=='f')&(df.height_cm_adm==116)&(df.weight_kg_adm<=16),'z-3',df['whz'])\n",
        "df['whz'] = np.where((df.sex_adm=='f')&(df.height_cm_adm==116)&(df.weight_kg_adm<=17.5),'z-2',df['whz'])\n",
        "df['whz'] = np.where((df.sex_adm=='f')&(df.height_cm_adm==116)&(df.weight_kg_adm>=17.6),'normal',df['whz'])\n",
        "df['whz']=np.where((df.sex_adm=='f')&(df.height_cm_adm==117)&(df.weight_kg_adm<=16.3),'z-3',df['whz'])\n",
        "df['whz'] = np.where((df.sex_adm=='f')&(df.height_cm_adm==117)&(df.weight_kg_adm<=17.8),'z-2',df['whz'])\n",
        "df['whz'] = np.where((df.sex_adm=='f')&(df.height_cm_adm==117)&(df.weight_kg_adm>=17.9),'normal',df['whz'])\n",
        "df['whz'] = np.where((df.sex_adm=='f')&(df.height_cm_adm==118)&(df.weight_kg_adm<=16.6),'z-3',df['whz'])\n",
        "df['whz']=np.where((df.sex_adm=='f')&(df.height_cm_adm==118)&(df.weight_kg_adm<=18.4),'z-2',df['whz'])\n",
        "df['whz'] = np.where((df.sex_adm=='f')&(df.height_cm_adm==118)&(df.weight_kg_adm>=18.5),'normal',df['whz'])\n",
        "df['whz'] = np.where((df.sex_adm=='f')&(df.height_cm_adm==119)&(df.weight_kg_adm<=16.9),'z-3',df['whz'])\n",
        "df['whz'] = np.where((df.sex_adm=='f')&(df.height_cm_adm==119)&(df.weight_kg_adm<=20.3),'z-2',df['whz'])\n",
        "df['whz'] = np.where((df.sex_adm=='f')&(df.height_cm_adm==119)&(df.weight_kg_adm>=20.4),'normal',df['whz'])\n",
        "df['whz'] = np.where((df.sex_adm=='f')&(df.height_cm_adm==120)&(df.weight_kg_adm<=17.1),'z-3',df['whz'])\n",
        "df['whz'] = np.where((df.sex_adm=='f')&(df.height_cm_adm==120)&(df.weight_kg_adm<=18.6),'z-2',df['whz'])\n",
        "df['whz'] = np.where((df.sex_adm=='f')&(df.height_cm_adm==120)&(df.weight_kg_adm>=18.7),'normal',df['whz'])\n",
        "\n",
        "\n",
        "\n",
        "\n",
        "\n",
        "\n",
        "\n",
        "\n",
        "\n",
        "\n",
        "\n",
        "df['whz'] = np.where((df.sex_adm=='m')&(df.height_cm_adm==45)&(df.weight_kg_adm<=1.9),'z-3',df['whz'])\n",
        "df['whz'] = np.where((df.sex_adm=='m')&(df.height_cm_adm==45)&(df.weight_kg_adm>=2.1),'z-2',df['whz'])\n",
        "df['whz'] = np.where((df.sex_adm=='m')&(df.height_cm_adm==45)&(df.weight_kg_adm>=2.3),'normal',df['whz'])\n",
        "df['whz'] = np.where((df.sex_adm=='m')&(df.height_cm_adm==46)&(df.weight_kg_adm<=2),'z-3',df['whz'])\n",
        "df['whz'] = np.where((df.sex_adm=='m')&(df.height_cm_adm==46)&(df.weight_kg_adm>=2.2),'z-2',df['whz'])\n",
        "df['whz'] = np.where((df.sex_adm=='m')&(df.height_cm_adm==46)&(df.weight_kg_adm>=2.3),'normal',df['whz'])\n",
        "df['whz'] = np.where((df.sex_adm=='m')&(df.height_cm_adm==47)&(df.weight_kg_adm<=2.1),'z-3',df['whz'])\n",
        "df['whz'] = np.where((df.sex_adm=='m')&(df.height_cm_adm==47)&(df.weight_kg_adm<=2.3),'z-2',df['whz'])\n",
        "df['whz'] = np.where((df.sex_adm=='m')&(df.height_cm_adm==47)&(df.weight_kg_adm>=2.4),'normal',df['whz'])\n",
        "df['whz']=np.where((df.sex_adm=='m')&(df.height_cm_adm==48)&(df.weight_kg_adm<=2.3),'z-3',df['whz'])\n",
        "df['whz'] = np.where((df.sex_adm=='m')&(df.height_cm_adm==48)&(df.weight_kg_adm<=2.5),'z-2',df['whz'])\n",
        "df['whz'] = np.where((df.sex_adm=='m')&(df.height_cm_adm==48)&(df.weight_kg_adm>=2.6),'normal',df['whz'])\n",
        "df['whz'] = np.where((df.sex_adm=='m')&(df.height_cm_adm==49)&(df.weight_kg_adm<=2.6),'z-3',df['whz'])\n",
        "df['whz'] = np.where((df.sex_adm=='m')&(df.height_cm_adm==49)&(df.weight_kg_adm<=2.4),'z-2',df['whz'])\n",
        "df['whz'] = np.where((df.sex_adm=='m')&(df.height_cm_adm==49)&(df.weight_kg_adm>=2.5),'normal',df['whz'])\n",
        "df['whz'] = np.where((df.sex_adm=='m')&(df.height_cm_adm==50)&(df.weight_kg_adm<=2.6),'z-3',df['whz'])\n",
        "df['whz'] = np.where((df.sex_adm=='m')&(df.height_cm_adm==50)&(df.weight_kg_adm<=2.8),'z-2',df['whz'])\n",
        "df['whz'] = np.where((df.sex_adm=='m')&(df.height_cm_adm==50)&(df.weight_kg_adm>=2.9),'normal',df['whz'])\n",
        "df['whz'] = np.where((df.sex_adm=='m')&(df.height_cm_adm==51)&(df.weight_kg_adm<=2.7),'z-3',df['whz'])\n",
        "df['whz'] = np.where((df.sex_adm=='m')&(df.height_cm_adm==51)&(df.weight_kg_adm<=3),'z-2',df['whz'])\n",
        "df['whz'] = np.where((df.sex_adm=='m')&(df.height_cm_adm==51)&(df.weight_kg_adm>=3.1),'normal',df['whz'])\n",
        "df['whz'] = np.where((df.sex_adm=='m')&(df.height_cm_adm==52)&(df.weight_kg_adm>=2.9),'z-3',df['whz'])\n",
        "df['whz'] = np.where((df.sex_adm=='m')&(df.height_cm_adm==52)&(df.weight_kg_adm>=3.2),'z-2',df['whz'])\n",
        "df['whz'] = np.where((df.sex_adm=='m')&(df.height_cm_adm==52)&(df.weight_kg_adm>=3.3),'normal',df['whz'])\n",
        "df['whz'] = np.where((df.sex_adm=='m')&(df.height_cm_adm==53)&(df.weight_kg_adm<=3.1),'z-3',df['whz'])\n",
        "df['whz'] = np.where((df.sex_adm=='m')&(df.height_cm_adm==53)&(df.weight_kg_adm<=3.4),'z-2',df['whz'])\n",
        "df['whz'] = np.where((df.sex_adm=='m')&(df.height_cm_adm==53)&(df.weight_kg_adm>=3.5),'normal',df['whz'])\n",
        "df['whz'] = np.where((df.sex_adm=='m')&(df.height_cm_adm==54)&(df.weight_kg_adm>=3.3),'z-3',df['whz'])\n",
        "df['whz'] = np.where((df.sex_adm=='m')&(df.height_cm_adm==54)&(df.weight_kg_adm>=3.6),'z-2',df['whz'])\n",
        "df['whz'] = np.where((df.sex_adm=='m')&(df.height_cm_adm==54)&(df.weight_kg_adm>=3.7),'normal',df['whz'])\n",
        "df['whz'] = np.where((df.sex_adm=='m')&(df.height_cm_adm==55)&(df.weight_kg_adm<=3.6),'z-3',df['whz'])\n",
        "df['whz'] = np.where((df.sex_adm=='m')&(df.height_cm_adm==55)&(df.weight_kg_adm<=3.8),'z-2',df['whz'])\n",
        "df['whz'] = np.where((df.sex_adm=='m')&(df.height_cm_adm==55)&(df.weight_kg_adm>=3.9),'normal',df['whz'])\n",
        "df['whz'] = np.where((df.sex_adm=='m')&(df.height_cm_adm==56)&(df.weight_kg_adm<=3.8),'z-3',df['whz'])\n",
        "df['whz'] = np.where((df.sex_adm=='m')&(df.height_cm_adm==56)&(df.weight_kg_adm<=4.1),'z-2',df['whz'])\n",
        "df['whz'] = np.where((df.sex_adm=='m')&(df.height_cm_adm==56)&(df.weight_kg_adm>=4.2),'normal',df['whz'])\n",
        "df['whz'] = np.where((df.sex_adm=='m')&(df.height_cm_adm==57)&(df.weight_kg_adm<=4),'z-3',df['whz'])\n",
        "df['whz'] = np.where((df.sex_adm=='m')&(df.height_cm_adm==57)&(df.weight_kg_adm<=4.3),'z-2',df['whz'])\n",
        "df['whz'] = np.where((df.sex_adm=='m')&(df.height_cm_adm==57)&(df.weight_kg_adm>=4.4),'normal',df['whz'])\n",
        "df['whz'] = np.where((df.sex_adm=='m')&(df.height_cm_adm==58)&(df.weight_kg_adm<=4.3),'z-3',df['whz'])\n",
        "df['whz'] = np.where((df.sex_adm=='m')&(df.height_cm_adm==58)&(df.weight_kg_adm <=4.6),'z-2',df['whz'])\n",
        "df['whz'] = np.where((df.sex_adm=='m')&(df.height_cm_adm==58)&(df.weight_kg_adm>=2.7),'normal',df['whz'])\n",
        "df['whz'] = np.where((df.sex_adm=='m')&(df.height_cm_adm==59)&(df.weight_kg_adm<=4.5),'z-3',df['whz'])\n",
        "df['whz'] = np.where((df.sex_adm=='m')&(df.height_cm_adm==59)&(df.weight_kg_adm<=4.8),'z-2',df['whz'])\n",
        "df['whz'] = np.where((df.sex_adm=='m')&(df.height_cm_adm==59)&(df.weight_kg_adm>=4.9),'normal',df['whz'])\n",
        "df['whz'] = np.where((df.sex_adm=='m')&(df.height_cm_adm==60)&(df.weight_kg_adm<=4.7),'z-3',df['whz'])\n",
        "df['whz'] = np.where((df.sex_adm=='m')&(df.height_cm_adm==60)&(df.weight_kg_adm<=5.1),'z-2',df['whz'])\n",
        "df['whz'] = np.where((df.sex_adm=='m')&(df.height_cm_adm==60)&(df.weight_kg_adm>=2.5),'normal',df['whz'])\n",
        "df['whz'] = np.where((df.sex_adm=='m')&(df.height_cm_adm==61)&(df.weight_kg_adm<=4.9),'z-3',df['whz'])\n",
        "df['whz'] = np.where((df.sex_adm=='m')&(df.height_cm_adm==61)&(df.weight_kg_adm<=5.3),'z-2',df['whz'])\n",
        "df['whz'] = np.where((df.sex_adm=='m')&(df.height_cm_adm==61)&(df.weight_kg_adm>=5.4),'normal',df['whz'])\n",
        "df['whz'] = np.where((df.sex_adm=='m')&(df.height_cm_adm==62)&(df.weight_kg_adm<=5.1),'normal',df['whz'])\n",
        "df['whz'] = np.where((df.sex_adm=='m')&(df.height_cm_adm==62)&(df.weight_kg_adm<=5.6),'normal',df['whz'])\n",
        "df['whz'] = np.where((df.sex_adm=='m')&(df.height_cm_adm==62)&(df.weight_kg_adm>=5.7),'normal',df['whz'])\n",
        "df['whz'] = np.where((df.sex_adm=='m')&(df.height_cm_adm==63)&(df.weight_kg_adm<=5.3),'z-3',df['whz'])\n",
        "df['whz'] = np.where((df.sex_adm=='m')&(df.height_cm_adm==63)&(df.weight_kg_adm<=5.8),'z-2',df['whz'])\n",
        "df['whz'] = np.where((df.sex_adm=='m')&(df.height_cm_adm==63)&(df.weight_kg_adm>=5.9),'normal',df['whz'])\n",
        "df['whz'] = np.where((df.sex_adm=='m')&(df.height_cm_adm==64)&(df.weight_kg_adm>=5.4),'normal',df['whz'])\n",
        "df['whz'] = np.where((df.sex_adm=='m')&(df.height_cm_adm==64)&(df.weight_kg_adm>=5.9),'normal',df['whz'])\n",
        "df['whz'] = np.where((df.sex_adm=='m')&(df.height_cm_adm==64)&(df.weight_kg_adm>=6),'normal',df['whz'])\n",
        "df['whz'] = np.where((df.sex_adm=='m')&(df.height_cm_adm==65)&(df.weight_kg_adm>=5.7),'z-3',df['whz'])\n",
        "df['whz'] = np.where((df.sex_adm=='m')&(df.height_cm_adm==65)&(df.weight_kg_adm>=6.2),'z-2',df['whz'])\n",
        "df['whz'] = np.where((df.sex_adm=='m')&(df.height_cm_adm==65)&(df.weight_kg_adm>=6.3),'normal',df['whz'])\n",
        "df['whz'] = np.where((df.sex_adm=='m')&(df.height_cm_adm==67)&(df.weight_kg_adm>=6.1),'z-3',df['whz'])\n",
        "df['whz'] = np.where((df.sex_adm=='m')&(df.height_cm_adm==67)&(df.weight_kg_adm>=6.6),'z-2',df['whz'])\n",
        "df['whz'] = np.where((df.sex_adm=='m')&(df.height_cm_adm==67)&(df.weight_kg_adm>=6.7),'normal',df['whz'])\n",
        "df['whz'] = np.where((df.sex_adm=='m')&(df.height_cm_adm==68)&(df.weight_kg_adm<=6.3),'z-3',df['whz'])\n",
        "df['whz'] = np.where((df.sex_adm=='m')&(df.height_cm_adm==68)&(df.weight_kg_adm<=6.8),'z-2',df['whz'])\n",
        "df['whz'] = np.where((df.sex_adm=='m')&(df.height_cm_adm==68)&(df.weight_kg_adm>=2.6),'normal',df['whz'])\n",
        "df['whz'] = np.where((df.sex_adm=='m')&(df.height_cm_adm==69)&(df.weight_kg_adm<=6.5),'z-3',df['whz'])\n",
        "df['whz'] = np.where((df.sex_adm=='m')&(df.height_cm_adm==69)&(df.weight_kg_adm<=7),'z-2',df['whz'])\n",
        "df['whz'] = np.where((df.sex_adm=='m')&(df.height_cm_adm==69)&(df.weight_kg_adm>=2.6),'normal',df['whz'])\n",
        "df['whz'] = np.where((df.sex_adm=='m')&(df.height_cm_adm==70)&(df.weight_kg_adm<=6.6),'z-3',df['whz'])\n",
        "df['whz'] = np.where((df.sex_adm=='m')&(df.height_cm_adm==70)&(df.weight_kg_adm<=7.2),'z-2',df['whz'])\n",
        "df['whz'] = np.where((df.sex_adm=='m')&(df.height_cm_adm==70)&(df.weight_kg_adm>=7.3),'normal',df['whz'])\n",
        "df['whz'] = np.where((df.sex_adm=='m')&(df.height_cm_adm==71)&(df.weight_kg_adm<=6.8),'z-3',df['whz'])\n",
        "df['whz'] = np.where((df.sex_adm=='m')&(df.height_cm_adm==71)&(df.weight_kg_adm<=7.4),'z-2',df['whz'])\n",
        "df['whz'] = np.where((df.sex_adm=='m')&(df.height_cm_adm==71)&(df.weight_kg_adm>=7.5),'normal',df['whz'])\n",
        "df['whz'] = np.where((df.sex_adm=='m')&(df.height_cm_adm==72)&(df.weight_kg_adm<=7),'z-3',df['whz'])\n",
        "df['whz'] = np.where((df.sex_adm=='m')&(df.height_cm_adm==72)&(df.weight_kg_adm<=7.6),'z-2',df['whz'])\n",
        "df['whz'] = np.where((df.sex_adm=='m')&(df.height_cm_adm==72)&(df.weight_kg_adm>=7.7),'normal',df['whz'])\n",
        "\n",
        "df['whz'] = np.where((df.sex_adm=='m')&(df.height_cm_adm==73)&(df.weight_kg_adm<=7.3),'z-3',df['whz'])\n",
        "df['whz'] = np.where((df.sex_adm=='m')&(df.height_cm_adm==73)&(df.weight_kg_adm<=7.9),'z-2',df['whz'])\n",
        "df['whz'] = np.where((df.sex_adm=='m')&(df.height_cm_adm==73)&(df.weight_kg_adm>=7.8),'normal',df['whz'])\n",
        "df['whz'] = np.where((df.sex_adm=='m')&(df.height_cm_adm==74)&(df.weight_kg_adm>=7.3),'z-3',df['whz'])\n",
        "df['whz'] = np.where((df.sex_adm=='m')&(df.height_cm_adm==74)&(df.weight_kg_adm>=7.9),'z-2',df['whz'])\n",
        "df['whz'] = np.where((df.sex_adm=='m')&(df.height_cm_adm==74)&(df.weight_kg_adm>=8),'normal',df['whz'])\n",
        "df['whz'] = np.where((df.sex_adm=='m')&(df.height_cm_adm==75)&(df.weight_kg_adm<=7.5),'z-3',df['whz'])\n",
        "df['whz'] = np.where((df.sex_adm=='m')&(df.height_cm_adm==75)&(df.weight_kg_adm<=8.1),'z-2',df['whz'])\n",
        "df['whz'] = np.where((df.sex_adm=='m')&(df.height_cm_adm==75)&(df.weight_kg_adm>=8.2),'normal',df['whz'])\n",
        "df['whz'] = np.where((df.sex_adm=='m')&(df.height_cm_adm==76)&(df.weight_kg_adm<=7.6),'z-3',df['whz'])\n",
        "df['whz'] = np.where((df.sex_adm=='m')&(df.height_cm_adm==76)&(df.weight_kg_adm<=8.3),'z-2',df['whz'])\n",
        "df['whz'] = np.where((df.sex_adm=='m')&(df.height_cm_adm==76)&(df.weight_kg_adm>=2.6),'normal',df['whz'])\n",
        "df['whz'] = np.where((df.sex_adm=='m')&(df.height_cm_adm==77)&(df.weight_kg_adm<=7.8),'z-3',df['whz'])\n",
        "df['whz'] = np.where((df.sex_adm=='m')&(df.height_cm_adm==77)&(df.weight_kg_adm<=8.4),'z-2',df['whz'])\n",
        "df['whz'] = np.where((df.sex_adm=='m')&(df.height_cm_adm==77)&(df.weight_kg_adm>=2.6),'normal',df['whz'])\n",
        "df['whz'] = np.where((df.sex_adm=='m')&(df.height_cm_adm==78)&(df.weight_kg_adm>=7.9),'z-3',df['whz'])\n",
        "df['whz'] = np.where((df.sex_adm=='m')&(df.height_cm_adm==78)&(df.weight_kg_adm<=8.6),'z-2',df['whz'])\n",
        "df['whz'] = np.where((df.sex_adm=='m')&(df.height_cm_adm==78)&(df.weight_kg_adm>=8.7),'normal',df['whz'])\n",
        "df['whz'] = np.where((df.sex_adm=='m')&(df.height_cm_adm==79)&(df.weight_kg_adm<=8.1),'z-3',df['whz'])\n",
        "df['whz'] = np.where((df.sex_adm=='m')&(df.height_cm_adm==79)&(df.weight_kg_adm<=8.7),'z-2',df['whz'])\n",
        "df['whz'] = np.where((df.sex_adm=='m')&(df.height_cm_adm==79)&(df.weight_kg_adm>=8.8),'normal',df['whz'])\n",
        "df['whz'] = np.where((df.sex_adm=='m')&(df.height_cm_adm==80)&(df.weight_kg_adm<=8.2),'z-3',df['whz'])\n",
        "df['whz'] = np.where((df.sex_adm=='m')&(df.height_cm_adm==80)&(df.weight_kg_adm<=8.9),'z-2',df['whz'])\n",
        "df['whz'] = np.where((df.sex_adm=='m')&(df.height_cm_adm==80)&(df.weight_kg_adm>=9),'normal',df['whz'])\n",
        "df['whz'] = np.where((df.sex_adm=='m')&(df.height_cm_adm==81)&(df.weight_kg_adm>=8.4),'z-3',df['whz'])\n",
        "df['whz'] = np.where((df.sex_adm=='m')&(df.height_cm_adm==81)&(df.weight_kg_adm>=9.1),'z-2',df['whz'])\n",
        "df['whz'] = np.where((df.sex_adm=='m')&(df.height_cm_adm==81)&(df.weight_kg_adm>=9.2),'normal',df['whz'])\n",
        "df['whz'] = np.where((df.sex_adm=='m')&(df.height_cm_adm==82)&(df.weight_kg_adm<=8.5),'z-3',df['whz'])\n",
        "df['whz'] = np.where((df.sex_adm=='m')&(df.height_cm_adm==82)&(df.weight_kg_adm<=9.2),'z-2',df['whz'])\n",
        "df['whz'] = np.where((df.sex_adm=='m')&(df.height_cm_adm==82)&(df.weight_kg_adm>=9.3),'normal',df['whz'])\n",
        "df['whz'] = np.where((df.sex_adm=='m')&(df.height_cm_adm==83)&(df.weight_kg_adm>=8.7),'z-3',df['whz'])\n",
        "df['whz'] = np.where((df.sex_adm=='m')&(df.height_cm_adm==83)&(df.weight_kg_adm>=9.4),'z-2',df['whz'])\n",
        "df['whz'] = np.where((df.sex_adm=='m')&(df.height_cm_adm==83)&(df.weight_kg_adm>=9.5),'normal',df['whz'])\n",
        "df['whz'] = np.where((df.sex_adm=='m')&(df.height_cm_adm==84)&(df.weight_kg_adm<=8.9),'z-3',df['whz'])\n",
        "df['whz'] = np.where((df.sex_adm=='m')&(df.height_cm_adm==84)&(df.weight_kg_adm>=9.6),'z-2',df['whz'])\n",
        "df['whz'] = np.where((df.sex_adm=='m')&(df.height_cm_adm==85)&(df.weight_kg_adm>=9.1),'z-3',df['whz'])\n",
        "df['whz'] = np.where((df.sex_adm=='m')&(df.height_cm_adm==85)&(df.weight_kg_adm>=9.8),'z-2',df['whz'])\n",
        "df['whz'] = np.where((df.sex_adm=='m')&(df.height_cm_adm==85)&(df.weight_kg_adm>=9.9),'normal',df['whz'])\n",
        "df['whz'] = np.where((df.sex_adm=='m')&(df.height_cm_adm==86)&(df.weight_kg_adm>=9.3),'z-3',df['whz'])\n",
        "df['whz'] = np.where((df.sex_adm=='m')&(df.height_cm_adm==86)&(df.weight_kg_adm>=10),'z-2',df['whz'])\n",
        "df['whz'] = np.where((df.sex_adm=='m')&(df.height_cm_adm==86)&(df.weight_kg_adm>=10.1),'normal',df['whz'])\n",
        "df['whz'] = np.where((df.sex_adm=='m')&(df.height_cm_adm==87)&(df.weight_kg_adm<=9.5),'z-3',df['whz'])\n",
        "df['whz'] = np.where((df.sex_adm=='m')&(df.height_cm_adm==87)&(df.weight_kg_adm<=10.2),'z-2',df['whz'])\n",
        "df['whz'] = np.where((df.sex_adm=='m')&(df.height_cm_adm==87)&(df.weight_kg_adm>=10.3),'normal',df['whz'])\n",
        "df['whz'] = np.where((df.sex_adm=='m')&(df.height_cm_adm==88)&(df.weight_kg_adm>=9.7),'z-3',df['whz'])\n",
        "df['whz'] = np.where((df.sex_adm=='m')&(df.height_cm_adm==88)&(df.weight_kg_adm>=10.5),'z-2',df['whz'])\n",
        "df['whz'] = np.where((df.sex_adm=='m')&(df.height_cm_adm==88)&(df.weight_kg_adm>=10.6),'normal',df['whz'])\n",
        "df['whz'] = np.where((df.sex_adm=='m')&(df.height_cm_adm==89)&(df.weight_kg_adm>=9.5),'z-3',df['whz'])\n",
        "df['whz'] = np.where((df.sex_adm=='m')&(df.height_cm_adm==89)&(df.weight_kg_adm>=10.7),'z-2',df['whz'])\n",
        "df['whz'] = np.where((df.sex_adm=='m')&(df.height_cm_adm==89)&(df.weight_kg_adm>=9.7),'normal',df['whz'])\n",
        "df['whz'] = np.where((df.sex_adm=='m')&(df.height_cm_adm==90)&(df.weight_kg_adm<=10.1),'z-3',df['whz'])\n",
        "df['whz'] = np.where((df.sex_adm=='m')&(df.height_cm_adm==90)&(df.weight_kg_adm<=10.9),'z-2',df['whz'])\n",
        "df['whz'] = np.where((df.sex_adm=='m')&(df.height_cm_adm==90)&(df.weight_kg_adm>=11),'normal',df['whz'])\n",
        "df['whz'] = np.where((df.sex_adm=='m')&(df.height_cm_adm==91)&(df.weight_kg_adm<=10.3),'z-3',df['whz'])\n",
        "df['whz'] = np.where((df.sex_adm=='m')&(df.height_cm_adm==91)&(df.weight_kg_adm<=11),'z-2',df['whz'])\n",
        "df['whz'] = np.where((df.sex_adm=='m')&(df.height_cm_adm==91)&(df.weight_kg_adm>=9.7),'normal',df['whz'])\n",
        "df['whz'] = np.where((df.sex_adm=='m')&(df.height_cm_adm==92)&(df.weight_kg_adm<=10.5),'z-3',df['whz'])\n",
        "df['whz'] = np.where((df.sex_adm=='m')&(df.height_cm_adm==92)&(df.weight_kg_adm<=11.3),'z-2',df['whz'])\n",
        "df['whz'] = np.where((df.sex_adm=='m')&(df.height_cm_adm==92)&(df.weight_kg_adm>=11.2),'normal',df['whz'])\n",
        "df['whz'] = np.where((df.sex_adm=='m')&(df.height_cm_adm==93)&(df.weight_kg_adm<=10.7),'z-3',df['whz'])\n",
        "df['whz'] = np.where((df.sex_adm=='m')&(df.height_cm_adm==93)&(df.weight_kg_adm<=11.5),'z-2',df['whz'])\n",
        "df['whz'] = np.where((df.sex_adm=='m')&(df.height_cm_adm==93)&(df.weight_kg_adm>=11.6),'normal',df['whz'])\n",
        "df['whz'] = np.where((df.sex_adm=='m')&(df.height_cm_adm==94)&(df.weight_kg_adm<=10.8),'z-3',df['whz'])\n",
        "df['whz'] = np.where((df.sex_adm=='m')&(df.height_cm_adm==94)&(df.weight_kg_adm<=11.7),'z-2',df['whz'])\n",
        "df['whz'] = np.where((df.sex_adm=='m')&(df.height_cm_adm==94)&(df.weight_kg_adm>=11.8),'normal',df['whz'])\n",
        "df['whz'] = np.where((df.sex_adm=='m')&(df.height_cm_adm==95)&(df.weight_kg_adm<=11.1),'z-3',df['whz'])\n",
        "df['whz'] = np.where((df.sex_adm=='m')&(df.height_cm_adm==95)&(df.weight_kg_adm<=12),'z-2',df['whz'])\n",
        "df['whz'] = np.where((df.sex_adm=='m')&(df.height_cm_adm==95)&(df.weight_kg_adm>=12.1),'normal',df['whz'])\n",
        "df['whz'] = np.where((df.sex_adm=='m')&(df.height_cm_adm==96)&(df.weight_kg_adm<=11.2),'z-3',df['whz'])\n",
        "df['whz'] = np.where((df.sex_adm=='m')&(df.height_cm_adm==96)&(df.weight_kg_adm<=12.1),'z-2',df['whz'])\n",
        "df['whz'] = np.where((df.sex_adm=='m')&(df.height_cm_adm==96)&(df.weight_kg_adm>=12.4),'normal',df['whz'])\n",
        "df['whz'] = np.where((df.sex_adm=='m')&(df.height_cm_adm==97)&(df.weight_kg_adm<=11.4),'z-3',df['whz'])\n",
        "df['whz']=np.where((df.sex_adm=='m')&(df.height_cm_adm==97)&(df.weight_kg_adm<=11.4),'z-2',df['whz'])\n",
        "df['whz'] = np.where((df.sex_adm=='m')&(df.height_cm_adm==97)&(df.weight_kg_adm>=12.3),'normal',df['whz'])\n",
        "df['whz'] = np.where((df.sex_adm=='m')&(df.height_cm_adm==98)&(df.weight_kg_adm<=11.7),'z-3',df['whz'])\n",
        "df['whz'] = np.where((df.sex_adm=='m')&(df.height_cm_adm==98)&(df.weight_kg_adm<=12.3),'z-3',df['whz'])\n",
        "df['whz'] = np.where((df.sex_adm=='m')&(df.height_cm_adm==98)&(df.weight_kg_adm>=12.4),'normal',df['whz'])\n",
        "df['whz'] = np.where((df.sex_adm=='m')&(df.height_cm_adm==99)&(df.weight_kg_adm<=11.8),'z-3',df['whz'])\n",
        "df['whz'] = np.where((df.sex_adm=='m')&(df.height_cm_adm==99)&(df.weight_kg_adm<=12.7),'z-2',df['whz'])\n",
        "df['whz'] = np.where((df.sex_adm=='m')&(df.height_cm_adm==99)&(df.weight_kg_adm>=12.8),'normal',df['whz'])\n",
        "df['whz'] = np.where((df.sex_adm=='m')&(df.height_cm_adm==100)&(df.weight_kg_adm<=12),'z-3',df['whz'])\n",
        "df['whz'] = np.where((df.sex_adm=='m')&(df.height_cm_adm==100)&(df.weight_kg_adm<=12.9),'z-3',df['whz'])\n",
        "df['whz'] = np.where((df.sex_adm=='m')&(df.height_cm_adm==101)&(df.weight_kg_adm<=12.1),'z-3',df['whz'])\n",
        "\n",
        "df['whz'] = np.where((df.sex_adm=='m')&(df.height_cm_adm==101)&(df.weight_kg_adm<=12.2),'z-3',df['whz'])\n",
        "df['whz'] = np.where((df.sex_adm=='m')&(df.height_cm_adm==101)&(df.weight_kg_adm<=13.2),'z-3',df['whz'])\n",
        "df['whz'] = np.where((df.sex_adm=='m')&(df.height_cm_adm==101)&(df.weight_kg_adm<=13.3),'normal',df['whz'])\n",
        "df['whz'] = np.where((df.sex_adm=='m')&(df.height_cm_adm==102)&(df.weight_kg_adm<=11.6),'z-3',df['whz'])\n",
        "df['whz'] = np.where((df.sex_adm=='m')&(df.height_cm_adm==102)&(df.weight_kg_adm<=12.4),'z-3',df['whz'])\n",
        "df['whz'] = np.where((df.sex_adm=='m')&(df.height_cm_adm==102)&(df.weight_kg_adm<=13.4),'z-2',df['whz'])\n",
        "df['whz'] = np.where((df.sex_adm=='m')&(df.height_cm_adm==103)&(df.weight_kg_adm<=12.6),'z-3',df['whz'])\n",
        "df['whz'] = np.where((df.sex_adm=='m')&(df.height_cm_adm==103)&(df.weight_kg_adm<=13.6),'z-2',df['whz'])\n",
        "df['whz'] = np.where((df.sex_adm=='m')&(df.height_cm_adm==103)&(df.weight_kg_adm>=13.7),'normal',df['whz'])\n",
        "df['whz'] = np.where((df.sex_adm=='m')&(df.height_cm_adm==104)&(df.weight_kg_adm<=12.8),'z-3',df['whz'])\n",
        "df['whz'] = np.where((df.sex_adm=='m')&(df.height_cm_adm==104)&(df.weight_kg_adm<=13.9),'z-2',df['whz'])\n",
        "df['whz'] = np.where((df.sex_adm=='m')&(df.height_cm_adm==104)&(df.weight_kg_adm>=14),'normal',df['whz'])\n",
        "df['whz'] = np.where((df.sex_adm=='m')&(df.height_cm_adm==105)&(df.weight_kg_adm<=13),'normal',df['whz'])\n",
        "df['whz'] = np.where((df.sex_adm=='m')&(df.height_cm_adm==105)&(df.weight_kg_adm<=14.1),'normal',df['whz'])\n",
        "df['whz'] = np.where((df.sex_adm=='m')&(df.height_cm_adm==105)&(df.weight_kg_adm>=14.2),'normal',df['whz'])\n",
        "df['whz'] = np.where((df.sex_adm=='m')&(df.height_cm_adm==106)&(df.weight_kg_adm>=13.3),'z-3',df['whz'])\n",
        "df['whz'] = np.where((df.sex_adm=='m')&(df.height_cm_adm==106)&(df.weight_kg_adm>=14.4),'z-2',df['whz'])\n",
        "df['whz'] = np.where((df.sex_adm=='m')&(df.height_cm_adm==106)&(df.weight_kg_adm>=14.5),'normal',df['whz'])\n",
        "df['whz'] = np.where((df.sex_adm=='m')&(df.height_cm_adm==107)&(df.weight_kg_adm<=13.5),'z-3',df['whz'])\n",
        "df['whz'] = np.where((df.sex_adm=='m')&(df.height_cm_adm==107)&(df.weight_kg_adm<=14.6),'z-2',df['whz'])\n",
        "df['whz'] = np.where((df.sex_adm=='m')&(df.height_cm_adm==107)&(df.weight_kg_adm>=14.7),'normal',df['whz'])\n",
        "df['whz'] = np.where((df.sex_adm=='m')&(df.height_cm_adm==108)&(df.weight_kg_adm<=13.7),'z-3',df['whz'])\n",
        "df['whz'] = np.where((df.sex_adm=='m')&(df.height_cm_adm==108)&(df.weight_kg_adm<=14.9),'z-2',df['whz'])\n",
        "df['whz'] = np.where((df.sex_adm=='m')&(df.height_cm_adm==108)&(df.weight_kg_adm>=15),'normal',df['whz'])\n",
        "df['whz'] = np.where((df.sex_adm=='m')&(df.height_cm_adm==109)&(df.weight_kg_adm>=14),'z-3',df['whz'])\n",
        "df['whz'] = np.where((df.sex_adm=='m')&(df.height_cm_adm==109)&(df.weight_kg_adm>=15.1),'z-2',df['whz'])\n",
        "df['whz'] = np.where((df.sex_adm=='m')&(df.height_cm_adm==109)&(df.weight_kg_adm>=14),'normal',df['whz'])\n",
        "df['whz'] = np.where((df.sex_adm=='m')&(df.height_cm_adm==110)&(df.weight_kg_adm<=14.2),'normal',df['whz'])\n",
        "df['whz'] = np.where((df.sex_adm=='m')&(df.height_cm_adm==110)&(df.weight_kg_adm<=15.3),'normal',df['whz'])\n",
        "df['whz'] = np.where((df.sex_adm=='m')&(df.height_cm_adm==110)&(df.weight_kg_adm>=15.4),'normal',df['whz'])\n",
        "df['whz'] = np.where((df.sex_adm=='m')&(df.height_cm_adm==111)&(df.weight_kg_adm<=14.6),'z-3',df['whz'])\n",
        "df['whz'] = np.where((df.sex_adm=='m')&(df.height_cm_adm==111)&(df.weight_kg_adm<=15.9),'z-2',df['whz'])\n",
        "df['whz'] = np.where((df.sex_adm=='m')&(df.height_cm_adm==111)&(df.weight_kg_adm>=16),'normal',df['whz'])\n",
        "df['whz'] = np.where((df.sex_adm=='m')&(df.height_cm_adm==112)&(df.weight_kg_adm<=14.9),'z-3',df['whz'])\n",
        "df['whz'] = np.where((df.sex_adm=='m')&(df.height_cm_adm==112)&(df.weight_kg_adm<=16.2),'z-2',df['whz'])\n",
        "df['whz'] = np.where((df.sex_adm=='m')&(df.height_cm_adm==112)&(df.weight_kg_adm>=16.3),'normal',df['whz'])\n",
        "df['whz'] = np.where((df.sex_adm=='m')&(df.height_cm_adm==113)&(df.weight_kg_adm<=15.2),'z-3',df['whz'])\n",
        "df['whz'] = np.where((df.sex_adm=='m')&(df.height_cm_adm==113)&(df.weight_kg_adm<=16.5),'z-2',df['whz'])\n",
        "df['whz'] = np.where((df.sex_adm=='m')&(df.height_cm_adm==113)&(df.weight_kg_adm>=16.6),'normal',df['whz'])\n",
        "df['whz'] = np.where((df.sex_adm=='m')&(df.height_cm_adm==114)&(df.weight_kg_adm<=15.4),'z-3',df['whz'])\n",
        "df['whz'] = np.where((df.sex_adm=='m')&(df.height_cm_adm==114)&(df.weight_kg_adm<=16.8),'z-2',df['whz'])\n",
        "df['whz'] = np.where((df.sex_adm=='m')&(df.height_cm_adm==114)&(df.weight_kg_adm>=16.9),'normal',df['whz'])\n",
        "df['whz'] = np.where((df.sex_adm=='m')&(df.height_cm_adm==115)&(df.weight_kg_adm<=15.8),'z-3',df['whz'])\n",
        "df['whz'] = np.where((df.sex_adm=='m')&(df.height_cm_adm==115)&(df.weight_kg_adm<=17.1),'z-2',df['whz'])\n",
        "df['whz'] = np.where((df.sex_adm=='m')&(df.height_cm_adm==115)&(df.weight_kg_adm<=17.2),'normal',df['whz'])\n",
        "df['whz'] = np.where((df.sex_adm=='m')&(df.height_cm_adm==116)&(df.weight_kg_adm<=16),'z-3',df['whz'])\n",
        "df['whz'] = np.where((df.sex_adm=='m')&(df.height_cm_adm==117)&(df.weight_kg_adm<=16),'z-3',df['whz'])\n",
        "df['whz'] = np.where((df.sex_adm=='m')&(df.height_cm_adm==117)&(df.weight_kg_adm>=17.4),'z-2',df['whz'])\n",
        "df['whz'] = np.where((df.sex_adm=='m')&(df.height_cm_adm==117)&(df.weight_kg_adm>=17.5),'normal',df['whz'])\n",
        "df['whz'] = np.where((df.sex_adm=='m')&(df.height_cm_adm==118)&(df.weight_kg_adm<=16.5),'normal',df['whz'])\n",
        "df['whz'] = np.where((df.sex_adm=='m')&(df.height_cm_adm==118)&(df.weight_kg_adm<=18),'normal',df['whz'])\n",
        "df['whz'] = np.where((df.sex_adm=='m')&(df.height_cm_adm==118)&(df.weight_kg_adm>=18.1),'normal',df['whz'])\n",
        "df['whz'] = np.where((df.sex_adm=='m')&(df.height_cm_adm==119)&(df.weight_kg_adm<=16.8),'z-3',df['whz'])\n",
        "df['whz'] = np.where((df.sex_adm=='m')&(df.height_cm_adm==119)&(df.weight_kg_adm<=18.3),'z-2',df['whz'])\n",
        "df['whz'] = np.where((df.sex_adm=='m')&(df.height_cm_adm==119)&(df.weight_kg_adm>=18.4),'normal',df['whz'])\n",
        "df['whz'] = np.where((df.sex_adm=='m')&(df.height_cm_adm==120)&(df.weight_kg_adm>=17.1),'z-3',df['whz'])\n",
        "df['whz'] = np.where((df.sex_adm=='m')&(df.height_cm_adm==120)&(df.weight_kg_adm>=18.6),'z-2',df['whz'])\n",
        "df['whz'] = np.where((df.sex_adm=='m')&(df.height_cm_adm==120)&(df.weight_kg_adm>=18.7),'normal',df['whz'])\n",
        "\n"
      ]
    },
    {
      "cell_type": "code",
      "source": [
        "df['whz'] = np.where((df.sex_adm=='f')&(df.height_cm_adm==48)&(df.weight_kg_adm<=2.3),'z-3',df['whz'])\n",
        "df['whz'] = np.where((df.sex_adm=='f')&(df.height_cm_adm==48)&(df.weight_kg_adm<=2.5),'z-2',df['whz'])\n",
        "df['whz'] = np.where((df.sex_adm=='f')&(df.height_cm_adm==48)&(df.weight_kg_adm>=2.6),'normal',df['whz'])\n",
        "df['whz'] = np.where((df.sex_adm=='f')&((df.height_cm_adm==49)&(df.weight_kg_adm<=2.4)),'z-3',df['whz'])\n",
        "df['whz'] = np.where((df.sex_adm=='f')&(df.height_cm_adm==49)& (df.weight_kg_adm<=2.6),'z-2',df['whz'])\n",
        "df['whz'] = np.where((df.sex_adm=='f')&(df.height_cm_adm==49)&(df.weight_kg_adm>=2.7),'normal',df['whz'])\n",
        "df['whz'] = np.where((df.sex_adm=='f')&(df.height_cm_adm==50)&(df.weight_kg_adm<=2.6),'z-3',df['whz'])\n",
        "df['whz'] = np.where((df.sex_adm=='f')&((df.height_cm_adm==50)&(df.weight_kg_adm<=3)),'z-2',df['whz'])\n",
        "df['whz'] = np.where((df.sex_adm=='f')&(df.height_cm_adm==50)&(df.weight_kg_adm>=3.1),'normal',df['whz'])\n",
        "df['whz'] = np.where((df.sex_adm=='f')&(df.height_cm_adm==51)&(df.weight_kg_adm<=2.8),'z-3',df['whz'])\n",
        "df['whz'] = np.where((df.sex_adm=='f')&(df.height_cm_adm==51)&(df.weight_kg_adm<=3),'z-2',df['whz'])\n",
        "df['whz'] = np.where((df.sex_adm=='f')&(df.height_cm_adm==51)&(df.weight_kg_adm>=3.1),'normal',df['whz'])\n",
        "df['whz'] = np.where((df.sex_adm=='f')&(df.height_cm_adm==52)&(df.weight_kg_adm<=2.9),'z-3',df['whz'])\n",
        "df['whz'] = np.where((df.sex_adm=='f')&(df.height_cm_adm==52)&(df.weight_kg_adm<=3.2),'z-2',df['whz'])\n",
        "df['whz'] = np.where((df.sex_adm=='f')&(df.height_cm_adm==52)&(df.weight_kg_adm>=3.3),'normal',df['whz'])\n",
        "df['whz'] = np.where((df.sex_adm=='f')&(df.height_cm_adm==53)&(df.weight_kg_adm<=3.1),'z-3',df['whz'])\n",
        "df['whz'] = np.where((df.sex_adm=='f')&(df.height_cm_adm==53)&(df.weight_kg_adm<=3.4),'z-2',df['whz'])\n",
        "df['whz'] = np.where((df.sex_adm=='f')&(df.height_cm_adm==53)&(df.weight_kg_adm>=3.5),'normal',df['whz'])\n",
        "df['whz'] = np.where((df.sex_adm=='f')&(df.height_cm_adm==54)&(df.weight_kg_adm<=3.3),'z-3',df['whz'])\n",
        "df['whz'] = np.where((df.sex_adm=='f')&(df.height_cm_adm==54)&(df.weight_kg_adm<=3.6),'z-2',df['whz'])\n",
        "df['whz'] = np.where((df.sex_adm=='f')&(df.height_cm_adm==54)&(df.weight_kg_adm>=3.7),'normal',df['whz'])\n",
        "df['whz'] = np.where((df.sex_adm=='f')&(df.height_cm_adm==55)&(df.weight_kg_adm<=3.5),'z-3',df['whz'])\n",
        "df['whz'] = np.where((df.sex_adm=='f')&(df.height_cm_adm==55)&(df.weight_kg_adm<=3.8),'z-2',df['whz'])\n",
        "df['whz'] = np.where((df.sex_df['whz'] = np.where((df.sex_adm=='f')&(df.height_cm_adm==45)&(df.weight_kg_adm<=1.9),'z-3','normal')\n",
        "df['whz'] = np.where((df.sex_adm=='f')&(df.height_cm_adm==45)&(df.weight_kg_adm<=2.1),'z-2',df['whz'])\n",
        "df['whz'] = np.where((df.sex_adm=='f')&(df.height_cm_adm==46)&(df.weight_kg_adm>=2.2),'normal',df['whz'])\n",
        "df['whz'] = np.where((df.sex_adm=='f')&(df.height_cm_adm==46)&(df.weight_kg_adm<=2),'z-2',df['whz'])\n",
        "df['whz'] = np.where((df.sex_adm=='f')&(df.height_cm_adm==46)&(df.weight_kg_adm<=2.4),'normal',df['whz'])\n",
        "df['whz'] = np.where((df.sex_adm=='f')&(df.height_cm_adm<=47)& (df.weight_kg_adm>=2.5),'normal',df['whz'])\n",
        "df['whz'] = np.where((df.sex_adm=='f')&(df.height_cm_adm==47)&(df.weight_kg_adm<=2.4),'z-2',df['whz'])\n",
        "df['whz'] = np.where((df.sex_adm=='f')&(df.height_cm_adm==47)&(df.weight_kg_adm>=2.5),'normal',df['whz'])\n",
        "adm=='f')&(df.height_cm_adm==55)&(df.weight_kg_adm>=3.9),'normal',df['whz'])\n",
        "df['whz'] = np.where((df.sex_adm=='f')&(df.height_cm_adm==56)&(df.weight_kg_adm<=3.7),'z-3',df['whz'])\n",
        "df['whz'] = np.where((df.sex_adm=='f')&(df.height_cm_adm==56)&(df.weight_kg_adm<=4),'z-2',df['whz'])\n",
        "df['whz'] = np.where((df.sex_adm=='f')&(df.height_cm_adm==56)&(df.weight_kg_adm>=4.1),'normal',df['whz'])\n",
        "df['whz'] = np.where((df.sex_adm=='f')&(df.height_cm_adm==57)&(df.weight_kg_adm<=3.9),'z-3',df['whz'])\n",
        "df['whz'] = np.where((df.sex_adm=='f')&(df.height_cm_adm==57)&(df.weight_kg_adm<=4.3),'z-2',df['whz'])\n",
        "df['whz'] = np.where((df.sex_adm=='f')&(df.height_cm_adm==57)&(df.weight_kg_adm>=4.4),'normal',df['whz'])\n",
        "df['whz'] = np.where((df.sex_adm=='f')&(df.height_cm_adm==58)&(df.weight_kg_adm<=4.1),'z-3',df['whz'])\n",
        "df['whz'] = np.where((df.sex_adm=='f')&(df.height_cm_adm==58)&(df.weight_kg_adm<=4.5),'z-2',df['whz'])\n",
        "df['whz'] = np.where((df.sex_adm=='f')&(df.height_cm_adm==58)&(df.weight_kg_adm>=4.6),'normal',df['whz'])\n",
        "df['whz'] = np.where((df.sex_adm=='f')&(df.height_cm_adm==59)&(df.weight_kg_adm<=4.4),'z-3',df['whz'])\n",
        "df['whz'] = np.where((df.sex_adm=='f')&(df.height_cm_adm==59)&(df.weight_kg_adm<=4.7),'z-2',df['whz'])\n",
        "df['whz'] = np.where((df.sex_adm=='f')&(df.height_cm_adm==59)&(df.weight_kg_adm>=4.8),'normal',df['whz'])\n",
        "df['whz'] = np.where((df.sex_adm=='f')&(df.height_cm_adm==60)&(df.weight_kg_adm<=4.5),'z-3',df['whz'])\n",
        "df['whz'] = np.where((df.sex_adm=='f')&(df.height_cm_adm==60)&(df.weight_kg_adm<=4.9),'z-2',df['whz'])\n",
        "df['whz'] = np.where((df.sex_adm=='f')&(df.height_cm_adm==60)&(df.weight_kg_adm>=5),'normal',df['whz'])\n",
        "df['whz'] = np.where((df.sex_adm=='f')&(df.height_cm_adm==61)&(df.weight_kg_adm<=4.7),'z-3',df['whz'])\n",
        "df['whz'] = np.where((df.sex_adm=='f')&(df.height_cm_adm==61)&(df.weight_kg_adm<=5.1),'z-2',df['whz'])\n",
        "df['whz'] = np.where((df.sex_adm=='f')&(df.height_cm_adm==61)&(df.weight_kg_adm>=5.2),'normal',df['whz'])\n",
        "df['whz'] = np.where((df.sex_adm=='f')&(df.height_cm_adm==62)&(df.weight_kg_adm<=4.9),'z-3',df['whz'])\n",
        "df['whz'] = np.where((df.sex_adm=='f')&(df.height_cm_adm==62)&(df.weight_kg_adm<=5.3),'z-2',df['whz'])\n",
        "df['whz'] = np.where((df.sex_adm=='f')&(df.height_cm_adm==62)&(df.weight_kg_adm>=5.4),'normal',df['whz'])\n",
        "df['whz'] = np.where((df.sex_adm=='f')&(df.height_cm_adm==63)&(df.weight_kg_adm<=5.1),'z-3',df['whz'])\n",
        "df['whz'] = np.where((df.sex_adm=='f')&(df.height_cm_adm==63)&(df.weight_kg_adm<=5.5),'z-2',df['whz'])\n",
        "df['whz'] = np.where((df.sex_adm=='f')&(df.height_cm_adm==63)&(df.weight_kg_adm>=5.6),'normal',df['whz'])\n",
        "df['whz'] = np.where((df.sex_adm=='f')&(df.height_cm_adm==64)&(df.weight_kg_adm<=5.3),'z-3',df['whz'])\n",
        "df['whz'] = np.where((df.sex_adm=='f')&(df.height_cm_adm==64)&(df.weight_kg_adm<=5.7),'z-2',df['whz'])\n",
        "df['whz'] = np.where((df.sex_adm=='f')&(df.height_cm_adm==64)&(df.weight_kg_adm>=5.8),'normal',df['whz'])\n",
        "df['whz'] = np.where((df.sex_adm=='f')&(df.height_cm_adm==65)&(df.weight_kg_adm<=5.5),'z-3',df['whz'])\n",
        "df['whz'] = np.where((df.sex_adm=='f')&(df.height_cm_adm==65)&(df.weight_kg_adm<=6),'z-2',df['whz'])\n",
        "df['whz'] = np.where((df.sex_adm=='f')&(df.height_cm_adm==65)&(df.weight_kg_adm>=6.1),'normal',df['whz'])\n",
        "df['whz'] = np.where((df.sex_adm=='f')&(df.height_cm_adm==66)&(df.weight_kg_adm<=5.6),'z-3',df['whz'])\n",
        "df['whz'] = np.where((df.sex_adm=='f')&(df.height_cm_adm==66)&(df.weight_kg_adm<=6.1),'z-2',df['whz'])\n",
        "df['whz'] = np.where((df.sex_adm=='f')&(df.height_cm_adm==66)&(df.weight_kg_adm>=6.2),'normal',df['whz'])\n",
        "df['whz'] = np.where((df.sex_adm=='f')&(df.height_cm_adm==67)&(df.weight_kg_adm<=5.8),'z-3',df['whz'])\n",
        "df['whz'] = np.where((df.sex_adm=='f')&(df.height_cm_adm==67)&(df.weight_kg_adm<=6.4),'z-2',df['whz'])\n",
        "df['whz'] = np.where((df.sex_adm=='f')&(df.height_cm_adm==67)&(df.weight_kg_adm>=6.5),'normal',df['whz'])\n",
        "df['whz'] = np.where((df.sex_adm=='f')&(df.height_cm_adm==68)&(df.weight_kg_adm<=6),'z-3',df['whz'])\n",
        "df['whz'] = np.where((df.sex_adm=='f')&(df.height_cm_adm==68)&(df.weight_kg_adm<=6.5),'z-2',df['whz'])\n",
        "df['whz'] = np.where((df.sex_adm=='f')&(df.height_cm_adm==68)&(df.weight_kg_adm>=6.6),'normal',df['whz'])\n",
        "df['whz'] = np.where((df.sex_adm=='f')&(df.height_cm_adm==69)&(df.weight_kg_adm<=6.1),'z-3',df['whz'])\n",
        "df['whz'] = np.where((df.sex_adm=='f')&(df.height_cm_adm==69)&(df.weight_kg_adm<=6.7),'z-2',df['whz'])\n",
        "df['whz'] = np.where((df.sex_adm=='f')&(df.height_cm_adm==69)&(df.weight_kg_adm>=6.8),'normal',df['whz'])\n",
        "df['whz'] = np.where((df.sex_adm=='f')&(df.height_cm_adm==70)&(df.weight_kg_adm<=6.2),'z-3',df['whz'])\n",
        "df['whz'] = np.where((df.sex_adm=='f')&(df.height_cm_adm==70)&(df.weight_kg_adm<=6.9),'z-2',df['whz'])\n",
        "df['whz'] = np.where((df.sex_adm=='f')&(df.height_cm_adm==70)&(df.weight_kg_adm>=7),'normal',df['whz'])\n",
        "df['whz'] = np.where((df.sex_adm=='f')&(df.height_cm_adm==71)&(df.weight_kg_adm<=6.5),'z-3',df['whz'])\n",
        "df['whz'] = np.where((df.sex_adm=='f')&(df.height_cm_adm==71)&(df.weight_kg_adm<=7),'z-2',df['whz'])\n",
        "df['whz'] = np.where((df.sex_adm=='f')&(df.height_cm_adm==71)&(df.weight_kg_adm>=7.1),'normal',df['whz'])\n",
        "df['whz'] = np.where((df.sex_adm=='f')&(df.height_cm_adm==72)&(df.weight_kg_adm<=6.6),'z-3',df['whz'])\n",
        "df['whz'] = np.where((df.sex_adm=='f')&(df.height_cm_adm==72)&(df.weight_kg_adm<=7.2),'z-2',df['whz'])\n",
        "df['whz'] = np.where((df.sex_adm=='f')&(df.height_cm_adm==72)&(df.weight_kg_adm>=7.3),'normal',df['whz'])\n",
        "df['whz'] = np.where((df.sex_adm=='f')&(df.height_cm_adm==73)&(df.weight_kg_adm<=6.8),'z-3',df['whz'])\n",
        "df['whz'] = np.where((df.sex_adm=='f')&(df.height_cm_adm==73)&(df.weight_kg_adm<=7.5),'z-2',df['whz'])\n",
        "df['whz'] = np.where((df.sex_adm=='f')&(df.height_cm_adm==73)&(df.weight_kg_adm>=7.6),'normal',df['whz'])\n",
        "df['whz'] = np.where((df.sex_adm=='f')&(df.height_cm_adm==74)&(df.weight_kg_adm<=6.9),'z-3',df['whz'])\n",
        "df['whz'] = np.where((df.sex_adm=='f')&(df.height_cm_adm==74)&(df.weight_kg_adm<=7.5),'z-2',df['whz'])\n",
        "df['whz'] = np.where((df.sex_adm=='f')&(df.height_cm_adm==74)&(df.weight_kg_adm>=7.6),'normal',df['whz'])\n",
        "df['whz'] = np.where((df.sex_adm=='f')&(df.height_cm_adm==75)&(df.weight_kg_adm<=7.1),'z-3',df['whz'])\n",
        "df['whz'] = np.where((df.sex_adm=='f')&(df.height_cm_adm==75)&(df.weight_kg_adm<=7.7),'z-2',df['whz'])\n",
        "df['whz'] = np.where((df.sex_adm=='f')&(df.height_cm_adm==75)&(df.weight_kg_adm>=7.8),'normal',df['whz'])\n",
        "df['whz'] = np.where((df.sex_adm=='f')&(df.height_cm_adm==76)&(df.weight_kg_adm<=7.2),'z-3',df['whz'])\n",
        "df['whz'] = np.where((df.sex_adm=='f')&(df.height_cm_adm==76)&(df.weight_kg_adm<=7.8),'z-2',df['whz'])\n",
        "df['whz'] = np.where((df.sex_adm=='f')&(df.height_cm_adm==76)&(df.weight_kg_adm>=7.9),'normal',df['whz'])\n",
        "df['whz'] = np.where((df.sex_adm=='f')&(df.height_cm_adm==77)&(df.weight_kg_adm<=7.4),'z-3',df['whz'])\n",
        "df['whz'] = np.where((df.sex_adm=='f')&(df.height_cm_adm==77)&(df.weight_kg_adm<=8),'z-2',df['whz'])\n",
        "df['whz'] = np.where((df.sex_adm=='f')&(df.height_cm_adm==77)&(df.weight_kg_adm>=8.1),'normal',df['whz'])\n",
        "df['whz'] = np.where((df.sex_adm=='f')&(df.height_cm_adm==78)&(df.weight_kg_adm<=7.5),'z-3',df['whz'])\n",
        "df['whz'] = np.where((df.sex_adm=='f')&(df.height_cm_adm==78)&(df.weight_kg_adm<=8.2),'z-2',df['whz'])\n",
        "df['whz'] = np.where((df.sex_adm=='f')&(df.height_cm_adm==78)&(df.weight_kg_adm>=8.3),'normal',df['whz'])\n",
        "df['whz'] = np.where((df.sex_adm=='f')&(df.height_cm_adm==79)&(df.weight_kg_adm<=7.7),'z-3',df['whz'])\n",
        "df['whz'] = np.where((df.sex_adm=='f')&(df.height_cm_adm==79)&(df.weight_kg_adm<=8.3),'z-2',df['whz'])\n",
        "df['whz'] = np.where((df.sex_adm=='f')&(df.height_cm_adm==79)&(df.weight_kg_adm>=8.4),'normal',df['whz'])\n",
        "df['whz'] = np.where((df.sex_adm=='f')&(df.height_cm_adm==80)&(df.weight_kg_adm<=7.9),'z-3',df['whz'])\n",
        "df['whz'] = np.where((df.sex_adm=='f')&(df.height_cm_adm==80)&(df.weight_kg_adm<=8.5),'z-2',df['whz'])\n",
        "df['whz'] = np.where((df.sex_adm=='f')&(df.height_cm_adm==80)&(df.weight_kg_adm>=8.6),'normal',df['whz'])\n",
        "df['whz'] = np.where((df.sex_adm=='f')&(df.height_cm_adm==81)&(df.weight_kg_adm<=8.0),'z-3',df['whz'])\n",
        "df['whz'] = np.where((df.sex_adm=='f')&(df.height_cm_adm==81)&(df.weight_kg_adm<=8.7),'z-2',df['whz'])\n",
        "df['whz'] = np.where((df.sex_adm=='f')&(df.height_cm_adm==81)&(df.weight_kg_adm>=8.8),'normal',df['whz'])\n",
        "df['whz'] = np.where((df.sex_adm=='f')&(df.height_cm_adm==82)&(df.weight_kg_adm<=8.1),'z-3',df['whz'])\n",
        "df['whz'] = np.where((df.sex_adm=='f')&(df.height_cm_adm==82)&(df.weight_kg_adm<=8.8),'z-2',df['whz'])\n",
        "df['whz'] = np.where((df.sex_adm=='f')&(df.height_cm_adm==82)&(df.weight_kg_adm>=8.9),'normal',df['whz'])\n",
        "df['whz'] = np.where((df.sex_adm=='f')&(df.height_cm_adm==83)&(df.weight_kg_adm<=8.3),'z-3',df['whz'])\n",
        "df['whz'] = np.where((df.sex_adm=='f')&(df.height_cm_adm==83)&(df.weight_kg_adm<=9.0),'z-2',df['whz'])\n",
        "df['whz'] = np.where((df.sex_adm=='f')&(df.height_cm_adm==83)&(df.weight_kg_adm>=9.1),'normal',df['whz'])\n",
        "df['whz'] = np.where((df.sex_adm=='f')&(df.height_cm_adm==84)&(df.weight_kg_adm<=8.5),'z-3',df['whz'])\n",
        "df['whz'] = np.where((df.sex_adm=='f')&(df.height_cm_adm==84)&(df.weight_kg_adm<=9.2),'z-2',df['whz'])\n",
        "df['whz'] = np.where((df.sex_adm=='f')&(df.height_cm_adm==84)&(df.weight_kg_adm>=9.3),'normal',df['whz'])\n",
        "df['whz'] = np.where((df.sex_adm=='f')&(df.height_cm_adm==85)&(df.weight_kg_adm<=8.7),'z-3',df['whz'])\n",
        "\n",
        "df['whz'] = np.where((df.sex_adm=='f')&(df.height_cm_adm==85)&(df.weight_kg_adm<=9.3),'z-3',df['whz'])\n",
        "df['whz'] = np.where((df.sex_adm=='f')&(df.height_cm_adm==85)&(df.weight_kg_adm>=9.4),'normal',df['whz'])\n",
        "df['whz'] = np.where((df.sex_adm=='f')&(df.height_cm_adm==86)&(df.weight_kg_adm<=8.9),'z-3',df['whz'])\n",
        "df['whz'] = np.where((df.sex_adm=='f')&(df.height_cm_adm==86)&(df.weight_kg_adm<=8.8),'z-2',df['whz'])\n",
        "df['whz'] = np.where((df.sex_adm=='f')&(df.height_cm_adm==86)&(df.weight_kg_adm>=8.9),'normal',df['whz'])\n",
        "df['whz'] = np.where((df.sex_adm=='f')&(df.height_cm_adm==87)&(df.weight_kg_adm<=9.1),'z-3',df['whz'])\n",
        "df['whz'] = np.where((df.sex_adm=='f')&(df.height_cm_adm==87)&(df.weight_kg_adm<=9.0),'z-2',df['whz'])\n",
        "df['whz'] = np.where((df.sex_adm=='f')&(df.height_cm_adm==87)&(df.weight_kg_adm>=10),'normal',df['whz'])\n",
        "df['whz'] = np.where((df.sex_adm=='f')&(df.height_cm_adm==88)&(df.weight_kg_adm<=9.3),'z-2',df['whz'])\n",
        "df['whz'] = np.where((df.sex_adm=='f')&(df.height_cm_adm==88)&(df.weight_kg_adm<=10.1),'z-3',df['whz'])\n",
        "df['whz'] = np.where((df.sex_adm=='f')&(df.height_cm_adm==89)&(df.weight_kg_adm<=9.5),'z-2',df['whz'])\n",
        "df['whz'] = np.where((df.sex_adm=='f')&(df.height_cm_adm==89)&(df.weight_kg_adm<=10.3),'z-3',df['whz'])\n",
        "df['whz'] = np.where((df.sex_adm=='f')&(df.height_cm_adm==90)&(df.weight_kg_adm<=9.7),'z-2',df['whz'])\n",
        "df['whz'] = np.where((df.sex_adm=='f')&(df.height_cm_adm==90)&(df.weight_kg_adm<=10.5),'z-3',df['whz'])\n",
        "df['whz'] = np.where((df.sex_adm=='f')&(df.height_cm_adm==91)&(df.weight_kg_adm<=9.9),'z-2',df['whz'])\n",
        "df['whz'] = np.where((df.sex_adm=='f')&(df.height_cm_adm==91)&(df.weight_kg_adm<=10.7),'z-3',df['whz'])\n",
        "df['whz'] = np.where((df.sex_adm=='f')&(df.height_cm_adm==92)&(df.weight_kg_adm<=10.1),'z-2',df['whz'])\n",
        "df['whz'] = np.where((df.sex_adm=='f')&(df.height_cm_adm==92)&(df.weight_kg_adm<=10.9),'z-3',df['whz'])\n",
        "df['whz'] = np.where((df.sex_adm=='f')&(df.height_cm_adm==93)&(df.weight_kg_adm<=10.2),'z-2',df['whz'])\n",
        "df['whz'] = np.where((df.sex_adm=='f')&(df.height_cm_adm==93)&(df.weight_kg_adm<=11.1),'z-3',df['whz'])\n",
        "df['whz'] = np.where((df.sex_adm=='f')&(df.height_cm_adm==94)&(df.weight_kg_adm<=10.4),'z-2',df['whz'])\n",
        "df['whz'] = np.where((df.sex_adm=='f')&(df.height_cm_adm==94)&(df.weight_kg_adm<=11.3),'z-3',df['whz'])\n",
        "df['whz'] = np.where((df.sex_adm=='f')&(df.height_cm_adm==95)&(df.weight_kg_adm<=10.6),'z-2',df['whz'])\n",
        "df['whz'] = np.where((df.sex_adm=='f')&(df.height_cm_adm==95)&(df.weight_kg_adm<=11.5),'z-3',df['whz'])\n",
        "df['whz'] = np.where((df.sex_adm=='f')&(df.height_cm_adm==96)&(df.weight_kg_adm<=10.8),'z-2',df['whz'])\n",
        "df['whz'] = np.where((df.sex_adm=='f')&(df.height_cm_adm==96)&(df.weight_kg_adm<=11.7),'z-3',df['whz'])\n",
        "df['whz'] = np.where((df.sex_adm=='f')&(df.height_cm_adm==97)&(df.weight_kg_adm<=11),'z-2',df['whz'])\n",
        "df['whz'] = np.where((df.sex_adm=='f')&(df.height_cm_adm==97)&(df.weight_kg_adm<=12),'z-3',df['whz'])\n",
        "df['whz'] = np.where((df.sex_adm=='f')&(df.height_cm_adm==98)&(df.weight_kg_adm<=11.2),'z-2',df['whz'])\n",
        "df['whz'] = np.where((df.sex_adm=='f')&(df.height_cm_adm==98)&(df.weight_kg_adm<=12.2),'z-3',df['whz'])\n",
        "df['whz'] = np.where((df.sex_adm=='f')&(df.height_cm_adm==99)&(df.weight_kg_adm<=11.4),'z-2',df['whz'])\n",
        "df['whz'] = np.where((df.sex_adm=='f')&(df.height_cm_adm==99)&(df.weight_kg_adm<=12.4),'z-3',df['whz'])\n",
        "df['whz'] = np.where((df.sex_adm=='f')&(df.height_cm_adm==100)&(df.weight_kg_adm<=11.6),'z-2',df['whz'])\n",
        "df['whz'] = np.where((df.sex_adm=='f')&(df.height_cm_adm==100)&(df.weight_kg_adm<=12.6),'z-3',df['whz'])\n",
        "df['whz'] = np.where((df.sex_adm=='f')&(df.height_cm_adm==101)&(df.weight_kg_adm<=11.8),'z-2',df['whz'])\n",
        "df['whz'] = np.where((df.sex_adm=='f')&(df.height_cm_adm==101)&(df.weight_kg_adm<=12.8),'z-3',df['whz'])\n",
        "df['whz'] = np.where((df.sex_adm=='f')&(df.height_cm_adm==102)&(df.weight_kg_adm<=12),'z-2',df['whz'])\n",
        "df['whz'] = np.where((df.sex_adm=='f')&(df.height_cm_adm==102)&(df.weight_kg_adm<=13.1),'z-3',df['whz'])\n",
        "df['whz'] = np.where((df.sex_adm=='f')&(df.height_cm_adm==103)&(df.weight_kg_adm<=12.3),'z-2',df['whz'])\n",
        "df['whz'] = np.where((df.sex_adm=='f')&(df.height_cm_adm==103)&(df.weight_kg_adm<=13.3),'z-3',df['whz'])\n",
        "df['whz'] = np.where((df.sex_adm=='f')&(df.height_cm_adm==104)&(df.weight_kg_adm<=12.5),'z-2',df['whz'])\n",
        "df['whz'] = np.where((df.sex_adm=='f')&(df.height_cm_adm==104)&(df.weight_kg_adm<=13.6),'z-3',df['whz'])\n",
        "df['whz'] = np.where((df.sex_adm=='f')&(df.height_cm_adm==105)&(df.weight_kg_adm<=12.7),'z-2',df['whz'])\n",
        "df['whz'] = np.where((df.sex_adm=='f')&(df.height_cm_adm==105)&(df.weight_kg_adm<=13.8),'z-3',df['whz'])\n",
        "df['whz'] = np.where((df.sex_adm=='f')&(df.height_cm_adm==106)&(df.weight_kg_adm<=13),'z-2',df['whz'])\n",
        "df['whz'] = np.where((df.sex_adm=='f')&(df.height_cm_adm==106)&(df.weight_kg_adm<=14.1),'z-3',df['whz'])\n",
        "df['whz'] = np.where((df.sex_adm=='f')&(df.height_cm_adm==107)&(df.weight_kg_adm<=12.7),'z-2',df['whz'])\n",
        "df['whz'] = np.where((df.sex_adm=='f')&(df.height_cm_adm==107)&(df.weight_kg_adm<=13.8),'z-3',df['whz'])\n",
        "df['whz'] = np.where((df.sex_adm=='f')&(df.height_cm_adm==108)&(df.weight_kg_adm<=13.5),'z-2',df['whz'])\n",
        "df['whz'] = np.where((df.sex_adm=='f')&(df.height_cm_adm==108)&(df.weight_kg_adm<=14.7),'z-3',df['whz'])\n",
        "df['whz'] = np.where((df.sex_adm=='f')&(df.height_cm_adm==109)&(df.weight_kg_adm<=13.7),'z-2',df['whz'])\n",
        "df['whz'] = np.where((df.sex_adm=='f')&(df.height_cm_adm==109)&(df.weight_kg_adm<=15),'z-3',df['whz'])\n",
        "df['whz'] = np.where((df.sex_adm=='f')&(df.height_cm_adm==110)&(df.weight_kg_adm<=14),'z-2',df['whz'])\n",
        "df['whz'] = np.where((df.sex_adm=='f')&(df.height_cm_adm==110)&(df.weight_kg_adm<=15.3),'z-3',df['whz'])\n",
        "\n",
        "df['whz'] = np.where((df.sex_adm=='f')&(df.height_cm_adm==111)&(df.weight_kg_adm<=14.5),'z-3',df['whz'])\n",
        "df['whz'] = np.where((df.sex_adm=='f')&(df.height_cm_adm==111)&(df.weight_kg_adm<=15.8),'z-2',df['whz'])\n",
        "df['whz'] = np.where((df.sex_adm=='f')&(df.height_cm_adm==111)&(df.weight_kg_adm>=14.4),'normal',df['whz'])\n",
        "df['whz'] = np.where((df.sex_adm=='f')&(df.height_cm_adm==112)&(df.weight_kg_adm<=14.7),'z-3',df['whz'])\n",
        "df['whz'] = np.where((df.sex_adm=='f')&(df.height_cm_adm==112)&(df.weight_kg_adm<=15.8),'z-2',df['whz'])\n",
        "df['whz'] = np.where((df.sex_adm=='f')&(df.height_cm_adm==112)&(df.weight_kg_adm>=15.9),'normal',df['whz'])\n",
        "df['whz'] = np.where((df.sex_adm=='f')&(df.height_cm_adm==113)&(df.weight_kg_adm<=15.1),'z-3',df['whz'])\n",
        "df['whz'] = np.where((df.sex_adm=='f')&(df.height_cm_adm==113)&(df.weight_kg_adm<=16.5),'z-2',df['whz'])\n",
        "df['whz'] = np.where((df.sex_adm=='f')&(df.height_cm_adm==113)&(df.weight_kg_adm>=16.6),'normal',df['whz'])\n",
        "df['whz'] = np.where((df.sex_adm=='f')&(df.height_cm_adm==114)&(df.weight_kg_adm<=15.4),'z-3',df['whz'])\n",
        "df['whz'] = np.where((df.sex_adm=='f')&(df.height_cm_adm==114)&(df.weight_kg_adm<=16.8),'z-2',df['whz'])\n",
        "df['whz'] = np.where((df.sex_adm=='f')&(df.height_cm_adm==114)&(df.weight_kg_adm>=16.9),'normal',df['whz'])\n",
        "df['whz'] = np.where((df.sex_adm=='f')&(df.height_cm_adm==115)&(df.weight_kg_adm<=15.7),'z-3',df['whz'])\n",
        "df['whz'] = np.where((df.sex_adm=='f')&(df.height_cm_adm==115)&(df.weight_kg_adm<=17.2),'z-2',df['whz'])\n",
        "df['whz'] = np.where((df.sex_adm=='f')&(df.height_cm_adm==115)&(df.weight_kg_adm>=17.3),'normal',df['whz'])\n",
        "df['whz'] = np.where((df.sex_adm=='f')&(df.height_cm_adm==116)&(df.weight_kg_adm<=16),'z-3',df['whz'])\n",
        "df['whz'] = np.where((df.sex_adm=='f')&(df.height_cm_adm==116)&(df.weight_kg_adm<=17.5),'z-2',df['whz'])\n",
        "df['whz'] = np.where((df.sex_adm=='f')&(df.height_cm_adm==116)&(df.weight_kg_adm>=17.6),'normal',df['whz'])\n",
        "df['whz']=np.where((df.sex_adm=='f')&(df.height_cm_adm==117)&(df.weight_kg_adm<=16.3),'z-3',df['whz'])\n",
        "df['whz'] = np.where((df.sex_adm=='f')&(df.height_cm_adm==117)&(df.weight_kg_adm<=17.8),'z-2',df['whz'])\n",
        "df['whz'] = np.where((df.sex_adm=='f')&(df.height_cm_adm==117)&(df.weight_kg_adm>=17.9),'normal',df['whz'])\n",
        "df['whz'] = np.where((df.sex_adm=='f')&(df.height_cm_adm==118)&(df.weight_kg_adm<=16.6),'z-3',df['whz'])\n",
        "df['whz']=np.where((df.sex_adm=='f')&(df.height_cm_adm==118)&(df.weight_kg_adm<=18.4),'z-2',df['whz'])\n",
        "df['whz'] = np.where((df.sex_adm=='f')&(df.height_cm_adm==118)&(df.weight_kg_adm>=18.5),'normal',df['whz'])\n",
        "df['whz'] = np.where((df.sex_adm=='f')&(df.height_cm_adm==119)&(df.weight_kg_adm<=16.9),'z-3',df['whz'])\n",
        "df['whz'] = np.where((df.sex_adm=='f')&(df.height_cm_adm==119)&(df.weight_kg_adm<=20.3),'z-2',df['whz'])\n",
        "df['whz'] = np.where((df.sex_adm=='f')&(df.height_cm_adm==119)&(df.weight_kg_adm>=20.4),'normal',df['whz'])\n",
        "df['whz'] = np.where((df.sex_adm=='f')&(df.height_cm_adm==120)&(df.weight_kg_adm<=17.1),'z-3',df['whz'])\n",
        "df['whz'] = np.where((df.sex_adm=='f')&(df.height_cm_adm==120)&(df.weight_kg_adm<=18.6),'z-2',df['whz'])\n",
        "df['whz'] = np.where((df.sex_adm=='f')&(df.height_cm_adm==120)&(df.weight_kg_adm>=18.7),'normal',df['whz'])\n",
        "df['whz'] = np.where((df.sex_adm=='m')&(df.height_cm_adm==45)&(df.weight_kg_adm<=1.9),'z-3',df['whz'])\n",
        "df['whz'] = np.where((df.sex_adm=='m')&(df.height_cm_adm==45)&(df.weight_kg_adm>=2.1),'z-2',df['whz'])\n",
        "df['whz'] = np.where((df.sex_adm=='m')&(df.height_cm_adm==45)&(df.weight_kg_adm>=2.3),'normal',df['whz'])\n",
        "df['whz'] = np.where((df.sex_adm=='m')&(df.height_cm_adm==46)&(df.weight_kg_adm<=2),'z-3',df['whz'])\n",
        "df['whz'] = np.where((df.sex_adm=='m')&(df.height_cm_adm==46)&(df.weight_kg_adm>=2.2),'z-2',df['whz'])\n",
        "df['whz'] = np.where((df.sex_adm=='m')&(df.height_cm_adm==46)&(df.weight_kg_adm>=2.3),'normal',df['whz'])\n",
        "df['whz'] = np.where((df.sex_adm=='m')&(df.height_cm_adm==47)&(df.weight_kg_adm<=2.1),'z-3',df['whz'])\n",
        "df['whz'] = np.where((df.sex_adm=='m')&(df.height_cm_adm==47)&(df.weight_kg_adm<=2.3),'z-2',df['whz'])\n",
        "df['whz'] = np.where((df.sex_adm=='m')&(df.height_cm_adm==47)&(df.weight_kg_adm>=2.4),'normal',df['whz'])\n",
        "df['whz']=np.where((df.sex_adm=='m')&(df.height_cm_adm==48)&(df.weight_kg_adm<=2.3),'z-3',df['whz'])\n",
        "df['whz'] = np.where((df.sex_adm=='m')&(df.height_cm_adm==48)&(df.weight_kg_adm<=2.5),'z-2',df['whz'])\n",
        "df['whz'] = np.where((df.sex_adm=='m')&(df.height_cm_adm==48)&(df.weight_kg_adm>=2.6),'normal',df['whz'])\n",
        "df['whz'] = np.where((df.sex_adm=='m')&(df.height_cm_adm==49)&(df.weight_kg_adm<=2.6),'z-3',df['whz'])\n",
        "df['whz'] = np.where((df.sex_adm=='m')&(df.height_cm_adm==49)&(df.weight_kg_adm<=2.4),'z-2',df['whz'])\n",
        "df['whz'] = np.where((df.sex_adm=='m')&(df.height_cm_adm==49)&(df.weight_kg_adm>=2.5),'normal',df['whz'])\n",
        "df['whz'] = np.where((df.sex_adm=='m')&(df.height_cm_adm==50)&(df.weight_kg_adm<=2.6),'z-3',df['whz'])\n",
        "df['whz'] = np.where((df.sex_adm=='m')&(df.height_cm_adm==50)&(df.weight_kg_adm<=2.8),'z-2',df['whz'])\n",
        "df['whz'] = np.where((df.sex_adm=='m')&(df.height_cm_adm==50)&(df.weight_kg_adm>=2.9),'normal',df['whz'])\n",
        "df['whz'] = np.where((df.sex_adm=='m')&(df.height_cm_adm==51)&(df.weight_kg_adm<=2.7),'z-3',df['whz'])\n",
        "df['whz'] = np.where((df.sex_adm=='m')&(df.height_cm_adm==51)&(df.weight_kg_adm<=3),'z-2',df['whz'])\n",
        "df['whz'] = np.where((df.sex_adm=='m')&(df.height_cm_adm==51)&(df.weight_kg_adm>=3.1),'normal',df['whz'])\n",
        "df['whz'] = np.where((df.sex_adm=='m')&(df.height_cm_adm==52)&(df.weight_kg_adm>=2.9),'z-3',df['whz'])\n",
        "df['whz'] = np.where((df.sex_adm=='m')&(df.height_cm_adm==52)&(df.weight_kg_adm>=3.2),'z-2',df['whz'])\n",
        "df['whz'] = np.where((df.sex_adm=='m')&(df.height_cm_adm==52)&(df.weight_kg_adm>=3.3),'normal',df['whz'])\n",
        "df['whz'] = np.where((df.sex_adm=='m')&(df.height_cm_adm==53)&(df.weight_kg_adm<=3.1),'z-3',df['whz'])\n",
        "df['whz'] = np.where((df.sex_adm=='m')&(df.height_cm_adm==53)&(df.weight_kg_adm<=3.4),'z-2',df['whz'])\n",
        "df['whz'] = np.where((df.sex_adm=='m')&(df.height_cm_adm==53)&(df.weight_kg_adm>=3.5),'normal',df['whz'])\n",
        "df['whz'] = np.where((df.sex_adm=='m')&(df.height_cm_adm==54)&(df.weight_kg_adm>=3.3),'z-3',df['whz'])\n",
        "df['whz'] = np.where((df.sex_adm=='m')&(df.height_cm_adm==54)&(df.weight_kg_adm>=3.6),'z-2',df['whz'])\n",
        "df['whz'] = np.where((df.sex_adm=='m')&(df.height_cm_adm==54)&(df.weight_kg_adm>=3.7),'normal',df['whz'])\n",
        "df['whz'] = np.where((df.sex_adm=='m')&(df.height_cm_adm==55)&(df.weight_kg_adm<=3.6),'z-3',df['whz'])\n",
        "df['whz'] = np.where((df.sex_adm=='m')&(df.height_cm_adm==55)&(df.weight_kg_adm<=3.8),'z-2',df['whz'])\n",
        "df['whz'] = np.where((df.sex_adm=='m')&(df.height_cm_adm==55)&(df.weight_kg_adm>=3.9),'normal',df['whz'])\n",
        "df['whz'] = np.where((df.sex_adm=='m')&(df.height_cm_adm==56)&(df.weight_kg_adm<=3.8),'z-3',df['whz'])\n",
        "df['whz'] = np.where((df.sex_adm=='m')&(df.height_cm_adm==56)&(df.weight_kg_adm<=4.1),'z-2',df['whz'])\n",
        "df['whz'] = np.where((df.sex_adm=='m')&(df.height_cm_adm==56)&(df.weight_kg_adm>=4.2),'normal',df['whz'])\n",
        "df['whz'] = np.where((df.sex_adm=='m')&(df.height_cm_adm==57)&(df.weight_kg_adm<=4),'z-3',df['whz'])\n",
        "df['whz'] = np.where((df.sex_adm=='m')&(df.height_cm_adm==57)&(df.weight_kg_adm<=4.3),'z-2',df['whz'])\n",
        "df['whz'] = np.where((df.sex_adm=='m')&(df.height_cm_adm==57)&(df.weight_kg_adm>=4.4),'normal',df['whz'])\n",
        "df['whz'] = np.where((df.sex_adm=='m')&(df.height_cm_adm==58)&(df.weight_kg_adm<=4.3),'z-3',df['whz'])\n",
        "df['whz'] = np.where((df.sex_adm=='m')&(df.height_cm_adm==58)&(df.weight_kg_adm <=4.6),'z-2',df['whz'])\n",
        "df['whz'] = np.where((df.sex_adm=='m')&(df.height_cm_adm==58)&(df.weight_kg_adm>=2.7),'normal',df['whz'])\n",
        "df['whz'] = np.where((df.sex_adm=='m')&(df.height_cm_adm==59)&(df.weight_kg_adm<=4.5),'z-3',df['whz'])\n",
        "df['whz'] = np.where((df.sex_adm=='m')&(df.height_cm_adm==59)&(df.weight_kg_adm<=4.8),'z-2',df['whz'])\n",
        "df['whz'] = np.where((df.sex_adm=='m')&(df.height_cm_adm==59)&(df.weight_kg_adm>=4.9),'normal',df['whz'])\n",
        "df['whz'] = np.where((df.sex_adm=='m')&(df.height_cm_adm==60)&(df.weight_kg_adm<=4.7),'z-3',df['whz'])\n",
        "df['whz'] = np.where((df.sex_adm=='m')&(df.height_cm_adm==60)&(df.weight_kg_adm<=5.1),'z-2',df['whz'])\n",
        "df['whz'] = np.where((df.sex_adm=='m')&(df.height_cm_adm==60)&(df.weight_kg_adm>=2.5),'normal',df['whz'])\n",
        "df['whz'] = np.where((df.sex_adm=='m')&(df.height_cm_adm==61)&(df.weight_kg_adm<=4.9),'z-3',df['whz'])\n",
        "df['whz'] = np.where((df.sex_adm=='m')&(df.height_cm_adm==61)&(df.weight_kg_adm<=5.3),'z-2',df['whz'])\n",
        "df['whz'] = np.where((df.sex_adm=='m')&(df.height_cm_adm==61)&(df.weight_kg_adm>=5.4),'normal',df['whz'])\n",
        "df['whz'] = np.where((df.sex_adm=='m')&(df.height_cm_adm==62)&(df.weight_kg_adm<=5.1),'normal',df['whz'])\n",
        "df['whz'] = np.where((df.sex_adm=='m')&(df.height_cm_adm==62)&(df.weight_kg_adm<=5.6),'normal',df['whz'])\n",
        "df['whz'] = np.where((df.sex_adm=='m')&(df.height_cm_adm==62)&(df.weight_kg_adm>=5.7),'normal',df['whz'])\n",
        "df['whz'] = np.where((df.sex_adm=='m')&(df.height_cm_adm==63)&(df.weight_kg_adm<=5.3),'z-3',df['whz'])\n",
        "df['whz'] = np.where((df.sex_adm=='m')&(df.height_cm_adm==63)&(df.weight_kg_adm<=5.8),'z-2',df['whz'])\n",
        "df['whz'] = np.where((df.sex_adm=='m')&(df.height_cm_adm==63)&(df.weight_kg_adm>=5.9),'normal',df['whz'])\n",
        "df['whz'] = np.where((df.sex_adm=='m')&(df.height_cm_adm==64)&(df.weight_kg_adm>=5.4),'normal',df['whz'])\n",
        "df['whz'] = np.where((df.sex_adm=='m')&(df.height_cm_adm==64)&(df.weight_kg_adm>=5.9),'normal',df['whz'])\n",
        "df['whz'] = np.where((df.sex_adm=='m')&(df.height_cm_adm==64)&(df.weight_kg_adm>=6),'normal',df['whz'])\n",
        "df['whz'] = np.where((df.sex_adm=='m')&(df.height_cm_adm==65)&(df.weight_kg_adm>=5.7),'z-3',df['whz'])\n",
        "df['whz'] = np.where((df.sex_adm=='m')&(df.height_cm_adm==65)&(df.weight_kg_adm>=6.2),'z-2',df['whz'])\n",
        "df['whz'] = np.where((df.sex_adm=='m')&(df.height_cm_adm==65)&(df.weight_kg_adm>=6.3),'normal',df['whz'])\n",
        "df['whz'] = np.where((df.sex_adm=='m')&(df.height_cm_adm==67)&(df.weight_kg_adm>=6.1),'z-3',df['whz'])\n",
        "df['whz'] = np.where((df.sex_adm=='m')&(df.height_cm_adm==67)&(df.weight_kg_adm>=6.6),'z-2',df['whz'])\n",
        "df['whz'] = np.where((df.sex_adm=='m')&(df.height_cm_adm==67)&(df.weight_kg_adm>=6.7),'normal',df['whz'])\n",
        "df['whz'] = np.where((df.sex_adm=='m')&(df.height_cm_adm==68)&(df.weight_kg_adm<=6.3),'z-3',df['whz'])\n",
        "df['whz'] = np.where((df.sex_adm=='m')&(df.height_cm_adm==68)&(df.weight_kg_adm<=6.8),'z-2',df['whz'])\n",
        "df['whz'] = np.where((df.sex_adm=='m')&(df.height_cm_adm==68)&(df.weight_kg_adm>=2.6),'normal',df['whz'])\n",
        "df['whz'] = np.where((df.sex_adm=='m')&(df.height_cm_adm==69)&(df.weight_kg_adm<=6.5),'z-3',df['whz'])\n",
        "df['whz'] = np.where((df.sex_adm=='m')&(df.height_cm_adm==69)&(df.weight_kg_adm<=7),'z-2',df['whz'])\n",
        "df['whz'] = np.where((df.sex_adm=='m')&(df.height_cm_adm==69)&(df.weight_kg_adm>=2.6),'normal',df['whz'])\n",
        "df['whz'] = np.where((df.sex_adm=='m')&(df.height_cm_adm==70)&(df.weight_kg_adm<=6.6),'z-3',df['whz'])\n",
        "df['whz'] = np.where((df.sex_adm=='m')&(df.height_cm_adm==70)&(df.weight_kg_adm<=7.2),'z-2',df['whz'])\n",
        "df['whz'] = np.where((df.sex_adm=='m')&(df.height_cm_adm==70)&(df.weight_kg_adm>=7.3),'normal',df['whz'])\n",
        "df['whz'] = np.where((df.sex_adm=='m')&(df.height_cm_adm==71)&(df.weight_kg_adm<=6.8),'z-3',df['whz'])\n",
        "df['whz'] = np.where((df.sex_adm=='m')&(df.height_cm_adm==71)&(df.weight_kg_adm<=7.4),'z-2',df['whz'])\n",
        "df['whz'] = np.where((df.sex_adm=='m')&(df.height_cm_adm==71)&(df.weight_kg_adm>=7.5),'normal',df['whz'])\n",
        "df['whz'] = np.where((df.sex_adm=='m')&(df.height_cm_adm==72)&(df.weight_kg_adm<=7),'z-3',df['whz'])\n",
        "df['whz'] = np.where((df.sex_adm=='m')&(df.height_cm_adm==72)&(df.weight_kg_adm<=7.6),'z-2',df['whz'])\n",
        "df['whz'] = np.where((df.sex_adm=='m')&(df.height_cm_adm==72)&(df.weight_kg_adm>=7.7),'normal',df['whz'])\n",
        "\n",
        "df['whz'] = np.where((df.sex_adm=='m')&(df.height_cm_adm==73)&(df.weight_kg_adm<=7.3),'z-3',df['whz'])\n",
        "df['whz'] = np.where((df.sex_adm=='m')&(df.height_cm_adm==73)&(df.weight_kg_adm<=7.9),'z-2',df['whz'])\n",
        "df['whz'] = np.where((df.sex_adm=='m')&(df.height_cm_adm==73)&(df.weight_kg_adm>=7.8),'normal',df['whz'])\n",
        "df['whz'] = np.where((df.sex_adm=='m')&(df.height_cm_adm==74)&(df.weight_kg_adm>=7.3),'z-3',df['whz'])\n",
        "df['whz'] = np.where((df.sex_adm=='m')&(df.height_cm_adm==74)&(df.weight_kg_adm>=7.9),'z-2',df['whz'])\n",
        "df['whz'] = np.where((df.sex_adm=='m')&(df.height_cm_adm==74)&(df.weight_kg_adm>=8),'normal',df['whz'])\n",
        "df['whz'] = np.where((df.sex_adm=='m')&(df.height_cm_adm==75)&(df.weight_kg_adm<=7.5),'z-3',df['whz'])\n",
        "df['whz'] = np.where((df.sex_adm=='m')&(df.height_cm_adm==75)&(df.weight_kg_adm<=8.1),'z-2',df['whz'])\n",
        "df['whz'] = np.where((df.sex_adm=='m')&(df.height_cm_adm==75)&(df.weight_kg_adm>=8.2),'normal',df['whz'])\n",
        "df['whz'] = np.where((df.sex_adm=='m')&(df.height_cm_adm==76)&(df.weight_kg_adm<=7.6),'z-3',df['whz'])\n",
        "df['whz'] = np.where((df.sex_adm=='m')&(df.height_cm_adm==76)&(df.weight_kg_adm<=8.3),'z-2',df['whz'])\n",
        "df['whz'] = np.where((df.sex_adm=='m')&(df.height_cm_adm==76)&(df.weight_kg_adm>=2.6),'normal',df['whz'])\n",
        "df['whz'] = np.where((df.sex_adm=='m')&(df.height_cm_adm==77)&(df.weight_kg_adm<=7.8),'z-3',df['whz'])\n",
        "df['whz'] = np.where((df.sex_adm=='m')&(df.height_cm_adm==77)&(df.weight_kg_adm<=8.4),'z-2',df['whz'])\n",
        "df['whz'] = np.where((df.sex_adm=='m')&(df.height_cm_adm==77)&(df.weight_kg_adm>=2.6),'normal',df['whz'])\n",
        "df['whz'] = np.where((df.sex_adm=='m')&(df.height_cm_adm==78)&(df.weight_kg_adm>=7.9),'z-3',df['whz'])\n",
        "df['whz'] = np.where((df.sex_adm=='m')&(df.height_cm_adm==78)&(df.weight_kg_adm<=8.6),'z-2',df['whz'])\n",
        "df['whz'] = np.where((df.sex_adm=='m')&(df.height_cm_adm==78)&(df.weight_kg_adm>=8.7),'normal',df['whz'])\n",
        "df['whz'] = np.where((df.sex_adm=='m')&(df.height_cm_adm==79)&(df.weight_kg_adm<=8.1),'z-3',df['whz'])\n",
        "df['whz'] = np.where((df.sex_adm=='m')&(df.height_cm_adm==79)&(df.weight_kg_adm<=8.7),'z-2',df['whz'])\n",
        "df['whz'] = np.where((df.sex_adm=='m')&(df.height_cm_adm==79)&(df.weight_kg_adm>=8.8),'normal',df['whz'])\n",
        "df['whz'] = np.where((df.sex_adm=='m')&(df.height_cm_adm==80)&(df.weight_kg_adm<=8.2),'z-3',df['whz'])\n",
        "df['whz'] = np.where((df.sex_adm=='m')&(df.height_cm_adm==80)&(df.weight_kg_adm<=8.9),'z-2',df['whz'])\n",
        "df['whz'] = np.where((df.sex_adm=='m')&(df.height_cm_adm==80)&(df.weight_kg_adm>=9),'normal',df['whz'])\n",
        "df['whz'] = np.where((df.sex_adm=='m')&(df.height_cm_adm==81)&(df.weight_kg_adm>=8.4),'z-3',df['whz'])\n",
        "df['whz'] = np.where((df.sex_adm=='m')&(df.height_cm_adm==81)&(df.weight_kg_adm>=9.1),'z-2',df['whz'])\n",
        "df['whz'] = np.where((df.sex_adm=='m')&(df.height_cm_adm==81)&(df.weight_kg_adm>=9.2),'normal',df['whz'])\n",
        "df['whz'] = np.where((df.sex_adm=='m')&(df.height_cm_adm==82)&(df.weight_kg_adm<=8.5),'z-3',df['whz'])\n",
        "df['whz'] = np.where((df.sex_adm=='m')&(df.height_cm_adm==82)&(df.weight_kg_adm<=9.2),'z-2',df['whz'])\n",
        "df['whz'] = np.where((df.sex_adm=='m')&(df.height_cm_adm==82)&(df.weight_kg_adm>=9.3),'normal',df['whz'])\n",
        "df['whz'] = np.where((df.sex_adm=='m')&(df.height_cm_adm==83)&(df.weight_kg_adm>=8.7),'z-3',df['whz'])\n",
        "df['whz'] = np.where((df.sex_adm=='m')&(df.height_cm_adm==83)&(df.weight_kg_adm>=9.4),'z-2',df['whz'])\n",
        "df['whz'] = np.where((df.sex_adm=='m')&(df.height_cm_adm==83)&(df.weight_kg_adm>=9.5),'normal',df['whz'])\n",
        "df['whz'] = np.where((df.sex_adm=='m')&(df.height_cm_adm==84)&(df.weight_kg_adm<=8.9),'z-3',df['whz'])\n",
        "df['whz'] = np.where((df.sex_adm=='m')&(df.height_cm_adm==84)&(df.weight_kg_adm>=9.6),'z-2',df['whz'])\n",
        "df['whz'] = np.where((df.sex_adm=='m')&(df.height_cm_adm==85)&(df.weight_kg_adm>=9.1),'z-3',df['whz'])\n",
        "df['whz'] = np.where((df.sex_adm=='m')&(df.height_cm_adm==85)&(df.weight_kg_adm>=9.8),'z-2',df['whz'])\n",
        "df['whz'] = np.where((df.sex_adm=='m')&(df.height_cm_adm==85)&(df.weight_kg_adm>=9.9),'normal',df['whz'])\n",
        "df['whz'] = np.where((df.sex_adm=='m')&(df.height_cm_adm==86)&(df.weight_kg_adm>=9.3),'z-3',df['whz'])\n",
        "df['whz'] = np.where((df.sex_adm=='m')&(df.height_cm_adm==86)&(df.weight_kg_adm>=10),'z-2',df['whz'])\n",
        "df['whz'] = np.where((df.sex_adm=='m')&(df.height_cm_adm==86)&(df.weight_kg_adm>=10.1),'normal',df['whz'])\n",
        "df['whz'] = np.where((df.sex_adm=='m')&(df.height_cm_adm==87)&(df.weight_kg_adm<=9.5),'z-3',df['whz'])\n",
        "df['whz'] = np.where((df.sex_adm=='m')&(df.height_cm_adm==87)&(df.weight_kg_adm<=10.2),'z-2',df['whz'])\n",
        "df['whz'] = np.where((df.sex_adm=='m')&(df.height_cm_adm==87)&(df.weight_kg_adm>=10.3),'normal',df['whz'])\n",
        "df['whz'] = np.where((df.sex_adm=='m')&(df.height_cm_adm==88)&(df.weight_kg_adm>=9.7),'z-3',df['whz'])\n",
        "df['whz'] = np.where((df.sex_adm=='m')&(df.height_cm_adm==88)&(df.weight_kg_adm>=10.5),'z-2',df['whz'])\n",
        "df['whz'] = np.where((df.sex_adm=='m')&(df.height_cm_adm==88)&(df.weight_kg_adm>=10.6),'normal',df['whz'])\n",
        "df['whz'] = np.where((df.sex_adm=='m')&(df.height_cm_adm==89)&(df.weight_kg_adm>=9.5),'z-3',df['whz'])\n",
        "df['whz'] = np.where((df.sex_adm=='m')&(df.height_cm_adm==89)&(df.weight_kg_adm>=10.7),'z-2',df['whz'])\n",
        "df['whz'] = np.where((df.sex_adm=='m')&(df.height_cm_adm==89)&(df.weight_kg_adm>=9.7),'normal',df['whz'])\n",
        "df['whz'] = np.where((df.sex_adm=='m')&(df.height_cm_adm==90)&(df.weight_kg_adm<=10.1),'z-3',df['whz'])\n",
        "df['whz'] = np.where((df.sex_adm=='m')&(df.height_cm_adm==90)&(df.weight_kg_adm<=10.9),'z-2',df['whz'])\n",
        "df['whz'] = np.where((df.sex_adm=='m')&(df.height_cm_adm==90)&(df.weight_kg_adm>=11),'normal',df['whz'])\n",
        "df['whz'] = np.where((df.sex_adm=='m')&(df.height_cm_adm==91)&(df.weight_kg_adm<=10.3),'z-3',df['whz'])\n",
        "df['whz'] = np.where((df.sex_adm=='m')&(df.height_cm_adm==91)&(df.weight_kg_adm<=11),'z-2',df['whz'])\n",
        "df['whz'] = np.where((df.sex_adm=='m')&(df.height_cm_adm==91)&(df.weight_kg_adm>=9.7),'normal',df['whz'])\n",
        "df['whz'] = np.where((df.sex_adm=='m')&(df.height_cm_adm==92)&(df.weight_kg_adm<=10.5),'z-3',df['whz'])\n",
        "df['whz'] = np.where((df.sex_adm=='m')&(df.height_cm_adm==92)&(df.weight_kg_adm<=11.3),'z-2',df['whz'])\n",
        "df['whz'] = np.where((df.sex_adm=='m')&(df.height_cm_adm==92)&(df.weight_kg_adm>=11.2),'normal',df['whz'])\n",
        "df['whz'] = np.where((df.sex_adm=='m')&(df.height_cm_adm==93)&(df.weight_kg_adm<=10.7),'z-3',df['whz'])\n",
        "df['whz'] = np.where((df.sex_adm=='m')&(df.height_cm_adm==93)&(df.weight_kg_adm<=11.5),'z-2',df['whz'])\n",
        "df['whz'] = np.where((df.sex_adm=='m')&(df.height_cm_adm==93)&(df.weight_kg_adm>=11.6),'normal',df['whz'])\n",
        "df['whz'] = np.where((df.sex_adm=='m')&(df.height_cm_adm==94)&(df.weight_kg_adm<=10.8),'z-3',df['whz'])\n",
        "df['whz'] = np.where((df.sex_adm=='m')&(df.height_cm_adm==94)&(df.weight_kg_adm<=11.7),'z-2',df['whz'])\n",
        "df['whz'] = np.where((df.sex_adm=='m')&(df.height_cm_adm==94)&(df.weight_kg_adm>=11.8),'normal',df['whz'])\n",
        "df['whz'] = np.where((df.sex_adm=='m')&(df.height_cm_adm==95)&(df.weight_kg_adm<=11.1),'z-3',df['whz'])\n",
        "df['whz'] = np.where((df.sex_adm=='m')&(df.height_cm_adm==95)&(df.weight_kg_adm<=12),'z-2',df['whz'])\n",
        "df['whz'] = np.where((df.sex_adm=='m')&(df.height_cm_adm==95)&(df.weight_kg_adm>=12.1),'normal',df['whz'])\n",
        "df['whz'] = np.where((df.sex_adm=='m')&(df.height_cm_adm==96)&(df.weight_kg_adm<=11.2),'z-3',df['whz'])\n",
        "df['whz'] = np.where((df.sex_adm=='m')&(df.height_cm_adm==96)&(df.weight_kg_adm<=12.1),'z-2',df['whz'])\n",
        "df['whz'] = np.where((df.sex_adm=='m')&(df.height_cm_adm==96)&(df.weight_kg_adm>=12.4),'normal',df['whz'])\n",
        "df['whz'] = np.where((df.sex_adm=='m')&(df.height_cm_adm==97)&(df.weight_kg_adm<=11.4),'z-3',df['whz'])\n",
        "df['whz']=np.where((df.sex_adm=='m')&(df.height_cm_adm==97)&(df.weight_kg_adm<=11.4),'z-2',df['whz'])\n",
        "df['whz'] = np.where((df.sex_adm=='m')&(df.height_cm_adm==97)&(df.weight_kg_adm>=12.3),'normal',df['whz'])\n",
        "df['whz'] = np.where((df.sex_adm=='m')&(df.height_cm_adm==98)&(df.weight_kg_adm<=11.7),'z-3',df['whz'])\n",
        "df['whz'] = np.where((df.sex_adm=='m')&(df.height_cm_adm==98)&(df.weight_kg_adm<=12.3),'z-3',df['whz'])\n",
        "df['whz'] = np.where((df.sex_adm=='m')&(df.height_cm_adm==98)&(df.weight_kg_adm>=12.4),'normal',df['whz'])\n",
        "df['whz'] = np.where((df.sex_adm=='m')&(df.height_cm_adm==99)&(df.weight_kg_adm<=11.8),'z-3',df['whz'])\n",
        "df['whz'] = np.where((df.sex_adm=='m')&(df.height_cm_adm==99)&(df.weight_kg_adm<=12.7),'z-2',df['whz'])\n",
        "df['whz'] = np.where((df.sex_adm=='m')&(df.height_cm_adm==99)&(df.weight_kg_adm>=12.8),'normal',df['whz'])\n",
        "df['whz'] = np.where((df.sex_adm=='m')&(df.height_cm_adm==100)&(df.weight_kg_adm<=12),'z-3',df['whz'])\n",
        "df['whz'] = np.where((df.sex_adm=='m')&(df.height_cm_adm==100)&(df.weight_kg_adm<=12.9),'z-3',df['whz'])\n",
        "df['whz'] = np.where((df.sex_adm=='m')&(df.height_cm_adm==101)&(df.weight_kg_adm<=12.1),'z-3',df['whz'])\n",
        "\n",
        "df['whz'] = np.where((df.sex_adm=='m')&(df.height_cm_adm==101)&(df.weight_kg_adm<=12.2),'z-3',df['whz'])\n",
        "df['whz'] = np.where((df.sex_adm=='m')&(df.height_cm_adm==101)&(df.weight_kg_adm<=13.2),'z-3',df['whz'])\n",
        "df['whz'] = np.where((df.sex_adm=='m')&(df.height_cm_adm==101)&(df.weight_kg_adm<=13.3),'normal',df['whz'])\n",
        "df['whz'] = np.where((df.sex_adm=='m')&(df.height_cm_adm==102)&(df.weight_kg_adm<=11.6),'z-3',df['whz'])\n",
        "df['whz'] = np.where((df.sex_adm=='m')&(df.height_cm_adm==102)&(df.weight_kg_adm<=12.4),'z-3',df['whz'])\n",
        "df['whz'] = np.where((df.sex_adm=='m')&(df.height_cm_adm==102)&(df.weight_kg_adm<=13.4),'z-2',df['whz'])\n",
        "df['whz'] = np.where((df.sex_adm=='m')&(df.height_cm_adm==103)&(df.weight_kg_adm<=12.6),'z-3',df['whz'])\n",
        "df['whz'] = np.where((df.sex_adm=='m')&(df.height_cm_adm==103)&(df.weight_kg_adm<=13.6),'z-2',df['whz'])\n",
        "df['whz'] = np.where((df.sex_adm=='m')&(df.height_cm_adm==103)&(df.weight_kg_adm>=13.7),'normal',df['whz'])\n",
        "df['whz'] = np.where((df.sex_adm=='m')&(df.height_cm_adm==104)&(df.weight_kg_adm<=12.8),'z-3',df['whz'])\n",
        "df['whz'] = np.where((df.sex_adm=='m')&(df.height_cm_adm==104)&(df.weight_kg_adm<=13.9),'z-2',df['whz'])\n",
        "df['whz'] = np.where((df.sex_adm=='m')&(df.height_cm_adm==104)&(df.weight_kg_adm>=14),'normal',df['whz'])\n",
        "df['whz'] = np.where((df.sex_adm=='m')&(df.height_cm_adm==105)&(df.weight_kg_adm<=13),'normal',df['whz'])\n",
        "df['whz'] = np.where((df.sex_adm=='m')&(df.height_cm_adm==105)&(df.weight_kg_adm<=14.1),'normal',df['whz'])\n",
        "df['whz'] = np.where((df.sex_adm=='m')&(df.height_cm_adm==105)&(df.weight_kg_adm>=14.2),'normal',df['whz'])\n",
        "df['whz'] = np.where((df.sex_adm=='m')&(df.height_cm_adm==106)&(df.weight_kg_adm>=13.3),'z-3',df['whz'])\n",
        "df['whz'] = np.where((df.sex_adm=='m')&(df.height_cm_adm==106)&(df.weight_kg_adm>=14.4),'z-2',df['whz'])\n",
        "df['whz'] = np.where((df.sex_adm=='m')&(df.height_cm_adm==106)&(df.weight_kg_adm>=14.5),'normal',df['whz'])\n",
        "df['whz'] = np.where((df.sex_adm=='m')&(df.height_cm_adm==107)&(df.weight_kg_adm<=13.5),'z-3',df['whz'])\n",
        "df['whz'] = np.where((df.sex_adm=='m')&(df.height_cm_adm==107)&(df.weight_kg_adm<=14.6),'z-2',df['whz'])\n",
        "df['whz'] = np.where((df.sex_adm=='m')&(df.height_cm_adm==107)&(df.weight_kg_adm>=14.7),'normal',df['whz'])\n",
        "df['whz'] = np.where((df.sex_adm=='m')&(df.height_cm_adm==108)&(df.weight_kg_adm<=13.7),'z-3',df['whz'])\n",
        "df['whz'] = np.where((df.sex_adm=='m')&(df.height_cm_adm==108)&(df.weight_kg_adm<=14.9),'z-2',df['whz'])\n",
        "df['whz'] = np.where((df.sex_adm=='m')&(df.height_cm_adm==108)&(df.weight_kg_adm>=15),'normal',df['whz'])\n",
        "df['whz'] = np.where((df.sex_adm=='m')&(df.height_cm_adm==109)&(df.weight_kg_adm>=14),'z-3',df['whz'])\n",
        "df['whz'] = np.where((df.sex_adm=='m')&(df.height_cm_adm==109)&(df.weight_kg_adm>=15.1),'z-2',df['whz'])\n",
        "df['whz'] = np.where((df.sex_adm=='m')&(df.height_cm_adm==109)&(df.weight_kg_adm>=14),'normal',df['whz'])\n",
        "df['whz'] = np.where((df.sex_adm=='m')&(df.height_cm_adm==110)&(df.weight_kg_adm<=14.2),'normal',df['whz'])\n",
        "df['whz'] = np.where((df.sex_adm=='m')&(df.height_cm_adm==110)&(df.weight_kg_adm<=15.3),'normal',df['whz'])\n",
        "df['whz'] = np.where((df.sex_adm=='m')&(df.height_cm_adm==110)&(df.weight_kg_adm>=15.4),'normal',df['whz'])\n",
        "df['whz'] = np.where((df.sex_adm=='m')&(df.height_cm_adm==111)&(df.weight_kg_adm<=14.6),'z-3',df['whz'])\n",
        "df['whz'] = np.where((df.sex_adm=='m')&(df.height_cm_adm==111)&(df.weight_kg_adm<=15.9),'z-2',df['whz'])\n",
        "df['whz'] = np.where((df.sex_adm=='m')&(df.height_cm_adm==111)&(df.weight_kg_adm>=16),'normal',df['whz'])\n",
        "df['whz'] = np.where((df.sex_adm=='m')&(df.height_cm_adm==112)&(df.weight_kg_adm<=14.9),'z-3',df['whz'])\n",
        "df['whz'] = np.where((df.sex_adm=='m')&(df.height_cm_adm==112)&(df.weight_kg_adm<=16.2),'z-2',df['whz'])\n",
        "df['whz'] = np.where((df.sex_adm=='m')&(df.height_cm_adm==112)&(df.weight_kg_adm>=16.3),'normal',df['whz'])\n",
        "df['whz'] = np.where((df.sex_adm=='m')&(df.height_cm_adm==113)&(df.weight_kg_adm<=15.2),'z-3',df['whz'])\n",
        "df['whz'] = np.where((df.sex_adm=='m')&(df.height_cm_adm==113)&(df.weight_kg_adm<=16.5),'z-2',df['whz'])\n",
        "df['whz'] = np.where((df.sex_adm=='m')&(df.height_cm_adm==113)&(df.weight_kg_adm>=16.6),'normal',df['whz'])\n",
        "df['whz'] = np.where((df.sex_adm=='m')&(df.height_cm_adm==114)&(df.weight_kg_adm<=15.4),'z-3',df['whz'])\n",
        "df['whz'] = np.where((df.sex_adm=='m')&(df.height_cm_adm==114)&(df.weight_kg_adm<=16.8),'z-2',df['whz'])\n",
        "df['whz'] = np.where((df.sex_adm=='m')&(df.height_cm_adm==114)&(df.weight_kg_adm>=16.9),'normal',df['whz'])\n",
        "df['whz'] = np.where((df.sex_adm=='m')&(df.height_cm_adm==115)&(df.weight_kg_adm<=15.8),'z-3',df['whz'])\n",
        "df['whz'] = np.where((df.sex_adm=='m')&(df.height_cm_adm==115)&(df.weight_kg_adm<=17.1),'z-2',df['whz'])\n",
        "df['whz'] = np.where((df.sex_adm=='m')&(df.height_cm_adm==115)&(df.weight_kg_adm<=17.2),'normal',df['whz'])\n",
        "df['whz'] = np.where((df.sex_adm=='m')&(df.height_cm_adm==116)&(df.weight_kg_adm<=16),'z-3',df['whz'])\n",
        "df['whz'] = np.where((df.sex_adm=='m')&(df.height_cm_adm==117)&(df.weight_kg_adm<=16),'z-3',df['whz'])\n",
        "df['whz'] = np.where((df.sex_adm=='m')&(df.height_cm_adm==117)&(df.weight_kg_adm>=17.4),'z-2',df['whz'])\n",
        "df['whz'] = np.where((df.sex_adm=='m')&(df.height_cm_adm==117)&(df.weight_kg_adm>=17.5),'normal',df['whz'])\n",
        "df['whz'] = np.where((df.sex_adm=='m')&(df.height_cm_adm==118)&(df.weight_kg_adm<=16.5),'normal',df['whz'])\n",
        "df['whz'] = np.where((df.sex_adm=='m')&(df.height_cm_adm==118)&(df.weight_kg_adm<=18),'normal',df['whz'])\n",
        "df['whz'] = np.where((df.sex_adm=='m')&(df.height_cm_adm==118)&(df.weight_kg_adm>=18.1),'normal',df['whz'])\n",
        "df['whz'] = np.where((df.sex_adm=='m')&(df.height_cm_adm==119)&(df.weight_kg_adm<=16.8),'z-3',df['whz'])\n",
        "df['whz'] = np.where((df.sex_adm=='m')&(df.height_cm_adm==119)&(df.weight_kg_adm<=18.3),'z-2',df['whz'])\n",
        "df['whz'] = np.where((df.sex_adm=='m')&(df.height_cm_adm==119)&(df.weight_kg_adm>=18.4),'normal',df['whz'])\n",
        "df['whz'] = np.where((df.sex_adm=='m')&(df.height_cm_adm==120)&(df.weight_kg_adm>=17.1),'z-3',df['whz'])\n",
        "df['whz'] = np.where((df.sex_adm=='m')&(df.height_cm_adm==120)&(df.weight_kg_adm>=18.6),'z-2',df['whz'])\n",
        "df['whz'] = np.where((df.sex_adm=='m')&(df.height_cm_adm==120)&(df.weight_kg_adm>=18.7),'normal',df['whz'])\n",
        "\n",
        "\n",
        "\n",
        "\n",
        "\n",
        "\n",
        "\n",
        "\n",
        "\n",
        "\n",
        "\n",
        "\n",
        "\n",
        "\n",
        "\n",
        "\n",
        "\n",
        "\n",
        "\n"
      ],
      "metadata": {
        "id": "3CD1yWEpXIm5",
        "outputId": "7ce0a86e-02b3-4328-ba65-df6c821291dc",
        "colab": {
          "base_uri": "https://localhost:8080/",
          "height": 110
        }
      },
      "execution_count": null,
      "outputs": [
        {
          "output_type": "error",
          "ename": "SyntaxError",
          "evalue": "cannot assign to subscript here. Maybe you meant '==' instead of '='? (ipython-input-52-3159129035.py, line 24)",
          "traceback": [
            "\u001b[0;36m  File \u001b[0;32m\"/tmp/ipython-input-52-3159129035.py\"\u001b[0;36m, line \u001b[0;32m24\u001b[0m\n\u001b[0;31m    df['whz'] = np.where((df.sex_df['whz'] = np.where((df.sex_adm=='f')&(df.height_cm_adm==45)&(df.weight_kg_adm<=1.9),'z-3','normal')\u001b[0m\n\u001b[0m                          ^\u001b[0m\n\u001b[0;31mSyntaxError\u001b[0m\u001b[0;31m:\u001b[0m cannot assign to subscript here. Maybe you meant '==' instead of '='?\n"
          ]
        }
      ]
    },
    {
      "cell_type": "code",
      "execution_count": null,
      "metadata": {
        "id": "mu1Ej_kCBkIC"
      },
      "outputs": [],
      "source": [
        "df.whz.unique()"
      ]
    },
    {
      "cell_type": "code",
      "execution_count": null,
      "metadata": {
        "id": "ds3rEQG9wlVc"
      },
      "outputs": [],
      "source": [
        "print(df.sex_adm.unique())"
      ]
    },
    {
      "cell_type": "code",
      "execution_count": null,
      "metadata": {
        "id": "DIkMxiK-4Vx-"
      },
      "outputs": [],
      "source": [
        "df.whz.unique()"
      ]
    },
    {
      "cell_type": "markdown",
      "metadata": {
        "id": "3N2iWjWr_UXu"
      },
      "source": []
    },
    {
      "cell_type": "markdown",
      "metadata": {
        "id": "mwbL4LP7sUnm"
      },
      "source": [
        "#Machine learning and Nas"
      ]
    },
    {
      "cell_type": "code",
      "execution_count": null,
      "metadata": {
        "id": "10WuydX-saXU"
      },
      "outputs": [],
      "source": [
        "dfa= df.dropna()\n"
      ]
    },
    {
      "cell_type": "code",
      "execution_count": null,
      "metadata": {
        "id": "WoY7x-9m0uSW"
      },
      "outputs": [],
      "source": [
        "num_rows,num_cols=dfa.shape\n",
        "print(f\"Number of rows: {num_rows}\")\n",
        "print(f\"Number of columns: {num_cols}\")"
      ]
    },
    {
      "cell_type": "code",
      "execution_count": null,
      "metadata": {
        "id": "RytnYcuUA-8j"
      },
      "outputs": [],
      "source": [
        "dfb=df.dropna()\n",
        "num_rows,num_cols=dfb.shape\n",
        "print(f\"Number of rows: {num_rows}\")\n",
        "print(f\"Number of columns: {num_cols}\")"
      ]
    },
    {
      "cell_type": "code",
      "execution_count": null,
      "metadata": {
        "id": "EIjyYaNUBUaR"
      },
      "outputs": [],
      "source": [
        "dfb.shape"
      ]
    },
    {
      "cell_type": "code",
      "execution_count": null,
      "metadata": {
        "id": "KCafwELGMGwX"
      },
      "outputs": [],
      "source": []
    },
    {
      "cell_type": "code",
      "execution_count": null,
      "metadata": {
        "id": "5Ncn48gCLt7j"
      },
      "outputs": [],
      "source": [
        "dfc=df.drop('lactate2_mmolpl_adm',axis=1)\n",
        "num_rows,num_cols=dfc.shape\n",
        "print(f\"Number of rows: {num_rows}\")\n",
        "print(f\"Number of columns: {num_cols}\")\n"
      ]
    },
    {
      "cell_type": "code",
      "execution_count": null,
      "metadata": {
        "id": "gGtQGTRBM0PT"
      },
      "outputs": [],
      "source": [
        "dfd=dfc.drop('sqi2_perc_oxi_adm',axis=1)\n",
        "num_rows,num_cols=dfd.shape\n",
        "print(f\"Number of rows: {num_rows}\")\n",
        "print(f\"Number of columns: {num_cols}\")"
      ]
    },
    {
      "cell_type": "code",
      "execution_count": null,
      "metadata": {
        "id": "t5EUXno5NhKI"
      },
      "outputs": [],
      "source": [
        "de=dfd.lactate_mmolpl_adm.dropna()\n",
        "num_rows,num_cols=dfd.shape\n",
        "print(f\"Number of rows: {num_rows}\")\n",
        "print(f\"Number of columns: {num_cols}\")"
      ]
    },
    {
      "cell_type": "code",
      "execution_count": null,
      "metadata": {
        "id": "Ha1w7f4tSv2-"
      },
      "outputs": [],
      "source": [
        "nan_counts = de.isnull().sum()\n",
        "print(nan_counts)"
      ]
    },
    {
      "cell_type": "code",
      "execution_count": null,
      "metadata": {
        "id": "__mIDWVoTlK7"
      },
      "outputs": [],
      "source": [
        "de.head()"
      ]
    },
    {
      "cell_type": "code",
      "execution_count": null,
      "metadata": {
        "id": "goVrT5DMUOQG"
      },
      "outputs": [],
      "source": [
        "dg = dfd.dropna(subset=['lactate_mmolpl_adm'])\n",
        "num_rows,num_cols=dfd.shape\n",
        "print(f\"Number of rows: {num_rows}\")\n",
        "print(f\"Number of columns: {num_cols}\")"
      ]
    },
    {
      "cell_type": "code",
      "execution_count": null,
      "metadata": {
        "id": "1OuuP6YVVJaE"
      },
      "outputs": [],
      "source": [
        "nan_counts = dg.isnull().sum()\n",
        "sorted_columns = nan_counts.sort_values(ascending=False).index.tolist()\n",
        "print(sorted_columns)"
      ]
    },
    {
      "cell_type": "code",
      "execution_count": null,
      "metadata": {
        "id": "DIBFrZxcWzg9"
      },
      "outputs": [],
      "source": [
        "dh = dg.select_dtypes(include=['object', 'category']).columns.tolist()\n",
        "print(dh)"
      ]
    },
    {
      "cell_type": "code",
      "execution_count": null,
      "metadata": {
        "id": "zj4idXHUXGkY"
      },
      "outputs": [],
      "source": []
    },
    {
      "cell_type": "markdown",
      "metadata": {
        "id": "x3egY7nuXKRm"
      },
      "source": [
        "# Hot encoding (creating categorical variables)"
      ]
    },
    {
      "cell_type": "code",
      "execution_count": null,
      "metadata": {
        "id": "xOfTO5ZzYTBn"
      },
      "outputs": [],
      "source": [
        "dj=pd.get_dummies(dh,columns=['sex_adm','spo2onoxy_adm', 'oxygenavail_adm', 'respdistress_adm', 'caprefill_adm', 'admitabx_adm___1', 'admitabx_adm___2', 'admitabx_adm___3', 'admitabx_adm___4', 'admitabx_adm___5', 'admitabx_adm___6', 'admitabx_adm___7', 'admitabx_adm___8', 'admitabx_adm___9', 'admitabx_adm___10', 'admitabx_adm___11', 'admitabx_adm___12', 'admitabx_adm___13', 'admitabx_adm___14', 'admitabx_adm___15', 'admitabx_adm___16', 'admitabx_adm___17', 'admitabx_adm___18', 'admitabx_adm___19', 'admitabx_adm___20', 'admitabx_adm___21', 'bcgscar_adm', 'vaccmeasles_adm', 'vaccmeaslessource_adm', 'vaccpneumoc_adm', 'vaccpneumocsource_adm', 'vaccdpt_adm', 'vaccdptsource_adm', 'priorweekabx_adm', 'priorweekantimal_adm', 'symptoms_adm___1', 'symptoms_adm___2', 'symptoms_adm___3', 'symptoms_adm___4', 'symptoms_adm___5', 'symptoms_adm___6', 'symptoms_adm___7', 'symptoms_adm___8', 'symptoms_adm___9', 'symptoms_adm___10', 'symptoms_adm___11', 'symptoms_adm___12', 'symptoms_adm___13', 'symptoms_adm___14', 'symptoms_adm___15', 'symptoms_adm___16', 'symptoms_adm___17', 'symptoms_adm___18', 'comorbidity_adm___1', 'comorbidity_adm___2', 'comorbidity_adm___3', 'comorbidity_adm___4', 'comorbidity_adm___5', 'comorbidity_adm___6', 'comorbidity_adm___7', 'comorbidity_adm___8', 'comorbidity_adm___9', 'comorbidity_adm___10', 'comorbidity_adm___11', 'comorbidity_adm___12', 'priorhosp_adm', 'prioryearwheeze_adm', 'prioryearcough_adm', 'diarrheaoften_adm', 'tbcontact_adm', 'feedingstatus_adm', 'exclbreastfed_adm', 'nonexclbreastfed_adm', 'totalbreastfed_adm', 'deliveryloc_adm', 'birthattend_adm', 'duedateknown_adm', 'birthdetail_adm___1', 'birthdetail_adm___2', 'birthdetail_adm___3', 'birthdetail_adm___4', 'birthdetail_adm___5', 'birthdetail_adm___6', 'travelmethod_adm', 'traveldist_adm', 'badhealthduration_adm', 'caregiverage_adm', 'caregivermarried_adm', 'momalive_adm', 'momageknown_adm', 'momagefirstpregknown_adm', 'momedu_adm', 'momhiv_adm', 'watersource_adm', 'waterpure_adm', 'cookfuel_adm___1', 'cookfuel_adm___2', 'cookfuel_adm___3', 'cookfuel_adm___4', 'cookfuel_adm___5', 'cookfuel_adm___6', 'cookfuel_adm___7', 'cookfuel_adm___8', 'cookloc_adm', 'lightfuel_adm', 'tobacco_adm', 'bednet_adm', 'hctpretransfusion_adm', 'hivstatus_adm', 'malariastatuspos_adm', 'caregiver_adm_new', 'agecat', 'muac_cat', 'temp_cat', 'breaths', 'hrcat', 'bpsys', 'bpdias', 'sats_cat', 'sats_cat2', 'bcs_cat', 'whz'])\n"
      ]
    },
    {
      "cell_type": "code",
      "execution_count": null,
      "metadata": {
        "id": "sKcyjnSJY4Ow"
      },
      "outputs": [],
      "source": [
        "from sklearn.model_selection import train_test_split\n",
        "from sklearn.linear_model import LogisticRegression\n",
        "\n",
        "x=dg.drop('inhospital_mortality',axis=1)\n",
        "y=dg['inhospital_mortality']\n",
        "x_train,x_test,y_train,y_test=train_test_split(x,y,test_size=0.2,random_state=42)"
      ]
    },
    {
      "cell_type": "markdown",
      "metadata": {
        "id": "uVZr8kaDbJh-"
      },
      "source": [
        "#shapes resulting"
      ]
    },
    {
      "cell_type": "code",
      "execution_count": null,
      "metadata": {
        "id": "knTrFnt0bOHF"
      },
      "outputs": [],
      "source": [
        "print(f\"x_train shape: {x_train.shape}\")\n",
        "print(f\"x_test shape: {x_test.shape}\")\n",
        "print(f\"y_train shape: {y_train.shape}\")\n",
        "print(f\"y_test shape: {y_test.shape}\")"
      ]
    },
    {
      "cell_type": "code",
      "execution_count": null,
      "metadata": {
        "id": "KxwUfWUFbvS8"
      },
      "outputs": [],
      "source": [
        "from sklearn.metrics import accuracy_score"
      ]
    },
    {
      "cell_type": "code",
      "execution_count": null,
      "metadata": {
        "id": "Ly8JdYOGdGw3"
      },
      "outputs": [],
      "source": [
        "nan_counts = dg.isnull().sum()\n",
        "sorted_columns = nan_counts.sort_values(ascending=False).index.tolist()\n",
        "print(sorted_columns)"
      ]
    },
    {
      "cell_type": "code",
      "execution_count": null,
      "metadata": {
        "id": "4Q-RI8FXdLt4"
      },
      "outputs": [],
      "source": [
        "nan_counts = df.isnull().sum()\n"
      ]
    },
    {
      "cell_type": "code",
      "execution_count": null,
      "metadata": {
        "id": "qVzWQdy8fR_f"
      },
      "outputs": [],
      "source": [
        "dha=dg.drop(columns=['bcsverbal_adm','bcs_cat','spo2other_adm','nonexclbreastfed_adm'],axis=1)\n",
        "num_rows,num_cols=dha.shape\n",
        "print(f\"Number of rows: {num_rows}\")\n",
        "print(f\"Number of columns: {num_cols}\")"
      ]
    },
    {
      "cell_type": "code",
      "execution_count": null,
      "metadata": {
        "id": "qS4lg5WFxWZW"
      },
      "outputs": [],
      "source": [
        "dv=dha.dropna()\n",
        "num_rows,num_cols=dha.shape\n",
        "print(f\"Number of rows: {num_rows}\")\n",
        "print(f\"Number of columns: {num_cols}\")"
      ]
    },
    {
      "cell_type": "markdown",
      "metadata": {
        "id": "vSpCtnJO4hzz"
      },
      "source": [
        "# dv (has no NAs)\n",
        "### Only has 147 rows"
      ]
    },
    {
      "cell_type": "code",
      "execution_count": null,
      "metadata": {
        "id": "5hMBB2PM3EXa"
      },
      "outputs": [],
      "source": [
        "column_listv=dv.columns.tolist()\n",
        "print(column_listv)"
      ]
    },
    {
      "cell_type": "code",
      "execution_count": null,
      "metadata": {
        "id": "tcmKxXxF3RHN"
      },
      "outputs": [],
      "source": [
        "dv.lactate_mmolpl_adm.isnull().sum()"
      ]
    },
    {
      "cell_type": "markdown",
      "metadata": {
        "id": "6tkah6ZSMHcY"
      },
      "source": [
        "# Get categorical value of dv"
      ]
    },
    {
      "cell_type": "code",
      "execution_count": null,
      "metadata": {
        "id": "Z486q33BMK1v"
      },
      "outputs": [],
      "source": [
        "categorical_vars = dv.select_dtypes(include=['object', 'category']).columns.tolist()\n",
        "print(\"Categorical variables:\", categorical_vars)"
      ]
    },
    {
      "cell_type": "code",
      "execution_count": null,
      "metadata": {
        "id": "tNOVp4FkPR--"
      },
      "outputs": [],
      "source": []
    },
    {
      "cell_type": "code",
      "execution_count": null,
      "metadata": {
        "id": "R2cUu40hNj_H"
      },
      "outputs": [],
      "source": [
        "dvv=pd.get_dummies(dv,columns=['sex_adm', 'spo2onoxy_adm', 'oxygenavail_adm', 'respdistress_adm', 'caprefill_adm', 'admitabx_adm___1', 'admitabx_adm___2', 'admitabx_adm___3', 'admitabx_adm___4', 'admitabx_adm___5', 'admitabx_adm___6', 'admitabx_adm___7', 'admitabx_adm___8', 'admitabx_adm___9', 'admitabx_adm___10', 'admitabx_adm___11', 'admitabx_adm___12', 'admitabx_adm___13', 'admitabx_adm___14', 'admitabx_adm___15', 'admitabx_adm___16', 'admitabx_adm___17', 'admitabx_adm___18', 'admitabx_adm___19', 'admitabx_adm___20', 'admitabx_adm___21', 'bcgscar_adm', 'vaccmeasles_adm', 'vaccmeaslessource_adm', 'vaccpneumoc_adm', 'vaccpneumocsource_adm', 'vaccdpt_adm', 'vaccdptsource_adm', 'priorweekabx_adm', 'priorweekantimal_adm', 'symptoms_adm___1', 'symptoms_adm___2', 'symptoms_adm___3', 'symptoms_adm___4', 'symptoms_adm___5', 'symptoms_adm___6', 'symptoms_adm___7', 'symptoms_adm___8', 'symptoms_adm___9', 'symptoms_adm___10', 'symptoms_adm___11', 'symptoms_adm___12', 'symptoms_adm___13', 'symptoms_adm___14', 'symptoms_adm___15', 'symptoms_adm___16', 'symptoms_adm___17', 'symptoms_adm___18', 'comorbidity_adm___1', 'comorbidity_adm___2', 'comorbidity_adm___3', 'comorbidity_adm___4', 'comorbidity_adm___5', 'comorbidity_adm___6', 'comorbidity_adm___7', 'comorbidity_adm___8', 'comorbidity_adm___9', 'comorbidity_adm___10', 'comorbidity_adm___11', 'comorbidity_adm___12', 'priorhosp_adm', 'prioryearwheeze_adm', 'prioryearcough_adm', 'diarrheaoften_adm', 'tbcontact_adm', 'feedingstatus_adm', 'exclbreastfed_adm', 'totalbreastfed_adm', 'deliveryloc_adm', 'birthattend_adm', 'duedateknown_adm', 'birthdetail_adm___1', 'birthdetail_adm___2', 'birthdetail_adm___3', 'birthdetail_adm___4', 'birthdetail_adm___5', 'birthdetail_adm___6', 'travelmethod_adm', 'traveldist_adm', 'badhealthduration_adm', 'caregiverage_adm', 'caregivermarried_adm', 'momalive_adm', 'momageknown_adm', 'momagefirstpregknown_adm', 'momedu_adm', 'momhiv_adm', 'watersource_adm', 'waterpure_adm', 'cookfuel_adm___1', 'cookfuel_adm___2', 'cookfuel_adm___3', 'cookfuel_adm___4', 'cookfuel_adm___5', 'cookfuel_adm___6', 'cookfuel_adm___7', 'cookfuel_adm___8', 'cookloc_adm', 'lightfuel_adm', 'tobacco_adm', 'bednet_adm', 'hctpretransfusion_adm', 'hivstatus_adm', 'malariastatuspos_adm', 'caregiver_adm_new', 'agecat', 'muac_cat', 'temp_cat', 'breaths', 'hrcat', 'bpsys', 'bpdias', 'sats_cat', 'sats_cat2', 'whz'])"
      ]
    },
    {
      "cell_type": "code",
      "execution_count": null,
      "metadata": {
        "id": "PiNcJhiBPtns"
      },
      "outputs": [],
      "source": [
        "dvv_corr=dvv.corr()\n",
        "dvv_corr\n",
        "pd.set_option('display.max_columns', None, 'display.max_rows', None)\n",
        "print(dvv_corr)"
      ]
    },
    {
      "cell_type": "markdown",
      "metadata": {
        "id": "yZivTRT7Shmo"
      },
      "source": [
        "# New Section"
      ]
    },
    {
      "cell_type": "markdown",
      "metadata": {
        "id": "NIUJm3AhSj-j"
      },
      "source": [
        "# Import Seaborn (correlation plot)"
      ]
    },
    {
      "cell_type": "code",
      "execution_count": null,
      "metadata": {
        "id": "kNg-OWTNSpQr"
      },
      "outputs": [],
      "source": [
        "!pip install seaborn\n",
        "import seaborn as sns\n",
        "import matplotlib.pyplot as plt"
      ]
    },
    {
      "cell_type": "code",
      "execution_count": null,
      "metadata": {
        "id": "lg_FwAzVSr1U"
      },
      "outputs": [],
      "source": [
        "sns.heatmap(dvv_corr,annot=True)\n",
        "plt.figure(figsize=(50, 50))  # Increase the width and height\n",
        "sns.heatmap(dvv_corr, annot=True, cmap='coolwarm', fmt=\".2f\", linewidths=.5)\n",
        "plt.title(\"Correlation Matrix Heatmap\")\n",
        "plt.show()"
      ]
    },
    {
      "cell_type": "code",
      "execution_count": null,
      "metadata": {
        "id": "RTSJOJdL0CTy"
      },
      "outputs": [],
      "source": [
        "!pip install plotly\n",
        "import plotly.express as px\n",
        "correlation_matrix = dvv_corr()\n"
      ]
    },
    {
      "cell_type": "code",
      "execution_count": null,
      "metadata": {
        "id": "9ssuqN1b0X9B"
      },
      "outputs": [],
      "source": [
        "fig = px.imshow(correlation_matrix,\n",
        "                color_continuous_scale='RdBu_r', # Diverging color scale\n",
        "                text_auto=True, # Display values in cells automatically\n",
        "                )\n",
        "fig.update_layout(title='Interactive Correlation Matrix',\n",
        "                  xaxis_title='Features',\n",
        "                  yaxis_title='Features')\n",
        "fig.show()"
      ]
    },
    {
      "cell_type": "code",
      "execution_count": null,
      "metadata": {
        "id": "6tfjv-BtMuZ5",
        "outputId": "10cc9ac5-4ef0-40e7-a22d-0bd4a0d73154",
        "colab": {
          "base_uri": "https://localhost:8080/",
          "height": 273
        }
      },
      "outputs": [
        {
          "output_type": "error",
          "ename": "SyntaxError",
          "evalue": "incomplete input (ipython-input-53-3239160926.py, line 1)",
          "traceback": [
            "\u001b[0;36m  File \u001b[0;32m\"/tmp/ipython-input-53-3239160926.py\"\u001b[0;36m, line \u001b[0;32m1\u001b[0m\n\u001b[0;31m    dy=pd.get_dummies(dv,columns=['sex_adm','spo2onoxy_adm', 'oxygenavail_adm', 'respdistress_adm', 'caprefill_adm', 'admitabx_adm___1', 'admitabx_adm___2', 'admitabx_adm___3', 'admitabx_adm___4', 'admitabx_adm___5', 'admitabx_adm___6', 'admitabx_adm___7', 'admitabx_adm___8', 'admitabx_adm___9', 'admitabx_adm___10', 'admitabx_adm___11', 'admitabx_adm___12', 'admitabx_adm___13', 'admitabx_adm___14', 'admitabx_adm___15', 'admitabx_adm___16', 'admitabx_adm___17', 'admitabx_adm___18', 'admitabx_adm___19', 'admitabx_adm___20', 'admitabx_adm___21', 'bcgscar_adm', 'vaccmeasles_adm', 'vaccmeaslessource_adm', 'vaccpneumoc_adm', 'vaccpneumocsource_adm', 'vaccdpt_adm', 'vaccdptsource_adm', 'priorweekabx_adm', 'priorweekantimal_adm', 'symptoms_adm___1', 'symptoms_adm___2', 'symptoms_adm___3', 'symptoms_adm___4', 'symptoms_adm___5', 'symptoms_adm___6', 'symptoms_adm___7', 'symptoms_adm___8', 'symptoms_adm___9', 'symptoms_adm___10', 'symptoms_adm___11', 'symptoms_adm___12', 'symptoms_adm___13', 'symptoms_adm___14', 'symptoms_adm___15', 'symptoms_adm___16', 'symptoms_adm___17', 'symptoms_adm___18', 'comorbidity_adm___1', 'comorbidity_adm___2', 'comorbidity_adm___3', 'comorbidity_adm___4', 'comorbidity_adm___5', 'comorbidity_adm___6', 'comorbidity_adm___7', 'comorbidity_adm___8', 'comorbidity_adm___9', 'comorbidity_adm___10', 'comorbidity_adm___11', 'comorbidity_adm___12', 'priorhosp_adm', 'prioryearwheeze_adm', 'prioryearcough_adm', 'diarrheaoften_adm', 'tbcontact_adm', 'feedingst...\n\u001b[0m                                                                                                                                                                                                                                                                                                                                                                                                                                                                                                                                                                                                                                                                                                                                                                                                                                                                                                                                                                                                                                                                                                                                                                                                                                                                                                                                                                                                                                                                                                                                                     ...\n\u001b[0;31mSyntaxError\u001b[0m\u001b[0;31m:\u001b[0m incomplete input\n"
          ]
        }
      ],
      "source": [
        "dy=pd.get_dummies(dv,columns=['sex_adm','spo2onoxy_adm', 'oxygenavail_adm', 'respdistress_adm', 'caprefill_adm', 'admitabx_adm___1', 'admitabx_adm___2', 'admitabx_adm___3', 'admitabx_adm___4', 'admitabx_adm___5', 'admitabx_adm___6', 'admitabx_adm___7', 'admitabx_adm___8', 'admitabx_adm___9', 'admitabx_adm___10', 'admitabx_adm___11', 'admitabx_adm___12', 'admitabx_adm___13', 'admitabx_adm___14', 'admitabx_adm___15', 'admitabx_adm___16', 'admitabx_adm___17', 'admitabx_adm___18', 'admitabx_adm___19', 'admitabx_adm___20', 'admitabx_adm___21', 'bcgscar_adm', 'vaccmeasles_adm', 'vaccmeaslessource_adm', 'vaccpneumoc_adm', 'vaccpneumocsource_adm', 'vaccdpt_adm', 'vaccdptsource_adm', 'priorweekabx_adm', 'priorweekantimal_adm', 'symptoms_adm___1', 'symptoms_adm___2', 'symptoms_adm___3', 'symptoms_adm___4', 'symptoms_adm___5', 'symptoms_adm___6', 'symptoms_adm___7', 'symptoms_adm___8', 'symptoms_adm___9', 'symptoms_adm___10', 'symptoms_adm___11', 'symptoms_adm___12', 'symptoms_adm___13', 'symptoms_adm___14', 'symptoms_adm___15', 'symptoms_adm___16', 'symptoms_adm___17', 'symptoms_adm___18', 'comorbidity_adm___1', 'comorbidity_adm___2', 'comorbidity_adm___3', 'comorbidity_adm___4', 'comorbidity_adm___5', 'comorbidity_adm___6', 'comorbidity_adm___7', 'comorbidity_adm___8', 'comorbidity_adm___9', 'comorbidity_adm___10', 'comorbidity_adm___11', 'comorbidity_adm___12', 'priorhosp_adm', 'prioryearwheeze_adm', 'prioryearcough_adm', 'diarrheaoften_adm', 'tbcontact_adm', 'feedingstatus_adm', 'exclbreastfed_adm', 'totalbreastfed_adm', 'deliveryloc_adm', 'birthattend_adm', 'duedateknown_adm', 'birthdetail_adm___1', 'birthdetail_adm___2', 'birthdetail_adm___3', 'birthdetail_adm___4', 'birthdetail_adm___5', 'birthdetail_adm___6', 'travelmethod_adm', 'traveldist_adm', 'badhealthduration_adm', 'caregiverage_adm', 'caregivermarried_adm', 'momalive_adm', 'momageknown_adm', 'momagefirstpregknown_adm', 'momedu_adm', 'momhiv_adm', 'watersource_adm', 'waterpure_adm', 'cookfuel_adm___1', 'cookfuel_adm___2', 'cookfuel_adm___3', 'cookfuel_adm___4', 'cookfuel_adm___5', 'cookfuel_adm___6', 'cookfuel_adm___7', 'cookfuel_adm___8', 'cookloc_adm', 'lightfuel_adm', 'tobacco_adm', 'bednet_adm', 'hctpretransfusion_adm', 'hivstatus_adm', 'malariastatuspos_adm', 'caregiver_adm_new', 'agecat', 'muac_cat', 'temp_cat', 'breaths', 'hrcat', 'bpsys', 'bpdias', 'sats_cat', 'sats_cat2', 'whz']"
      ]
    },
    {
      "cell_type": "code",
      "execution_count": null,
      "metadata": {
        "id": "9N98ZuRLMYTK"
      },
      "outputs": [],
      "source": [
        "dj=pd.get_dummies(dh,columns=['sex_adm','spo2onoxy_adm', 'oxygenavail_adm', 'respdistress_adm', 'caprefill_adm', 'admitabx_adm___1', 'admitabx_adm___2', 'admitabx_adm___3', 'admitabx_adm___4', 'admitabx_adm___5', 'admitabx_adm___6', 'admitabx_adm___7', 'admitabx_adm___8', 'admitabx_adm___9', 'admitabx_adm___10', 'admitabx_adm___11', 'admitabx_adm___12', 'admitabx_adm___13', 'admitabx_adm___14', 'admitabx_adm___15', 'admitabx_adm___16', 'admitabx_adm___17', 'admitabx_adm___18', 'admitabx_adm___19', 'admitabx_adm___20', 'admitabx_adm___21', 'bcgscar_adm', 'vaccmeasles_adm', 'vaccmeaslessource_adm', 'vaccpneumoc_adm', 'vaccpneumocsource_adm', 'vaccdpt_adm', 'vaccdptsource_adm', 'priorweekabx_adm', 'priorweekantimal_adm', 'symptoms_adm___1', 'symptoms_adm___2', 'symptoms_adm___3', 'symptoms_adm___4', 'symptoms_adm___5', 'symptoms_adm___6', 'symptoms_adm___7', 'symptoms_adm___8', 'symptoms_adm___9', 'symptoms_adm___10', 'symptoms_adm___11', 'symptoms_adm___12', 'symptoms_adm___13', 'symptoms_adm___14', 'symptoms_adm___15', 'symptoms_adm___16', 'symptoms_adm___17', 'symptoms_adm___18', 'comorbidity_adm___1', 'comorbidity_adm___2', 'comorbidity_adm___3', 'comorbidity_adm___4', duration_adm', 'caregiverage_adm', 'caregivermarried_adm', 'momalive_adm', 'momageknown_adm', 'momagefirstpregknown_adm', 'momedu_adm', 'momhiv_adm', 'watersource_adm', 'waterpure_adm', 'cookfuel_adm___1', 'cookfuel_adm___2', 'cookfuel_adm___3', 'cookfuel_adm___4', 'cookfuel_adm___5', 'cookfuel_adm___6', 'cookfuel_adm___7', 'cookfuel_adm___8', 'cookloc_adm', 'lightfuel_adm', 'tobacco_adm', 'bednet_adm', 'hctpretransfusion_adm', 'hivstatus_adm', 'malariastatuspos_adm', 'caregiver_adm_new', 'agecat', 'muac_cat', 'temp_cat', 'breaths', 'hrcat', 'bpsys', 'bpdias', 'sats_cat', 'sats_cat2', 'bcs_cat', 'whz'])"
      ]
    },
    {
      "cell_type": "code",
      "execution_count": null,
      "metadata": {
        "id": "TEdQ-uu9MG10"
      },
      "outputs": [],
      "source": []
    },
    {
      "cell_type": "code",
      "execution_count": null,
      "metadata": {
        "id": "zkz0aVfZKJ-K"
      },
      "outputs": [],
      "source": [
        "dv_corr=dv.corr()\n",
        "dv_corr"
      ]
    },
    {
      "cell_type": "code",
      "execution_count": null,
      "metadata": {
        "id": "KdeBxTxv2sH1"
      },
      "outputs": [],
      "source": [
        "dv.isnull().sum()"
      ]
    },
    {
      "cell_type": "code",
      "execution_count": null,
      "metadata": {
        "id": "xJ72-dGu5scb"
      },
      "outputs": [],
      "source": [
        "from sklearn.model_selection import train_test_split\n",
        "from sklearn.linear_model import LogisticRegression\n",
        "\n",
        "x=dv.drop('inhospital_mortality',axis=1)\n",
        "y=dv['inhospital_mortality']\n",
        "x_train,x_test,y_train,y_test=train_test_split(x,y,test_size=0.2,random_state=42)"
      ]
    },
    {
      "cell_type": "markdown",
      "metadata": {
        "id": "GxbiElblEa8m"
      },
      "source": [
        "# Cross Tab"
      ]
    },
    {
      "cell_type": "code",
      "execution_count": null,
      "metadata": {
        "id": "5tk09V9uEfg_"
      },
      "outputs": [],
      "source": [
        "pd.crosstab(dv['hiv'],dv['inhospital_mortality'])"
      ]
    },
    {
      "cell_type": "code",
      "execution_count": null,
      "metadata": {
        "id": "Wt87HkDd5wt4"
      },
      "outputs": [],
      "source": []
    },
    {
      "cell_type": "markdown",
      "metadata": {
        "id": "heKhiD0GNJHY"
      },
      "source": [
        "### How many NAs"
      ]
    },
    {
      "cell_type": "code",
      "execution_count": null,
      "metadata": {
        "id": "XHh7X5MtNMNh"
      },
      "outputs": [],
      "source": [
        "dha.nonexclbreastfed_adm.isnull().sum()"
      ]
    },
    {
      "cell_type": "markdown",
      "metadata": {
        "id": "7rrdBd1uNWLz"
      },
      "source": [
        "### Subset to remove NAs"
      ]
    },
    {
      "cell_type": "code",
      "execution_count": null,
      "metadata": {
        "id": "HPbqQpXoNZCg"
      },
      "outputs": [],
      "source": [
        "dha.nonexclbreastfed_adm.dropna()"
      ]
    },
    {
      "cell_type": "code",
      "execution_count": null,
      "metadata": {
        "id": "bQzwj6_ysSOG"
      },
      "outputs": [],
      "source": [
        "dha.blantyre_score.dropna()"
      ]
    },
    {
      "cell_type": "code",
      "execution_count": null,
      "metadata": {
        "id": "MfdIN5y5sY8u"
      },
      "outputs": [],
      "source": [
        "dha.spo2other_adm.isnull().sum()"
      ]
    },
    {
      "cell_type": "code",
      "execution_count": null,
      "metadata": {
        "id": "1PQ2Xq30mir4"
      },
      "outputs": [],
      "source": [
        "df1['inhospital_mortality'].value_counts()"
      ]
    }
  ],
  "metadata": {
    "colab": {
      "provenance": [],
      "toc_visible": true,
      "authorship_tag": "ABX9TyOqYwafA/dJEbPV/YCn4BKg",
      "include_colab_link": true
    },
    "kernelspec": {
      "display_name": "Python 3",
      "name": "python3"
    },
    "language_info": {
      "name": "python"
    }
  },
  "nbformat": 4,
  "nbformat_minor": 0
}